{
  "cells": [
    {
      "cell_type": "markdown",
      "metadata": {
        "id": "view-in-github",
        "colab_type": "text"
      },
      "source": [
        "<a href=\"https://colab.research.google.com/github/shilpasy/Projects_partof_DataScienceFellowship_Python/blob/main/MachineLearning_assignment.ipynb\" target=\"_parent\"><img src=\"https://colab.research.google.com/assets/colab-badge.svg\" alt=\"Open In Colab\"/></a>"
      ]
    },
    {
      "cell_type": "code",
      "execution_count": null,
      "metadata": {
        "ExecuteTime": {
          "end_time": "2022-10-29T05:46:19.712099Z",
          "start_time": "2022-10-29T05:46:18.556330Z"
        },
        "id": "wEBTDwjJd2Ee"
      },
      "outputs": [],
      "source": [
        "import seaborn as sns\n",
        "sns.set()"
      ]
    },
    {
      "cell_type": "code",
      "execution_count": null,
      "metadata": {
        "ExecuteTime": {
          "end_time": "2022-10-29T05:46:19.982533Z",
          "start_time": "2022-10-29T05:46:19.714156Z"
        },
        "id": "22rlWKiKd2Eg"
      },
      "outputs": [],
      "source": [
        "from static_grader import grader\n",
        "import pandas as pd"
      ]
    },
    {
      "cell_type": "markdown",
      "metadata": {
        "id": "ZCbucO60d2Ei"
      },
      "source": [
        "# ML: Predicting Star Ratings\n"
      ]
    },
    {
      "cell_type": "markdown",
      "metadata": {
        "id": "4r6wAqYNd2Ek"
      },
      "source": [
        "Our objective is to predict a new venue's popularity from information available when the venue opens.  We will do this by machine learning from a data set of venue popularities provided by Yelp.  The data set contains meta data about the venue (where it is located, the type of food served, etc.).  It also contains a star rating. Note that the venues are not limited to restaurants. This tutorial will walk you through one way to build a machine learning algorithm.\n"
      ]
    },
    {
      "cell_type": "markdown",
      "metadata": {
        "id": "97to_GYFd2El"
      },
      "source": [
        "## Metrics and scoring"
      ]
    },
    {
      "cell_type": "markdown",
      "metadata": {
        "id": "JczvQdFmd2El"
      },
      "source": [
        "For most questions, you are asked to submit your models `predict` method to the grader. The grader uses a test set to evaluate your model's performance against our reference solution, using the $R^2$ score. It **is** possible to receive a score greater than one, indicating that you've beaten our reference model. We compare our model's score on a test set to your score on the same test set. See how high you can go!"
      ]
    },
    {
      "cell_type": "markdown",
      "metadata": {
        "id": "Du6ZZIYCd2Em"
      },
      "source": [
        "## Download and parse the incoming data\n"
      ]
    },
    {
      "cell_type": "markdown",
      "metadata": {
        "id": "rMveyGmad2En"
      },
      "source": [
        "We start by downloading the data set from Amazon S3:"
      ]
    },
    {
      "cell_type": "code",
      "execution_count": null,
      "metadata": {
        "ExecuteTime": {
          "end_time": "2022-10-29T04:24:20.965764Z",
          "start_time": "2022-10-29T04:24:19.391393Z"
        },
        "id": "2oXlgNMtd2Eo"
      },
      "outputs": [],
      "source": [
        "!aws s3 sync s3://dataincubator-course/mldata/ . --exclude '*' --include 'yelp_train_academic_dataset_business.json.gz'"
      ]
    },
    {
      "cell_type": "markdown",
      "metadata": {
        "id": "8H99-pbZd2Ep"
      },
      "source": [
        "The training data are a series of JSON objects, in a Gzipped file. Python supports Gzipped files natively: [`gzip.open`](https://docs.python.org/3/library/gzip.html) has the same interface as `open`, but handles `.gz` files automatically.\n",
        "\n",
        "The built-in `json` package has a `loads` function that converts a JSON string into a Python dictionary. We could call that once for each row of the file. [`ujson`](http://docs.micropython.org/en/latest/library/ujson.html) has the same interface as the built-in `json` package, but is *substantially* faster (at the cost of non-robust handling of malformed JSON). We will use that inside a list comprehension to get a list of dictionaries:"
      ]
    },
    {
      "cell_type": "code",
      "execution_count": null,
      "metadata": {
        "ExecuteTime": {
          "end_time": "2022-10-29T04:24:22.018319Z",
          "start_time": "2022-10-29T04:24:20.968941Z"
        },
        "id": "1ni20tS1d2Eq"
      },
      "outputs": [],
      "source": [
        "import ujson as json\n",
        "import gzip\n",
        "\n",
        "with gzip.open('yelp_train_academic_dataset_business.json.gz') as f:\n",
        "    data = [json.loads(line) for line in f]"
      ]
    },
    {
      "cell_type": "code",
      "execution_count": null,
      "metadata": {
        "ExecuteTime": {
          "end_time": "2022-10-29T04:24:22.025952Z",
          "start_time": "2022-10-29T04:24:22.020491Z"
        },
        "id": "o0xGdg0Ld2Er",
        "outputId": "a8435885-8d2e-42b4-8f6e-ef62549a2d71"
      },
      "outputs": [
        {
          "data": {
            "text/plain": [
              "{'business_id': 'vcNAWiLM4dR7D2nwwJ7nCA',\n",
              " 'full_address': '4840 E Indian School Rd\\nSte 101\\nPhoenix, AZ 85018',\n",
              " 'hours': {'Tuesday': {'close': '17:00', 'open': '08:00'},\n",
              "  'Friday': {'close': '17:00', 'open': '08:00'},\n",
              "  'Monday': {'close': '17:00', 'open': '08:00'},\n",
              "  'Wednesday': {'close': '17:00', 'open': '08:00'},\n",
              "  'Thursday': {'close': '17:00', 'open': '08:00'}},\n",
              " 'open': True,\n",
              " 'categories': ['Doctors', 'Health & Medical'],\n",
              " 'city': 'Phoenix',\n",
              " 'review_count': 7,\n",
              " 'name': 'Eric Goldberg, MD',\n",
              " 'neighborhoods': [],\n",
              " 'longitude': -111.983758,\n",
              " 'state': 'AZ',\n",
              " 'stars': 3.5,\n",
              " 'latitude': 33.499313,\n",
              " 'attributes': {'By Appointment Only': True},\n",
              " 'type': 'business'}"
            ]
          },
          "execution_count": 5,
          "metadata": {},
          "output_type": "execute_result"
        }
      ],
      "source": [
        "data[0]"
      ]
    },
    {
      "cell_type": "code",
      "execution_count": null,
      "metadata": {
        "ExecuteTime": {
          "end_time": "2022-10-29T04:24:22.291991Z",
          "start_time": "2022-10-29T04:24:22.027695Z"
        },
        "id": "-RGyhHkQd2Es",
        "outputId": "dee2f3df-c9b8-4ce8-cdfc-1ef77e692eb5"
      },
      "outputs": [
        {
          "data": {
            "text/html": [
              "<div>\n",
              "<style scoped>\n",
              "    .dataframe tbody tr th:only-of-type {\n",
              "        vertical-align: middle;\n",
              "    }\n",
              "\n",
              "    .dataframe tbody tr th {\n",
              "        vertical-align: top;\n",
              "    }\n",
              "\n",
              "    .dataframe thead th {\n",
              "        text-align: right;\n",
              "    }\n",
              "</style>\n",
              "<table border=\"1\" class=\"dataframe\">\n",
              "  <thead>\n",
              "    <tr style=\"text-align: right;\">\n",
              "      <th></th>\n",
              "      <th>business_id</th>\n",
              "      <th>full_address</th>\n",
              "      <th>hours</th>\n",
              "      <th>open</th>\n",
              "      <th>categories</th>\n",
              "      <th>city</th>\n",
              "      <th>review_count</th>\n",
              "      <th>name</th>\n",
              "      <th>neighborhoods</th>\n",
              "      <th>longitude</th>\n",
              "      <th>state</th>\n",
              "      <th>stars</th>\n",
              "      <th>latitude</th>\n",
              "      <th>attributes</th>\n",
              "      <th>type</th>\n",
              "    </tr>\n",
              "  </thead>\n",
              "  <tbody>\n",
              "    <tr>\n",
              "      <th>0</th>\n",
              "      <td>vcNAWiLM4dR7D2nwwJ7nCA</td>\n",
              "      <td>4840 E Indian School Rd\\nSte 101\\nPhoenix, AZ ...</td>\n",
              "      <td>{'Tuesday': {'close': '17:00', 'open': '08:00'...</td>\n",
              "      <td>True</td>\n",
              "      <td>[Doctors, Health &amp; Medical]</td>\n",
              "      <td>Phoenix</td>\n",
              "      <td>7</td>\n",
              "      <td>Eric Goldberg, MD</td>\n",
              "      <td>[]</td>\n",
              "      <td>-111.983758</td>\n",
              "      <td>AZ</td>\n",
              "      <td>3.5</td>\n",
              "      <td>33.499313</td>\n",
              "      <td>{'By Appointment Only': True}</td>\n",
              "      <td>business</td>\n",
              "    </tr>\n",
              "    <tr>\n",
              "      <th>1</th>\n",
              "      <td>JwUE5GmEO-sH1FuwJgKBlQ</td>\n",
              "      <td>6162 US Highway 51\\nDe Forest, WI 53532</td>\n",
              "      <td>{}</td>\n",
              "      <td>True</td>\n",
              "      <td>[Restaurants]</td>\n",
              "      <td>De Forest</td>\n",
              "      <td>26</td>\n",
              "      <td>Pine Cone Restaurant</td>\n",
              "      <td>[]</td>\n",
              "      <td>-89.335844</td>\n",
              "      <td>WI</td>\n",
              "      <td>4.0</td>\n",
              "      <td>43.238893</td>\n",
              "      <td>{'Take-out': True, 'Good For': {'dessert': Fal...</td>\n",
              "      <td>business</td>\n",
              "    </tr>\n",
              "    <tr>\n",
              "      <th>2</th>\n",
              "      <td>uGykseHzyS5xAMWoN6YUqA</td>\n",
              "      <td>505 W North St\\nDe Forest, WI 53532</td>\n",
              "      <td>{'Monday': {'close': '22:00', 'open': '06:00'}...</td>\n",
              "      <td>True</td>\n",
              "      <td>[American (Traditional), Restaurants]</td>\n",
              "      <td>De Forest</td>\n",
              "      <td>16</td>\n",
              "      <td>Deforest Family Restaurant</td>\n",
              "      <td>[]</td>\n",
              "      <td>-89.353437</td>\n",
              "      <td>WI</td>\n",
              "      <td>4.0</td>\n",
              "      <td>43.252267</td>\n",
              "      <td>{'Take-out': True, 'Good For': {'dessert': Fal...</td>\n",
              "      <td>business</td>\n",
              "    </tr>\n",
              "    <tr>\n",
              "      <th>3</th>\n",
              "      <td>LRKJF43s9-3jG9Lgx4zODg</td>\n",
              "      <td>4910 County Rd V\\nDe Forest, WI 53532</td>\n",
              "      <td>{'Monday': {'close': '22:00', 'open': '10:30'}...</td>\n",
              "      <td>True</td>\n",
              "      <td>[Food, Ice Cream &amp; Frozen Yogurt, Fast Food, R...</td>\n",
              "      <td>De Forest</td>\n",
              "      <td>7</td>\n",
              "      <td>Culver's</td>\n",
              "      <td>[]</td>\n",
              "      <td>-89.374983</td>\n",
              "      <td>WI</td>\n",
              "      <td>4.5</td>\n",
              "      <td>43.251045</td>\n",
              "      <td>{'Take-out': True, 'Wi-Fi': 'free', 'Takes Res...</td>\n",
              "      <td>business</td>\n",
              "    </tr>\n",
              "    <tr>\n",
              "      <th>4</th>\n",
              "      <td>RgDg-k9S5YD_BaxMckifkg</td>\n",
              "      <td>631 S Main St\\nDe Forest, WI 53532</td>\n",
              "      <td>{'Monday': {'close': '22:00', 'open': '11:00'}...</td>\n",
              "      <td>True</td>\n",
              "      <td>[Chinese, Restaurants]</td>\n",
              "      <td>De Forest</td>\n",
              "      <td>3</td>\n",
              "      <td>Chang Jiang Chinese Kitchen</td>\n",
              "      <td>[]</td>\n",
              "      <td>-89.343722</td>\n",
              "      <td>WI</td>\n",
              "      <td>4.0</td>\n",
              "      <td>43.240875</td>\n",
              "      <td>{'Take-out': True, 'Has TV': False, 'Outdoor S...</td>\n",
              "      <td>business</td>\n",
              "    </tr>\n",
              "  </tbody>\n",
              "</table>\n",
              "</div>"
            ],
            "text/plain": [
              "              business_id                                       full_address  \\\n",
              "0  vcNAWiLM4dR7D2nwwJ7nCA  4840 E Indian School Rd\\nSte 101\\nPhoenix, AZ ...   \n",
              "1  JwUE5GmEO-sH1FuwJgKBlQ            6162 US Highway 51\\nDe Forest, WI 53532   \n",
              "2  uGykseHzyS5xAMWoN6YUqA                505 W North St\\nDe Forest, WI 53532   \n",
              "3  LRKJF43s9-3jG9Lgx4zODg              4910 County Rd V\\nDe Forest, WI 53532   \n",
              "4  RgDg-k9S5YD_BaxMckifkg                 631 S Main St\\nDe Forest, WI 53532   \n",
              "\n",
              "                                               hours  open  \\\n",
              "0  {'Tuesday': {'close': '17:00', 'open': '08:00'...  True   \n",
              "1                                                 {}  True   \n",
              "2  {'Monday': {'close': '22:00', 'open': '06:00'}...  True   \n",
              "3  {'Monday': {'close': '22:00', 'open': '10:30'}...  True   \n",
              "4  {'Monday': {'close': '22:00', 'open': '11:00'}...  True   \n",
              "\n",
              "                                          categories       city  review_count  \\\n",
              "0                        [Doctors, Health & Medical]    Phoenix             7   \n",
              "1                                      [Restaurants]  De Forest            26   \n",
              "2              [American (Traditional), Restaurants]  De Forest            16   \n",
              "3  [Food, Ice Cream & Frozen Yogurt, Fast Food, R...  De Forest             7   \n",
              "4                             [Chinese, Restaurants]  De Forest             3   \n",
              "\n",
              "                          name neighborhoods   longitude state  stars  \\\n",
              "0            Eric Goldberg, MD            [] -111.983758    AZ    3.5   \n",
              "1         Pine Cone Restaurant            []  -89.335844    WI    4.0   \n",
              "2   Deforest Family Restaurant            []  -89.353437    WI    4.0   \n",
              "3                     Culver's            []  -89.374983    WI    4.5   \n",
              "4  Chang Jiang Chinese Kitchen            []  -89.343722    WI    4.0   \n",
              "\n",
              "    latitude                                         attributes      type  \n",
              "0  33.499313                      {'By Appointment Only': True}  business  \n",
              "1  43.238893  {'Take-out': True, 'Good For': {'dessert': Fal...  business  \n",
              "2  43.252267  {'Take-out': True, 'Good For': {'dessert': Fal...  business  \n",
              "3  43.251045  {'Take-out': True, 'Wi-Fi': 'free', 'Takes Res...  business  \n",
              "4  43.240875  {'Take-out': True, 'Has TV': False, 'Outdoor S...  business  "
            ]
          },
          "execution_count": 6,
          "metadata": {},
          "output_type": "execute_result"
        }
      ],
      "source": [
        "mainDF = pd.DataFrame(data=data)\n",
        "mainDF.head()"
      ]
    },
    {
      "cell_type": "markdown",
      "metadata": {
        "id": "qcVJAzZVd2Es"
      },
      "source": [
        "In scikit-learn, the labels to be predicted, in this case, the stars, are always kept in a separate data structure than the features. Let's get in this habit now, by creating a separate list of the ratings."
      ]
    },
    {
      "cell_type": "code",
      "execution_count": null,
      "metadata": {
        "ExecuteTime": {
          "end_time": "2022-10-29T04:24:22.389758Z",
          "start_time": "2022-10-29T04:24:22.293832Z"
        },
        "id": "YEQF8Pvrd2Et"
      },
      "outputs": [],
      "source": [
        "star_ratings = [row['stars'] for row in data]"
      ]
    },
    {
      "cell_type": "code",
      "execution_count": null,
      "metadata": {
        "ExecuteTime": {
          "end_time": "2022-10-29T04:24:22.540619Z",
          "start_time": "2022-10-29T04:24:22.392138Z"
        },
        "id": "LP2A8w7ad2Et"
      },
      "outputs": [],
      "source": [
        "#len(star_ratings)"
      ]
    },
    {
      "cell_type": "markdown",
      "metadata": {
        "id": "1cuaJhmEd2Et"
      },
      "source": [
        "A few things to consider:"
      ]
    },
    {
      "cell_type": "markdown",
      "metadata": {
        "id": "Rt-rwOE9d2Eu"
      },
      "source": [
        "1. The test set used by the grader will be in the same form as `data`. For this miniproject, it will be a list of dictionaries. The models you will build will need to handle data of this type; we'll discuss this more further in the questions.\n",
        "1. You may find it useful to serialize your trained model using either [`dill`](https://pypi.python.org/pypi/dill) or [`joblib`](http://scikit-learn.org/stable/modules/model_persistence.html). That way, you can reload your model after restarting the Jupyter notebook without needing to retrain it.\n",
        "1. There are obvious mistakes in the data; there is no need to try to correct them."
      ]
    },
    {
      "cell_type": "markdown",
      "metadata": {
        "id": "yMoP1qfSd2Eu"
      },
      "source": [
        "# Questions\n"
      ]
    },
    {
      "cell_type": "markdown",
      "metadata": {
        "id": "D6WeqmGkd2Eu"
      },
      "source": [
        "## Question 1: city_avg"
      ]
    },
    {
      "cell_type": "markdown",
      "metadata": {
        "id": "XQzJslCwd2Ev"
      },
      "source": [
        "The venues belong to different cities.  You can imagine that the ratings in some cities are probably higher than others.  We wish to build an estimator to make a prediction based on this, but first we need to work out the average rating for each city.  For this problem, create a list of tuples (city name, star rating), one for each city in the data set. There are many ways to do this; please feel free to experiment on your own.  If you get stuck, the steps below attempt to guide you through the process.\n",
        "\n",
        "A simple approach is to go through all of the dictionaries in our array, calculating the sum of the star ratings and the number of venues for each city. At the end, we can just divide the stars by the count to get the average. We could create a separate sum and count variable for each city, but that will get tedious quickly. A better approach is to create a dictionary for each. The key will be the city name, and the value the running sum or running count.\n",
        "\n",
        "One slight annoyance of this approach is that we will have to test whether a key exists in the dictionary before adding to the running tally.  The `collections` module's `defaultdict` class works around this by providing default values for keys that haven't been used. Thus, if we do"
      ]
    },
    {
      "cell_type": "code",
      "execution_count": null,
      "metadata": {
        "ExecuteTime": {
          "end_time": "2022-10-29T04:24:22.549458Z",
          "start_time": "2022-10-29T04:24:22.542939Z"
        },
        "id": "amfpz8u1d2Ev"
      },
      "outputs": [],
      "source": [
        "from collections import defaultdict\n",
        "\n",
        "star_sum = defaultdict(int)\n",
        "count = defaultdict(int)"
      ]
    },
    {
      "cell_type": "markdown",
      "metadata": {
        "id": "rFritaUGd2Ev"
      },
      "source": [
        "we can increment any key of `star_sum` or `count` without first worrying whether the key exists. We need to go through the `data` and `star_ratings` list together, which we can do with the `zip` function."
      ]
    },
    {
      "cell_type": "code",
      "execution_count": null,
      "metadata": {
        "ExecuteTime": {
          "end_time": "2022-10-29T04:24:22.696881Z",
          "start_time": "2022-10-29T04:24:22.552770Z"
        },
        "id": "P110bOKfd2Ew"
      },
      "outputs": [],
      "source": [
        "#limit = 0\n",
        "#checksumstar = 0\n",
        "\n",
        "for row, stars in zip(data, star_ratings):\n",
        "    #if (row['city'] == 'Phoenix'):\n",
        "    #    limit += 1\n",
        "    #    checksumstar = checksumstar + stars\n",
        "    if row['city'] not in count:\n",
        "        count[row['city']] = 1\n",
        "        star_sum[row['city']] = stars\n",
        "    else:\n",
        "        count[row['city']] += 1\n",
        "        star_sum[row['city']] = star_sum[row['city']] + stars"
      ]
    },
    {
      "cell_type": "code",
      "execution_count": null,
      "metadata": {
        "ExecuteTime": {
          "end_time": "2022-10-29T04:24:22.701677Z",
          "start_time": "2022-10-29T04:24:22.699382Z"
        },
        "id": "8P3CvOLSd2Ew"
      },
      "outputs": [],
      "source": [
        "#for row, stars in zip(data, star_ratings):\n",
        "#    print(row['city'])\n",
        "#    break"
      ]
    },
    {
      "cell_type": "markdown",
      "metadata": {
        "id": "sx0O3xoTd2Ew"
      },
      "source": [
        "Now we can calculate the average ratings.  Again, a dictionary makes a good container."
      ]
    },
    {
      "cell_type": "code",
      "execution_count": null,
      "metadata": {
        "ExecuteTime": {
          "end_time": "2022-10-29T04:24:22.707572Z",
          "start_time": "2022-10-29T04:24:22.703732Z"
        },
        "id": "ZlqM2y7Od2Ew"
      },
      "outputs": [],
      "source": [
        "avg_stars = dict()\n",
        "for k, v in star_sum.items():\n",
        "    #print (\"k,v, count['k']\", k,v, count[k] )\n",
        "    #print(v/count[k])\n",
        "    avg_stars[k] = v/count[k]"
      ]
    },
    {
      "cell_type": "markdown",
      "metadata": {
        "id": "l7gMLitpd2Ex"
      },
      "source": [
        "There should be 167 different cities:"
      ]
    },
    {
      "cell_type": "code",
      "execution_count": null,
      "metadata": {
        "ExecuteTime": {
          "end_time": "2022-10-29T04:24:22.715096Z",
          "start_time": "2022-10-29T04:24:22.709602Z"
        },
        "id": "AVyFnOgmd2Ex",
        "outputId": "562e7f1e-5c3c-4af6-b7e1-91d489462aae"
      },
      "outputs": [
        {
          "data": {
            "text/plain": [
              "True"
            ]
          },
          "execution_count": 13,
          "metadata": {},
          "output_type": "execute_result"
        }
      ],
      "source": [
        "# Check to see that we have 167 entries in the dictionary.\n",
        "grader.check(len(avg_stars) == 167)"
      ]
    },
    {
      "cell_type": "markdown",
      "metadata": {
        "id": "rXLxYmhyd2Ex"
      },
      "source": [
        "We can get that list of tuples by converting the returned view object from the `items` method into a list."
      ]
    },
    {
      "cell_type": "code",
      "execution_count": null,
      "metadata": {
        "ExecuteTime": {
          "end_time": "2022-10-29T04:24:23.023199Z",
          "start_time": "2022-10-29T04:24:22.716845Z"
        },
        "id": "oRs46KWld2Ex",
        "outputId": "f4a5ddae-a5bc-49c6-8511-0d28d36323f6"
      },
      "outputs": [
        {
          "name": "stdout",
          "output_type": "stream",
          "text": [
            "==================\n",
            "Your score: 1.0000\n",
            "==================\n"
          ]
        }
      ],
      "source": [
        "grader.score('ml__city_avg', list(avg_stars.items()))"
      ]
    },
    {
      "cell_type": "markdown",
      "metadata": {
        "id": "F0cT6t9Td2Ey"
      },
      "source": [
        "## Question 2: city_model"
      ]
    },
    {
      "cell_type": "markdown",
      "metadata": {
        "id": "1mfrG0jjd2Ey"
      },
      "source": [
        "Now, let's build a custom estimator that will make a prediction based solely on the city of a venue.  It is tempting to hard-code the answers from the previous section into this model, but we're going to resist and do things properly.\n",
        "\n",
        "This custom estimator will have a `fit` method.  It will receive `data` as its argument `X` and `star_ratings` as `y`, and should repeat the calculation of the previous problem there.  Then the `predict` method can look up the average rating for the city of each record it receives."
      ]
    },
    {
      "cell_type": "code",
      "execution_count": null,
      "metadata": {
        "ExecuteTime": {
          "end_time": "2022-10-29T04:24:23.031021Z",
          "start_time": "2022-10-29T04:24:23.025293Z"
        },
        "id": "blUrxayzd2Ey"
      },
      "outputs": [],
      "source": [
        "from sklearn.base import BaseEstimator, RegressorMixin\n",
        "\n",
        "class CityRegressor(BaseEstimator, RegressorMixin):\n",
        "\n",
        "    def __init__(self):\n",
        "        self.avg_stars = dict()\n",
        "\n",
        "    def fit(self, X, y):\n",
        "        # Store the average rating per city in self.avg_stars\n",
        "        # self.avg_stars = avg_stars **** why can't we do this ?\n",
        "\n",
        "        star_sum = defaultdict(int)\n",
        "        count = defaultdict(int)\n",
        "\n",
        "        for row, stars in zip(X, y):\n",
        "            if row['city'] not in count:\n",
        "                count[row['city']] = 1\n",
        "                star_sum[row['city']] = stars\n",
        "            else:\n",
        "                count[row['city']] += 1\n",
        "                star_sum[row['city']] = star_sum[row['city']] + stars\n",
        "\n",
        "        for k, v in star_sum.items():\n",
        "            avg_stars[k] = v/count[k]\n",
        "\n",
        "        self.avg_stars = avg_stars\n",
        "\n",
        "        return self\n",
        "\n",
        "    def predict(self, X):\n",
        "        ans = []\n",
        "        for row in X:\n",
        "            if row['city'] not in avg_stars:\n",
        "                ans.append(0)\n",
        "            else:\n",
        "                ans.append(self.avg_stars[row['city']])\n",
        "\n",
        "        return ans"
      ]
    },
    {
      "cell_type": "markdown",
      "metadata": {
        "id": "SsSTLtrkd2Ez"
      },
      "source": [
        "Now we can create an instance of our regressor and train it."
      ]
    },
    {
      "cell_type": "code",
      "execution_count": null,
      "metadata": {
        "ExecuteTime": {
          "end_time": "2022-10-29T04:24:23.107803Z",
          "start_time": "2022-10-29T04:24:23.032904Z"
        },
        "id": "6JuC0C6pd2Ez",
        "outputId": "1a10e402-acba-4b85-d601-1a93f079c6f6"
      },
      "outputs": [
        {
          "data": {
            "text/plain": [
              "CityRegressor()"
            ]
          },
          "execution_count": 16,
          "metadata": {},
          "output_type": "execute_result"
        }
      ],
      "source": [
        "city_model = CityRegressor()\n",
        "city_model.fit(data, star_ratings)"
      ]
    },
    {
      "cell_type": "markdown",
      "metadata": {
        "id": "wlM3SL_Td2Ez"
      },
      "source": [
        "And let's see if it works."
      ]
    },
    {
      "cell_type": "code",
      "execution_count": null,
      "metadata": {
        "ExecuteTime": {
          "end_time": "2022-10-29T04:24:23.113665Z",
          "start_time": "2022-10-29T04:24:23.109960Z"
        },
        "id": "vU92OMTmd2Ez",
        "outputId": "a5a29e77-2d61-448f-e541-1e9dc6c0759a"
      },
      "outputs": [
        {
          "data": {
            "text/plain": [
              "[3.6702903946388683, 3.75, 3.75, 3.75, 3.75]"
            ]
          },
          "execution_count": 17,
          "metadata": {},
          "output_type": "execute_result"
        }
      ],
      "source": [
        "city_model.predict(data[:5])"
      ]
    },
    {
      "cell_type": "code",
      "execution_count": null,
      "metadata": {
        "ExecuteTime": {
          "end_time": "2022-10-29T04:24:23.230285Z",
          "start_time": "2022-10-29T04:24:23.115516Z"
        },
        "id": "uU2yF1xjd2E0"
      },
      "outputs": [],
      "source": [
        "X = data[:5]"
      ]
    },
    {
      "cell_type": "markdown",
      "metadata": {
        "id": "kJGcrc6Cd2E0"
      },
      "source": [
        "There is a problem, however.  What happens if we're asked to estimate the rating of a venue in a city that's not in our training set?"
      ]
    },
    {
      "cell_type": "code",
      "execution_count": null,
      "metadata": {
        "ExecuteTime": {
          "end_time": "2022-10-29T04:24:23.243603Z",
          "start_time": "2022-10-29T04:24:23.232022Z"
        },
        "id": "_B2OwEJ7d2E0",
        "outputId": "b1ece748-a9e3-4ae6-a43a-0d49a7b4ad3f"
      },
      "outputs": [
        {
          "data": {
            "text/plain": [
              "[3.6702903946388683, 0, 3.6457337883959045]"
            ]
          },
          "execution_count": 19,
          "metadata": {},
          "output_type": "execute_result"
        }
      ],
      "source": [
        "city_model.predict([{'city': 'Phoenix'}, {'city': 'Timbuktu'}, {'city': 'Madison'}])"
      ]
    },
    {
      "cell_type": "markdown",
      "metadata": {
        "id": "cEWkgcPld2E0"
      },
      "source": [
        "Your model should always return a number, even if the city was not in the training data. Make sure it does before submitting your model's predict method to the grader."
      ]
    },
    {
      "cell_type": "code",
      "execution_count": null,
      "metadata": {
        "ExecuteTime": {
          "end_time": "2022-10-29T04:24:23.695311Z",
          "start_time": "2022-10-29T04:24:23.245427Z"
        },
        "id": "OQNkxI3Ud2E1",
        "outputId": "c42e86dc-2f64-413e-8777-a5c7399ab2be"
      },
      "outputs": [
        {
          "name": "stdout",
          "output_type": "stream",
          "text": [
            "==================\n",
            "Your score: 0.9937\n",
            "==================\n"
          ]
        }
      ],
      "source": [
        "grader.score('ml__city_model', city_model.predict)"
      ]
    },
    {
      "cell_type": "markdown",
      "metadata": {
        "id": "czW-kNZ6d2E1"
      },
      "source": [
        "## Question 3: lat_long_model"
      ]
    },
    {
      "cell_type": "markdown",
      "metadata": {
        "id": "GwyUHOZdd2E1"
      },
      "source": [
        "You can imagine that a city-based model might not be sufficiently fine-grained. For example, we know that some neighborhoods are trendier than others.  Use the latitude and longitude of a venue as features that help you understand neighborhood dynamics.\n",
        "\n",
        "Since we need to select the appropriate columns from our dictionaries to build our latitude-longitude model, we will have to use scikit-learn's [`ColumnTransformer`](https://scikit-learn.org/stable/modules/generated/sklearn.compose.ColumnTransformer.html). However, the `ColumnTransformer` works with either NumPy arrays or pandas data frames. While we can convert our training data into a data frame easily, the test set the grader uses is a list of dictionaries. Thus, our first estimator in our workflow should be a transformer that converts a list of dictionaries into a pandas data frame."
      ]
    },
    {
      "cell_type": "code",
      "execution_count": null,
      "metadata": {
        "ExecuteTime": {
          "end_time": "2022-10-29T04:24:23.701044Z",
          "start_time": "2022-10-29T04:24:23.697437Z"
        },
        "id": "99B7b07Fd2E1"
      },
      "outputs": [],
      "source": [
        "import pandas as pd\n",
        "from sklearn.base import TransformerMixin\n",
        "\n",
        "class ToDataFrame(BaseEstimator, TransformerMixin):\n",
        "    def fit(self, X, y=None):\n",
        "        # This transformer doesn't need to learn anything about the data,\n",
        "        # so it can just return self without any further processing\n",
        "        return self\n",
        "\n",
        "    def transform(self, X):\n",
        "        # Return a pandas data frame from X\n",
        "        df_data = pd.DataFrame(X)\n",
        "        return df_data"
      ]
    },
    {
      "cell_type": "markdown",
      "metadata": {
        "id": "D-rAQOZkd2E2"
      },
      "source": [
        "Let's test out the transformer."
      ]
    },
    {
      "cell_type": "code",
      "execution_count": null,
      "metadata": {
        "ExecuteTime": {
          "end_time": "2022-10-29T04:24:23.714053Z",
          "start_time": "2022-10-29T04:24:23.702750Z"
        },
        "id": "bLAEV43Yd2E2",
        "outputId": "b87b49af-6978-4d82-de65-d68cbfb90518"
      },
      "outputs": [
        {
          "data": {
            "text/plain": [
              "True"
            ]
          },
          "execution_count": 22,
          "metadata": {},
          "output_type": "execute_result"
        }
      ],
      "source": [
        "to_data_frame = ToDataFrame()\n",
        "X_t = to_data_frame.fit_transform(data[:5])\n",
        "\n",
        "# Check that our transformer properly transform the input data into a data frame\n",
        "grader.check((X_t == pd.DataFrame(data[:5])).all(axis=None))"
      ]
    },
    {
      "cell_type": "markdown",
      "metadata": {
        "id": "y1VZoVEfd2E3"
      },
      "source": [
        "Now we are ready to use `ColumnTransformer` and test it out."
      ]
    },
    {
      "cell_type": "code",
      "execution_count": null,
      "metadata": {
        "ExecuteTime": {
          "end_time": "2022-10-29T04:24:23.730390Z",
          "start_time": "2022-10-29T04:24:23.715784Z"
        },
        "id": "Saah_oGZd2E3",
        "outputId": "d9fbedf2-32bb-4b3f-9e52-800d29c4c30e"
      },
      "outputs": [
        {
          "data": {
            "text/plain": [
              "True"
            ]
          },
          "execution_count": 23,
          "metadata": {},
          "output_type": "execute_result"
        }
      ],
      "source": [
        "import numpy as np\n",
        "from sklearn.compose import ColumnTransformer\n",
        "\n",
        "numeric_columns = ['latitude', 'longitude']\n",
        "selector = ColumnTransformer([('numeric','passthrough', numeric_columns)])\n",
        "\n",
        "expected = np.array([data[0]['latitude'], data[0]['longitude']])\n",
        "# Check that our selector returns just two columns, the latitude and longitude\n",
        "grader.check((selector.fit_transform(X_t)[0] == expected).all())"
      ]
    },
    {
      "cell_type": "code",
      "execution_count": null,
      "metadata": {
        "ExecuteTime": {
          "end_time": "2022-10-29T04:24:23.736815Z",
          "start_time": "2022-10-29T04:24:23.731973Z"
        },
        "id": "x8n0rhFXd2E3",
        "outputId": "52b0dc45-7d5e-4633-c582-cf0ff1c4d6d7"
      },
      "outputs": [
        {
          "data": {
            "text/plain": [
              "array([[  33.499313 , -111.983758 ],\n",
              "       [  43.238893 ,  -89.335844 ],\n",
              "       [  43.252267 ,  -89.353437 ],\n",
              "       [  43.251045 ,  -89.374983 ],\n",
              "       [  43.2408748,  -89.3437217]])"
            ]
          },
          "execution_count": 24,
          "metadata": {},
          "output_type": "execute_result"
        }
      ],
      "source": [
        "selector.fit_transform(X_t)"
      ]
    },
    {
      "cell_type": "markdown",
      "metadata": {
        "id": "HMy0aYq0d2E4"
      },
      "source": [
        "Now, let's feed the output of the transformer in to a `KNeighborsRegressor`. As a sanity check, we'll test it with the first 5 rows."
      ]
    },
    {
      "cell_type": "code",
      "execution_count": null,
      "metadata": {
        "ExecuteTime": {
          "end_time": "2022-10-29T04:24:24.071829Z",
          "start_time": "2022-10-29T04:24:23.738361Z"
        },
        "id": "miMZJwyfd2E4",
        "outputId": "d04420e9-6a7e-40ce-da1f-e9e8e426fbb4"
      },
      "outputs": [
        {
          "data": {
            "text/plain": [
              "array([4. , 4.2, 4. , 3.8, 4.2])"
            ]
          },
          "execution_count": 25,
          "metadata": {},
          "output_type": "execute_result"
        }
      ],
      "source": [
        "from sklearn.neighbors import KNeighborsRegressor\n",
        "\n",
        "# Training the model\n",
        "data_transform = to_data_frame.transform(data)\n",
        "data_transform = selector.fit_transform(data_transform)\n",
        "knn = KNeighborsRegressor(n_neighbors=5)\n",
        "knn.fit(data_transform, star_ratings)\n",
        "\n",
        "# Making predictions\n",
        "test_data = data[:5]\n",
        "test_data_transform = to_data_frame.transform(test_data)\n",
        "test_data_transform = selector.transform(test_data_transform)\n",
        "knn.predict(test_data_transform)"
      ]
    },
    {
      "cell_type": "markdown",
      "metadata": {
        "id": "BBA6RtnDd2E5"
      },
      "source": [
        "We are not ready to submit to the grader; there are two things we still need to do:\n",
        "1. Wrap all the steps necessary to go from our data (list of dictionaries) to predicted ratings\n",
        "1. Determine the optimal value for our predictor's hyperparameter\n",
        "\n",
        "For the first point, we will use a pipeline, ensuring that our model applies all the required transformations given the form of the input data. Remember that a pipeline is made with a list of `(step_name, estimator)` tuples."
      ]
    },
    {
      "cell_type": "code",
      "execution_count": null,
      "metadata": {
        "ExecuteTime": {
          "end_time": "2022-10-29T04:24:24.076739Z",
          "start_time": "2022-10-29T04:24:24.073832Z"
        },
        "id": "qx25_DGLd2E5"
      },
      "outputs": [],
      "source": [
        "from sklearn.pipeline import Pipeline\n",
        "\n",
        "pipe = Pipeline ([\n",
        "    ('to_data_frame', to_data_frame),\n",
        "    ('selector', selector),\n",
        "    ('knn', knn)\n",
        "])"
      ]
    },
    {
      "cell_type": "code",
      "execution_count": null,
      "metadata": {
        "ExecuteTime": {
          "end_time": "2022-10-29T04:24:24.235180Z",
          "start_time": "2022-10-29T04:24:24.078675Z"
        },
        "id": "yiNGs8mNd2E5",
        "outputId": "d5d4f988-1dd8-4a47-dcf9-24523ea2a7e7"
      },
      "outputs": [
        {
          "data": {
            "text/plain": [
              "{'memory': None,\n",
              " 'steps': [('to_data_frame', ToDataFrame()),\n",
              "  ('selector',\n",
              "   ColumnTransformer(transformers=[('numeric', 'passthrough',\n",
              "                                    ['latitude', 'longitude'])])),\n",
              "  ('knn', KNeighborsRegressor())],\n",
              " 'verbose': False,\n",
              " 'to_data_frame': ToDataFrame(),\n",
              " 'selector': ColumnTransformer(transformers=[('numeric', 'passthrough',\n",
              "                                  ['latitude', 'longitude'])]),\n",
              " 'knn': KNeighborsRegressor(),\n",
              " 'selector__n_jobs': None,\n",
              " 'selector__remainder': 'drop',\n",
              " 'selector__sparse_threshold': 0.3,\n",
              " 'selector__transformer_weights': None,\n",
              " 'selector__transformers': [('numeric',\n",
              "   'passthrough',\n",
              "   ['latitude', 'longitude'])],\n",
              " 'selector__verbose': False,\n",
              " 'selector__verbose_feature_names_out': True,\n",
              " 'selector__numeric': 'passthrough',\n",
              " 'knn__algorithm': 'auto',\n",
              " 'knn__leaf_size': 30,\n",
              " 'knn__metric': 'minkowski',\n",
              " 'knn__metric_params': None,\n",
              " 'knn__n_jobs': None,\n",
              " 'knn__n_neighbors': 5,\n",
              " 'knn__p': 2,\n",
              " 'knn__weights': 'uniform'}"
            ]
          },
          "execution_count": 27,
          "metadata": {},
          "output_type": "execute_result"
        }
      ],
      "source": [
        "pipe.get_params()"
      ]
    },
    {
      "cell_type": "markdown",
      "metadata": {
        "id": "YXhZiOIzd2E5"
      },
      "source": [
        "Now let's fit and predict."
      ]
    },
    {
      "cell_type": "code",
      "execution_count": null,
      "metadata": {
        "ExecuteTime": {
          "end_time": "2022-10-29T04:24:24.395171Z",
          "start_time": "2022-10-29T04:24:24.242804Z"
        },
        "id": "APHFTcrnd2E5",
        "outputId": "8e79c929-3373-4750-82f0-d3edb39e691f"
      },
      "outputs": [
        {
          "data": {
            "text/plain": [
              "array([4. , 4.2, 4. , 3.8, 4.2])"
            ]
          },
          "execution_count": 28,
          "metadata": {},
          "output_type": "execute_result"
        }
      ],
      "source": [
        "pipe.fit(data, star_ratings)\n",
        "pipe.predict(data[:5])"
      ]
    },
    {
      "cell_type": "markdown",
      "metadata": {
        "id": "syDsvi7Nd2E6"
      },
      "source": [
        "Let's now focus on the second point. The `KNeighborsRegressor` takes the `n_neighbors` hyperparameter, which tells it how many nearest neighbors to average together when making a prediction. There is no reason to believe that 5 is the optimum value. We will need to determine a better value for this hyperparameter. A common approach is to use a hyperparameter searching tool such as [`GridSearchCV`](http://scikit-learn.org/stable/modules/generated/sklearn.model_selection.GridSearchCV.html#sklearn.model_selection.GridSearchCV). You may need to refer back to the notebooks about the ways to interface searching tools and pipelines."
      ]
    },
    {
      "cell_type": "markdown",
      "metadata": {
        "id": "vgnnzHQed2E6"
      },
      "source": [
        "You should consider whether the data needs to be shuffled as it might not have been randomized. For example, the data could be ordered by a certain feature or by the labels. If you perform a train/test split with [`train_test_split`](http://scikit-learn.org/stable/modules/generated/sklearn.model_selection.train_test_split.html#sklearn.model_selection.train_test_split), the data is shuffled by default. However, when using `GridSearchCV`, the folds are not shuffled when you use the default K-folds cross-validation.\n",
        "\n",
        "The code below will plot a rolling mean of the star ratings. Do you need to shuffle the data?"
      ]
    },
    {
      "cell_type": "code",
      "execution_count": null,
      "metadata": {
        "ExecuteTime": {
          "end_time": "2022-10-29T04:24:24.656239Z",
          "start_time": "2022-10-29T04:24:24.397980Z"
        },
        "id": "NFASUua8d2E6",
        "outputId": "5b2f7211-4edc-46af-a300-953efc128405"
      },
      "outputs": [
        {
          "data": {
            "image/png": "[encoded data removed]",
            "text/plain": [
              "<Figure size 432x288 with 1 Axes>"
            ]
          },
          "metadata": {},
          "output_type": "display_data"
        }
      ],
      "source": [
        "from pandas import Series\n",
        "import matplotlib.pyplot as plt\n",
        "\n",
        "plt.plot(Series.rolling(Series(star_ratings), window=1000).mean());"
      ]
    },
    {
      "cell_type": "markdown",
      "metadata": {
        "id": "vryEkTjmd2E7"
      },
      "source": [
        "Once you've found a good value of `n_neighbors`, submit the model to the grader. Note, \"good\" is a relative measure here. The reference solution has an $R^2$ score of only 0.02. There is just rather little signal available for modeling."
      ]
    },
    {
      "cell_type": "code",
      "execution_count": null,
      "metadata": {
        "ExecuteTime": {
          "end_time": "2022-10-29T04:24:38.975501Z",
          "start_time": "2022-10-29T04:24:24.658656Z"
        },
        "id": "bW34trXnd2E7",
        "outputId": "706798b4-0b64-4cac-974a-44c92ebb42e5"
      },
      "outputs": [
        {
          "name": "stdout",
          "output_type": "stream",
          "text": [
            "0.05667969933286954\n"
          ]
        }
      ],
      "source": [
        "# Perform hyperparameter tuning on pipeline estimator\n",
        "from sklearn.model_selection import (GridSearchCV, cross_val_score, KFold)\n",
        "\n",
        "param_grid = {'knn__n_neighbors' : [50,55,58,60,63,65,68]}\n",
        "cv = KFold(10,shuffle=True)\n",
        "lat_long_model = GridSearchCV(pipe, param_grid, cv=cv)\n",
        "lat_long_model.fit(data,star_ratings)\n",
        "\n",
        "print(lat_long_model.score(data,star_ratings))"
      ]
    },
    {
      "cell_type": "code",
      "execution_count": null,
      "metadata": {
        "ExecuteTime": {
          "end_time": "2022-10-29T04:24:38.981031Z",
          "start_time": "2022-10-29T04:24:38.977786Z"
        },
        "id": "u4QCy1X1d2E7",
        "outputId": "8963a469-2458-406a-d671-9caa3bef42b7"
      },
      "outputs": [
        {
          "name": "stdout",
          "output_type": "stream",
          "text": [
            "{'knn__n_neighbors': 58}\n"
          ]
        }
      ],
      "source": [
        "print(lat_long_model.best_params_)"
      ]
    },
    {
      "cell_type": "code",
      "execution_count": null,
      "metadata": {
        "ExecuteTime": {
          "end_time": "2022-10-29T04:24:39.347106Z",
          "start_time": "2022-10-29T04:24:38.982942Z"
        },
        "id": "03sckS2Ud2E7",
        "outputId": "548c603a-e027-409e-f881-2c674fb502d6"
      },
      "outputs": [
        {
          "name": "stdout",
          "output_type": "stream",
          "text": [
            "==================\n",
            "Your score: 1.0009\n",
            "==================\n"
          ]
        }
      ],
      "source": [
        "grader.score('ml__lat_long_model', lat_long_model.predict)  # Edit to appropriate name"
      ]
    },
    {
      "cell_type": "code",
      "execution_count": null,
      "metadata": {
        "ExecuteTime": {
          "end_time": "2022-10-29T04:24:39.384525Z",
          "start_time": "2022-10-29T04:24:39.349136Z"
        },
        "id": "lqgV2WG-d2E7"
      },
      "outputs": [],
      "source": [
        "import dill\n",
        "dill.dump(lat_long_model, open(\"lat_long_model_dill\", \"wb\"))"
      ]
    },
    {
      "cell_type": "markdown",
      "metadata": {
        "id": "zr53iUNYd2E8"
      },
      "source": [
        "## Question 4: category_model"
      ]
    },
    {
      "cell_type": "markdown",
      "metadata": {
        "id": "PqQr7aQFd2E8"
      },
      "source": [
        "While location is important, we could also try seeing how predictive the\n",
        "venue's category is. Build an estimator that considers only the `'categories'` field of the data.\n",
        "\n",
        "The categories come as a list of strings, but the scikit-learn's predictors all need numeric input. We ultimately want to create a column in our feature matrix to represent every category. For a given row, only the columns that represent the categories it contains will be filled with a one, otherwise, it will be filled with a zero. The described method is similar to **one-hot encoding**, however, an observation/row can contain more than one \"hot\", non-zero, column.\n",
        "\n",
        "To achieve our encoding plan, we need to use scikit-learn's provides [`DictVectorizer`](http://scikit-learn.org/stable/modules/generated/sklearn.feature_extraction.DictVectorizer.html#sklearn.feature_extraction.DictVectorizer). This transformer takes a 1-D array of dictionaries and creates a column in the output matrix for each key in the dictionary and fills it with the value associated with it. Missing keys are filled with zeros. However, we need to build a transformer that takes an array of strings and returns an array of dictionaries with keys given by those strings and values of one. For example, it should transform `X_in` into `X_out`."
      ]
    },
    {
      "cell_type": "code",
      "execution_count": null,
      "metadata": {
        "ExecuteTime": {
          "end_time": "2022-10-29T04:24:39.391516Z",
          "start_time": "2022-10-29T04:24:39.386644Z"
        },
        "id": "e2-qoycxd2E8",
        "outputId": "6d42eb4c-98e9-4cec-dadc-12b862a85823"
      },
      "outputs": [
        {
          "name": "stdout",
          "output_type": "stream",
          "text": [
            "0       [a]\n",
            "1    [b, c]\n",
            "dtype: object\n",
            "0            {'a': 1}\n",
            "1    {'b': 1, 'c': 1}\n",
            "dtype: object\n"
          ]
        }
      ],
      "source": [
        "X_in = pd.Series([['a'], ['b', 'c']])\n",
        "X_out = pd.Series([{'a': 1}, {'b': 1, 'c': 1}])\n",
        "\n",
        "print(X_in)\n",
        "print(X_out)"
      ]
    },
    {
      "cell_type": "code",
      "execution_count": null,
      "metadata": {
        "ExecuteTime": {
          "end_time": "2022-10-29T04:24:39.413480Z",
          "start_time": "2022-10-29T04:24:39.393328Z"
        },
        "id": "mFWTLIfBd2E8",
        "outputId": "2ab4924d-2283-4d90-8bcb-bb5827b4d474"
      },
      "outputs": [
        {
          "data": {
            "text/plain": [
              "0            {'a': 1}\n",
              "1    {'b': 1, 'c': 1}\n",
              "dtype: object"
            ]
          },
          "execution_count": 35,
          "metadata": {},
          "output_type": "execute_result"
        }
      ],
      "source": [
        "X_out_test = []\n",
        "for i in X_in:\n",
        "    var = {k:1 for k in i}\n",
        "    X_out_test.append(var)\n",
        "\n",
        "X_out = pd.Series(X_out_test)\n",
        "X_out"
      ]
    },
    {
      "cell_type": "code",
      "execution_count": null,
      "metadata": {
        "ExecuteTime": {
          "end_time": "2022-10-29T04:24:39.433155Z",
          "start_time": "2022-10-29T04:24:39.415330Z"
        },
        "id": "73Gnbo6hd2E9"
      },
      "outputs": [],
      "source": [
        "from sklearn.feature_extraction import DictVectorizer\n",
        "dv = DictVectorizer()"
      ]
    },
    {
      "cell_type": "code",
      "execution_count": null,
      "metadata": {
        "ExecuteTime": {
          "end_time": "2022-10-29T04:24:39.442426Z",
          "start_time": "2022-10-29T04:24:39.434693Z"
        },
        "id": "paJodmOhd2E9",
        "outputId": "73c88ed9-11fe-4ca0-d0cd-466b05ee2b1f"
      },
      "outputs": [
        {
          "data": {
            "text/plain": [
              "array([[1., 0., 0.],\n",
              "       [0., 1., 1.]])"
            ]
          },
          "execution_count": 37,
          "metadata": {},
          "output_type": "execute_result"
        }
      ],
      "source": [
        "sample = pd.Series([{'a': 1}, {'b': 1, 'c': 1}])\n",
        "dv.fit(sample)\n",
        "dv.transform(sample).toarray()"
      ]
    },
    {
      "cell_type": "code",
      "execution_count": null,
      "metadata": {
        "ExecuteTime": {
          "end_time": "2022-10-29T04:24:39.452168Z",
          "start_time": "2022-10-29T04:24:39.444033Z"
        },
        "id": "KKBiV1N5d2E9",
        "outputId": "7b4af5ad-c384-4f64-932a-87f7be55eacc"
      },
      "outputs": [
        {
          "data": {
            "text/plain": [
              "array([[1., 0., 0.],\n",
              "       [0., 1., 1.]])"
            ]
          },
          "execution_count": 38,
          "metadata": {},
          "output_type": "execute_result"
        }
      ],
      "source": [
        "sample = pd.Series([{'a': 1}, {'b': 1, 'c': 1}])\n",
        "dv.fit_transform(sample).toarray()"
      ]
    },
    {
      "cell_type": "code",
      "execution_count": null,
      "metadata": {
        "ExecuteTime": {
          "end_time": "2022-10-29T04:24:39.492394Z",
          "start_time": "2022-10-29T04:24:39.453839Z"
        },
        "id": "VX6-TsBed2E9"
      },
      "outputs": [],
      "source": [
        "class DictEncoder(BaseEstimator, TransformerMixin):\n",
        "\n",
        "    def fit(self, X, y=None):\n",
        "        return self\n",
        "\n",
        "    def transform(self, X):\n",
        "        X_out = []\n",
        "        for i in X:\n",
        "            v = {k:1 for k in i}\n",
        "            X_out.append(v)\n",
        "        X_out = pd.Series(X_out)\n",
        "        return X_out\n",
        "        # X will be a pandas series. Return a pandas series of dictionaries"
      ]
    },
    {
      "cell_type": "markdown",
      "metadata": {
        "id": "OXpfyBqld2E9"
      },
      "source": [
        "Now let's test out that our `DictEncoder` works out as expected."
      ]
    },
    {
      "cell_type": "code",
      "execution_count": null,
      "metadata": {
        "ExecuteTime": {
          "end_time": "2022-10-29T04:24:39.642043Z",
          "start_time": "2022-10-29T04:24:39.494174Z"
        },
        "id": "aoRdsWpUd2E-",
        "outputId": "d37b07f1-b199-427a-9567-3f198a81947f"
      },
      "outputs": [
        {
          "data": {
            "text/plain": [
              "True"
            ]
          },
          "execution_count": 40,
          "metadata": {},
          "output_type": "execute_result"
        }
      ],
      "source": [
        "# Check that DictEncoder transforms a series of list of strings into the expected series of dictionaries\n",
        "grader.check((DictEncoder().fit_transform(X_in) == X_out).all())"
      ]
    },
    {
      "cell_type": "markdown",
      "metadata": {
        "id": "xBLmWfHXd2E-"
      },
      "source": [
        "Now, create a pipeline object of the two step transformation for the categories data. Afterwards, create a `ColumnTransformer` object that will use the aforementioned pipeline object to transform the `'categories'` field."
      ]
    },
    {
      "cell_type": "code",
      "execution_count": null,
      "metadata": {
        "ExecuteTime": {
          "end_time": "2022-10-29T04:26:53.727723Z",
          "start_time": "2022-10-29T04:26:53.724835Z"
        },
        "id": "gnosukMrd2E-"
      },
      "outputs": [],
      "source": [
        "from sklearn.feature_extraction import DictVectorizer\n",
        "pipeVecCat = Pipeline ([\n",
        "    ('DictEncoder', DictEncoder()),\n",
        "    ('DictVectorizer', DictVectorizer()),\n",
        "])"
      ]
    },
    {
      "cell_type": "code",
      "execution_count": null,
      "metadata": {
        "ExecuteTime": {
          "end_time": "2022-10-29T04:26:54.232911Z",
          "start_time": "2022-10-29T04:26:54.229420Z"
        },
        "id": "ZQtCNNpVd2E_"
      },
      "outputs": [],
      "source": [
        "categories = 'categories'\n",
        "selector = ColumnTransformer([('categorical',pipeVecCat, categories)])"
      ]
    },
    {
      "cell_type": "code",
      "execution_count": null,
      "metadata": {
        "ExecuteTime": {
          "end_time": "2022-10-29T04:26:54.668935Z",
          "start_time": "2022-10-29T04:26:54.663937Z"
        },
        "id": "04K6Jhhwd2E_",
        "outputId": "30cec2a9-7b9b-4c24-d6d4-5e9f375b9d33"
      },
      "outputs": [
        {
          "data": {
            "text/plain": [
              "<10x9 sparse matrix of type '<class 'numpy.float64'>'\n",
              "\twith 10 stored elements in Compressed Sparse Row format>"
            ]
          },
          "execution_count": 46,
          "metadata": {},
          "output_type": "execute_result"
        }
      ],
      "source": [
        "pipeVecCat.fit_transform(categories)"
      ]
    },
    {
      "cell_type": "code",
      "execution_count": null,
      "metadata": {
        "ExecuteTime": {
          "end_time": "2022-10-29T04:26:54.945073Z",
          "start_time": "2022-10-29T04:26:54.940991Z"
        },
        "id": "nLsSTD8ad2E_",
        "outputId": "3da71b6f-978f-4069-f2f6-dcd2164e0a4a"
      },
      "outputs": [
        {
          "name": "stdout",
          "output_type": "stream",
          "text": [
            "  (0, 1)\t1.0\n",
            "  (1, 0)\t1.0\n",
            "  (2, 8)\t1.0\n",
            "  (3, 2)\t1.0\n",
            "  (4, 3)\t1.0\n",
            "  (5, 5)\t1.0\n",
            "  (6, 6)\t1.0\n",
            "  (7, 4)\t1.0\n",
            "  (8, 2)\t1.0\n",
            "  (9, 7)\t1.0\n"
          ]
        }
      ],
      "source": [
        "print(pipeVecCat.fit_transform(categories)) #*******************************************\n",
        "#######********* how come this created sparse matrix, I didn't ask for it"
      ]
    },
    {
      "cell_type": "code",
      "execution_count": null,
      "metadata": {
        "ExecuteTime": {
          "end_time": "2022-10-29T04:26:55.466339Z",
          "start_time": "2022-10-29T04:26:55.459965Z"
        },
        "id": "DutP8uLBd2E_",
        "outputId": "239fce3c-3f32-432a-f022-409206f40b3f"
      },
      "outputs": [
        {
          "data": {
            "text/plain": [
              "0                              [Doctors, Health & Medical]\n",
              "1                                            [Restaurants]\n",
              "2                    [American (Traditional), Restaurants]\n",
              "3        [Food, Ice Cream & Frozen Yogurt, Fast Food, R...\n",
              "4                                   [Chinese, Restaurants]\n",
              "                               ...                        \n",
              "37933              [Bars, Hookah Bars, Nightlife, Lounges]\n",
              "37934    [Active Life, Barre Classes, Pilates, Fitness ...\n",
              "37935                          [Yelp Events, Local Flavor]\n",
              "37936                [Kosher, Italian, Pizza, Restaurants]\n",
              "37937         [Food, Ethnic Food, Grocery, Specialty Food]\n",
              "Name: categories, Length: 37938, dtype: object"
            ]
          },
          "execution_count": 48,
          "metadata": {},
          "output_type": "execute_result"
        }
      ],
      "source": [
        "mainDF['categories']"
      ]
    },
    {
      "cell_type": "markdown",
      "metadata": {
        "id": "HCq61C3cd2E_"
      },
      "source": [
        "Finally, create a pipeline object that will\n",
        "1. Convert our list of dictionaries into a data frame\n",
        "1. Select the `'categories'` column and encode the data\n",
        "1. Train a regularized linear model such as `Ridge`\n",
        "\n",
        "There will be a large number of features, one for each category, so there is a significant danger of overfitting. Use cross validation to choose the best regularization parameter."
      ]
    },
    {
      "cell_type": "code",
      "execution_count": null,
      "metadata": {
        "ExecuteTime": {
          "end_time": "2022-10-29T04:26:56.400995Z",
          "start_time": "2022-10-29T04:26:56.398068Z"
        },
        "id": "gtciNv8_d2FA"
      },
      "outputs": [],
      "source": [
        "from sklearn.linear_model import Ridge\n",
        "\n",
        "pipeQ4 = Pipeline ([\n",
        "    ('to_data_frame', to_data_frame),\n",
        "    ('selector', selector),\n",
        "    ('regressor', Ridge())\n",
        "])"
      ]
    },
    {
      "cell_type": "code",
      "execution_count": null,
      "metadata": {
        "ExecuteTime": {
          "end_time": "2022-10-29T04:26:56.729148Z",
          "start_time": "2022-10-29T04:26:56.726787Z"
        },
        "id": "w8bun-WDd2FA"
      },
      "outputs": [],
      "source": [
        "#pipeQ4.get_params()"
      ]
    },
    {
      "cell_type": "code",
      "execution_count": null,
      "metadata": {
        "ExecuteTime": {
          "end_time": "2022-10-29T04:26:57.139495Z",
          "start_time": "2022-10-29T04:26:57.127863Z"
        },
        "id": "CJXZ11fad2FA",
        "outputId": "09d82a46-1739-4141-f18b-68e4799b1ce8"
      },
      "outputs": [
        {
          "data": {
            "text/plain": [
              "ColumnTransformer(transformers=[('categorical',\n",
              "                                 Pipeline(steps=[('DictEncoder', DictEncoder()),\n",
              "                                                 ('DictVectorizer',\n",
              "                                                  DictVectorizer())]),\n",
              "                                 'categories')])"
            ]
          },
          "execution_count": 51,
          "metadata": {},
          "output_type": "execute_result"
        }
      ],
      "source": [
        "selector"
      ]
    },
    {
      "cell_type": "code",
      "execution_count": null,
      "metadata": {
        "ExecuteTime": {
          "end_time": "2022-10-29T04:27:33.103607Z",
          "start_time": "2022-10-29T04:26:57.601023Z"
        },
        "id": "JVX58k_1d2FA",
        "outputId": "90602e9a-4ded-4dcb-faf2-9e9974ffd8ab"
      },
      "outputs": [
        {
          "data": {
            "text/plain": [
              "GridSearchCV(estimator=Pipeline(steps=[('to_data_frame', ToDataFrame()),\n",
              "                                       ('selector',\n",
              "                                        ColumnTransformer(transformers=[('categorical',\n",
              "                                                                         Pipeline(steps=[('DictEncoder',\n",
              "                                                                                          DictEncoder()),\n",
              "                                                                                         ('DictVectorizer',\n",
              "                                                                                          DictVectorizer())]),\n",
              "                                                                         'categories')])),\n",
              "                                       ('regressor', Ridge())]),\n",
              "             param_grid={'regressor__alpha': array([1.00000000e-03, 2.06913808e-03, 4.28133240e-03, 8.85866790e-03,\n",
              "       1.83298071e-02, 3.79269019e-02, 7.84759970e-02, 1.62377674e-01,\n",
              "       3.35981829e-01, 6.95192796e-01, 1.43844989e+00, 2.97635144e+00,\n",
              "       6.15848211e+00, 1.27427499e+01, 2.63665090e+01, 5.45559478e+01,\n",
              "       1.12883789e+02, 2.33572147e+02, 4.83293024e+02, 1.00000000e+03])})"
            ]
          },
          "execution_count": 52,
          "metadata": {},
          "output_type": "execute_result"
        }
      ],
      "source": [
        "from sklearn.linear_model import Ridge\n",
        "param_grid = {'regressor__alpha': np.logspace(-3, 3, 20)} # 10^-3 to 10^3\n",
        "category_model = GridSearchCV(pipeQ4, param_grid)#, cv=3, n_jobs=2, verbose=1)\n",
        "category_model.fit(data,star_ratings)"
      ]
    },
    {
      "cell_type": "code",
      "execution_count": null,
      "metadata": {
        "ExecuteTime": {
          "end_time": "2022-10-29T04:27:33.461312Z",
          "start_time": "2022-10-29T04:27:33.106128Z"
        },
        "id": "hRvko9TWd2FA",
        "outputId": "909e91d4-79b1-4c9d-9494-771cc1e1b13d"
      },
      "outputs": [
        {
          "name": "stdout",
          "output_type": "stream",
          "text": [
            "==================\n",
            "Your score: 0.9967\n",
            "==================\n"
          ]
        }
      ],
      "source": [
        "grader.score('ml__category_model', category_model.predict)  # Edit to appropriate name"
      ]
    },
    {
      "cell_type": "markdown",
      "metadata": {
        "id": "DTlxOhDbd2FB"
      },
      "source": [
        "**Extension:** Some categories (e.g., Restaurants) are not very specific. Others (Japanese sushi) are much more so.  One way to deal with this is with an measure call term frequency-inverse document frequency (tf-idf). Add in a [`TfidfTransformer`](https://scikit-learn.org/stable/modules/generated/sklearn.feature_extraction.text.TfidfVectorizer.html) between the `DictVectorizer` and the linear model, and see if that improves performance."
      ]
    },
    {
      "cell_type": "markdown",
      "metadata": {
        "id": "kNk06PbId2FB"
      },
      "source": [
        "## Question 5: attribute_model"
      ]
    },
    {
      "cell_type": "markdown",
      "metadata": {
        "id": "5qZpxyJTd2FB"
      },
      "source": [
        "There is even more information in the attributes for each venue.  Let's build an estimator based on these.\n",
        "\n",
        "Venues attributes may be nested:\n",
        "```python\n",
        "{\n",
        "  'Attire': 'casual',\n",
        "  'Accepts Credit Cards': True,\n",
        "  'Ambiance': {'casual': False, 'classy': False}\n",
        "}\n",
        "```\n",
        "We wish to encode them in the same manner as our categories data using the `DictVectorizer`. Before we do so, we need to flatten the dictionary to a single level:\n",
        "```python\n",
        "{\n",
        "  'Attire_casual' : 1,\n",
        "  'Accepts Credit Cards': 1,\n",
        "  'Ambiance_casual': 0,\n",
        "  'Ambiance_classy': 0\n",
        "}\n",
        "```\n",
        "Build a custom transformer that flattens the dictionary for the `'attributes'` field. Similar to what was done before, create a model that properly encodes the attribute data and learns to predict the ratings.\n",
        "\n",
        "You may find it difficult to find a single regressor that does well enough. A common solution is to use a linear model to fit the linear part of some data, and use a non-linear model to fit the residual that the linear model can't fit. Build a custom predictor that takes as an argument two other predictors. It should use the first to fit the raw data and the second to fit the residuals of the first."
      ]
    },
    {
      "cell_type": "code",
      "execution_count": null,
      "metadata": {
        "ExecuteTime": {
          "end_time": "2022-10-29T04:27:33.468314Z",
          "start_time": "2022-10-29T04:27:33.464031Z"
        },
        "id": "P7tl2OM9d2FB"
      },
      "outputs": [],
      "source": [
        "class FlattenDict(BaseEstimator, TransformerMixin):\n",
        "    def fit(self, X, y=None):\n",
        "        return self\n",
        "    def transform(self, X): #X=mainDF[att] need to get X from ToDataFrame\n",
        "        flatdict=[]\n",
        "        for a in X['attributes']:\n",
        "            if(len(a)==0):\n",
        "                flatdict.append({})\n",
        "            else:\n",
        "                df = pd.json_normalize(a, sep = '_')\n",
        "                if (df.empty==True):\n",
        "                    flatdict.append({})\n",
        "                else:\n",
        "                    flatdict.append(df.to_dict(orient='records')[0])\n",
        "        return flatdict"
      ]
    },
    {
      "cell_type": "code",
      "execution_count": null,
      "metadata": {
        "ExecuteTime": {
          "end_time": "2022-10-29T04:28:18.326518Z",
          "start_time": "2022-10-29T04:27:33.470719Z"
        },
        "id": "1HuKPmskd2FC"
      },
      "outputs": [],
      "source": [
        "pipe_data_attr = Pipeline([\n",
        "    ('to_data_frame', ToDataFrame()),\n",
        "    ('flatten_dict', FlattenDict()),\n",
        "    ('DictVectorizer', DictVectorizer())\n",
        "     ])\n",
        "\n",
        "data_attr = pipe_data_attr.fit_transform(data)\n",
        "#pipe_data_attr.fit(data, star_ratings) ****you can't do this because you need first use the transformer"
      ]
    },
    {
      "cell_type": "code",
      "execution_count": null,
      "metadata": {
        "ExecuteTime": {
          "end_time": "2022-10-29T04:28:18.332978Z",
          "start_time": "2022-10-29T04:28:18.328865Z"
        },
        "id": "vIDSJOzEd2FC",
        "outputId": "d2031daa-4d7d-40ea-ec64-1b87fed8420a"
      },
      "outputs": [
        {
          "data": {
            "text/plain": [
              "(37938, 93)"
            ]
          },
          "execution_count": 56,
          "metadata": {},
          "output_type": "execute_result"
        }
      ],
      "source": [
        "data_attr.shape"
      ]
    },
    {
      "cell_type": "code",
      "execution_count": null,
      "metadata": {
        "ExecuteTime": {
          "end_time": "2022-10-29T04:28:18.374109Z",
          "start_time": "2022-10-29T04:28:18.334772Z"
        },
        "id": "lPxiQHi4d2FC",
        "outputId": "11ddca93-64d9-4d89-e40c-c311a17bf63b"
      },
      "outputs": [
        {
          "data": {
            "text/plain": [
              "<1x93 sparse matrix of type '<class 'numpy.float64'>'\n",
              "\twith 1 stored elements in Compressed Sparse Row format>"
            ]
          },
          "execution_count": 57,
          "metadata": {},
          "output_type": "execute_result"
        }
      ],
      "source": [
        "data_attr[0]"
      ]
    },
    {
      "cell_type": "code",
      "execution_count": null,
      "metadata": {
        "ExecuteTime": {
          "end_time": "2022-10-29T04:28:19.308371Z",
          "start_time": "2022-10-29T04:28:18.375647Z"
        },
        "id": "tGvXSRSNd2FD"
      },
      "outputs": [],
      "source": [
        "from sklearn.linear_model import LinearRegression\n",
        "from sklearn.model_selection import cross_val_predict\n",
        "from sklearn import model_selection\n",
        "\n",
        "model_lr = LinearRegression().fit(data_attr,star_ratings)\n",
        "predict = model_lr.predict(data_attr)\n",
        "resid = predict-star_ratings\n",
        "\n",
        "######******** gridsearchCV pending"
      ]
    },
    {
      "cell_type": "code",
      "execution_count": null,
      "metadata": {
        "ExecuteTime": {
          "end_time": "2022-10-29T04:31:27.344892Z",
          "start_time": "2022-10-29T04:28:19.311284Z"
        },
        "id": "hvagBbu6d2FD",
        "outputId": "8a4d5667-085b-4e4d-fb2d-4c4e99de71ea"
      },
      "outputs": [
        {
          "name": "stdout",
          "output_type": "stream",
          "text": [
            "RandomForestRegressor(max_depth=30, min_samples_leaf=10, random_state=42)\n"
          ]
        }
      ],
      "source": [
        "from sklearn.ensemble import RandomForestRegressor\n",
        "from sklearn.model_selection import train_test_split, GridSearchCV, cross_val_score\n",
        "from sklearn import model_selection\n",
        "\n",
        "cv = model_selection.ShuffleSplit(n_splits = 20, test_size = 0.2, random_state=42)\n",
        "\n",
        "model_rf = RandomForestRegressor(random_state=42)\n",
        "param_grid = [{'n_estimators': [60,70,80,90,100],\n",
        "               'max_depth':[30,40],\n",
        "               'min_samples_leaf': [10,15,20]}]\n",
        "grid_search = GridSearchCV(model_rf, param_grid,n_jobs=-1,cv=cv)\n",
        "grid_search.fit(resid.reshape(-1, 1),star_ratings)\n",
        "print(grid_search.best_estimator_)"
      ]
    },
    {
      "cell_type": "code",
      "execution_count": null,
      "metadata": {
        "ExecuteTime": {
          "end_time": "2022-10-29T04:31:27.352730Z",
          "start_time": "2022-10-29T04:31:27.347204Z"
        },
        "id": "nwGWu-fVd2FE",
        "outputId": "7a84f406-8222-4bd5-baaf-85e90073f065"
      },
      "outputs": [
        {
          "data": {
            "text/plain": [
              "GridSearchCV(cv=ShuffleSplit(n_splits=20, random_state=42, test_size=0.2, train_size=None),\n",
              "             estimator=RandomForestRegressor(random_state=42), n_jobs=-1,\n",
              "             param_grid=[{'max_depth': [30, 40],\n",
              "                          'min_samples_leaf': [10, 15, 20],\n",
              "                          'n_estimators': [60, 70, 80, 90, 100]}])"
            ]
          },
          "execution_count": 60,
          "metadata": {},
          "output_type": "execute_result"
        }
      ],
      "source": [
        "grid_search"
      ]
    },
    {
      "cell_type": "code",
      "execution_count": null,
      "metadata": {
        "ExecuteTime": {
          "end_time": "2022-10-29T04:31:27.360297Z",
          "start_time": "2022-10-29T04:31:27.355529Z"
        },
        "id": "w6nID4Fld2FF"
      },
      "outputs": [],
      "source": [
        "class Estimator(BaseEstimator, TransformerMixin):\n",
        "\n",
        "    def __init__(self,lr,rf):\n",
        "        self.lr = lr\n",
        "        self.rf = rf\n",
        "\n",
        "    def fit(self, X, y):\n",
        "        pred = self.lr.fit(X,y).predict(X)\n",
        "        resid = y-pred\n",
        "        self.rf.fit(X,resid.reshape(-1,1))\n",
        "        return self\n",
        "\n",
        "    def predict(self, X):\n",
        "        return self.rf.predict(X)+self.lr.predict(X)"
      ]
    },
    {
      "cell_type": "code",
      "execution_count": null,
      "metadata": {
        "ExecuteTime": {
          "end_time": "2022-10-29T04:31:27.366214Z",
          "start_time": "2022-10-29T04:31:27.362038Z"
        },
        "id": "_nh4IHcvd2FF"
      },
      "outputs": [],
      "source": [
        "#data_transform = to_data_frame.transform(data)\n",
        "#data_transform = selector.fit_transform(data_transform)\n",
        "#knn = KNeighborsRegressor(n_neighbors=5)\n",
        "#knn.fit(data_transform, star_ratings)"
      ]
    },
    {
      "cell_type": "code",
      "execution_count": null,
      "metadata": {
        "ExecuteTime": {
          "end_time": "2022-10-29T04:31:27.372261Z",
          "start_time": "2022-10-29T04:31:27.367969Z"
        },
        "id": "9OGxh119d2FF"
      },
      "outputs": [],
      "source": [
        "from sklearn.ensemble import RandomForestRegressor\n",
        "from sklearn.linear_model import LinearRegression\n",
        "rf = RandomForestRegressor(max_depth=30,\n",
        "                          min_samples_leaf=10,\n",
        "                          min_samples_split=2,\n",
        "                          n_estimators=100)\n",
        "lr = LinearRegression()"
      ]
    },
    {
      "cell_type": "code",
      "execution_count": null,
      "metadata": {
        "ExecuteTime": {
          "end_time": "2022-10-29T04:31:27.378634Z",
          "start_time": "2022-10-29T04:31:27.373960Z"
        },
        "id": "J_y22Jgud2FG"
      },
      "outputs": [],
      "source": [
        "attribute_model = Pipeline([\n",
        "                           ('prevPipe', pipe_data_attr),\n",
        "                           ('lr&rf',Estimator(lr,rf))\n",
        "                           ])"
      ]
    },
    {
      "cell_type": "code",
      "execution_count": null,
      "metadata": {
        "ExecuteTime": {
          "end_time": "2022-10-29T04:33:08.226513Z",
          "start_time": "2022-10-29T04:31:27.380567Z"
        },
        "id": "YI0Lbpvkd2FG",
        "outputId": "dc62ac37-7188-4115-fc73-3444bc30c771"
      },
      "outputs": [
        {
          "name": "stderr",
          "output_type": "stream",
          "text": [
            "/tmp/ipykernel_58/653129180.py:10: DataConversionWarning: A column-vector y was passed when a 1d array was expected. Please change the shape of y to (n_samples,), for example using ravel().\n",
            "  self.rf.fit(X,resid.reshape(-1,1))\n"
          ]
        },
        {
          "data": {
            "text/plain": [
              "Pipeline(steps=[('prevPipe',\n",
              "                 Pipeline(steps=[('to_data_frame', ToDataFrame()),\n",
              "                                 ('flatten_dict', FlattenDict()),\n",
              "                                 ('DictVectorizer', DictVectorizer())])),\n",
              "                ('lr&rf',\n",
              "                 Estimator(lr=LinearRegression(),\n",
              "                           rf=RandomForestRegressor(max_depth=30,\n",
              "                                                    min_samples_leaf=10)))])"
            ]
          },
          "execution_count": 65,
          "metadata": {},
          "output_type": "execute_result"
        }
      ],
      "source": [
        "attribute_model.fit(data,star_ratings)"
      ]
    },
    {
      "cell_type": "code",
      "execution_count": null,
      "metadata": {
        "ExecuteTime": {
          "end_time": "2022-10-29T04:33:08.232149Z",
          "start_time": "2022-10-29T04:33:08.228488Z"
        },
        "id": "R1cLJOd5d2FG",
        "outputId": "0efeebc7-5aee-4cc6-b7b7-211b1c53ba6c"
      },
      "outputs": [
        {
          "data": {
            "text/plain": [
              "\"\\ntemp = []\\nfor att in mainDF['attributes']:\\n    if (len(att)==0):\\n        temp.append({})\\n    else:\\n        df = pd.json_normalize(att, sep = '_')\\n        if (df.empty==False):\\n            temp.append(df.to_dict(orient='records')[0])\\n\""
            ]
          },
          "execution_count": 66,
          "metadata": {},
          "output_type": "execute_result"
        }
      ],
      "source": [
        "\"\"\"\n",
        "temp = []\n",
        "for att in mainDF['attributes']:\n",
        "    if (len(att)==0):\n",
        "        temp.append({})\n",
        "    else:\n",
        "        df = pd.json_normalize(att, sep = '_')\n",
        "        if (df.empty==False):\n",
        "            temp.append(df.to_dict(orient='records')[0])\n",
        "\"\"\""
      ]
    },
    {
      "cell_type": "code",
      "execution_count": null,
      "metadata": {
        "ExecuteTime": {
          "end_time": "2022-10-29T04:33:08.239139Z",
          "start_time": "2022-10-29T04:33:08.233764Z"
        },
        "id": "-RCZXsD_d2FG"
      },
      "outputs": [],
      "source": [
        "# Create the transformer to handle the attributes data\n",
        "\n",
        "# Create the linear + non-linear ensemble predictor\n",
        "\n",
        "# Create the attribute model"
      ]
    },
    {
      "cell_type": "code",
      "execution_count": null,
      "metadata": {
        "ExecuteTime": {
          "end_time": "2022-10-29T04:33:10.030770Z",
          "start_time": "2022-10-29T04:33:08.240575Z"
        },
        "id": "e-7F6NWAd2FG",
        "outputId": "1c4b0c89-7420-44c7-ab18-6238728add37"
      },
      "outputs": [
        {
          "name": "stdout",
          "output_type": "stream",
          "text": [
            "==================\n",
            "Your score: 1.0017\n",
            "==================\n"
          ]
        }
      ],
      "source": [
        "grader.score('ml__attribute_model', attribute_model.predict)  # Edit to appropriate name"
      ]
    },
    {
      "cell_type": "markdown",
      "metadata": {
        "id": "U-gowFr5d2FH"
      },
      "source": [
        "## Question 6: full_model"
      ]
    },
    {
      "cell_type": "markdown",
      "metadata": {
        "id": "lsQh_x6Md2FH"
      },
      "source": [
        "So far we have only built models based on individual features.  Now we will build an ensemble regressor that averages together the estimates of the four previous regressors.\n",
        "\n",
        "In order to use the existing models as input to a predictor, we will have to turn them into transformers; a predictor can only be in the final step of a pipeline. Build a custom `ModelTransformer` class that takes a predictor as an argument. When `fit` is called, the predictor should be fit. When `transform` is called, the predictor's `predict` method should be called, and its results returned as the transformation.\n",
        "\n",
        "Note that the output of the `transform` method should be a 2-D array with a single column in order for it to work well with the scikit-learn pipeline. If you're using NumPy arrays, you can use `.reshape(-1, 1)` to create a column vector. If you are just using Python lists, you will want a list of lists of single elements."
      ]
    },
    {
      "cell_type": "code",
      "execution_count": null,
      "metadata": {
        "ExecuteTime": {
          "end_time": "2022-10-29T05:35:30.046405Z",
          "start_time": "2022-10-29T05:35:30.042274Z"
        },
        "id": "6_yjiO2sd2FH"
      },
      "outputs": [],
      "source": [
        "class ModelTransformer(BaseEstimator, TransformerMixin):\n",
        "\n",
        "    def __init__(self, model):\n",
        "        # What needs to be done here?\n",
        "        self.model = model\n",
        "\n",
        "    def fit(self, X, y):\n",
        "        # Fit the stored predictor.\n",
        "        # Question: what should be returned?\n",
        "        (self.model).fit(X,y)\n",
        "        return self\n",
        "\n",
        "    def transform(self, X):\n",
        "        # Use predict on the stored predictor as a \"transformation\".\n",
        "        # Be sure to return a 2-D array.\n",
        "        return np.array((self.model).predict(X)).reshape(-1,1)"
      ]
    },
    {
      "cell_type": "code",
      "execution_count": null,
      "metadata": {
        "ExecuteTime": {
          "end_time": "2022-10-29T05:35:00.638129Z",
          "start_time": "2022-10-29T05:35:00.635460Z"
        },
        "id": "6xsr0kOzd2FH"
      },
      "outputs": [],
      "source": [
        "#np.array((self.model).predict(X).reshape(-1,1))"
      ]
    },
    {
      "cell_type": "markdown",
      "metadata": {
        "id": "6uwZrAsEd2FH"
      },
      "source": [
        "Let's now test it out on our `city_model`."
      ]
    },
    {
      "cell_type": "code",
      "execution_count": null,
      "metadata": {
        "ExecuteTime": {
          "end_time": "2022-10-29T05:35:09.658347Z",
          "start_time": "2022-10-29T05:35:02.009548Z"
        },
        "id": "pa0E_RhXd2FH",
        "outputId": "4a963b03-fbb6-412e-f1a2-0c07aa100010"
      },
      "outputs": [
        {
          "ename": "RecursionError",
          "evalue": "maximum recursion depth exceeded",
          "output_type": "error",
          "traceback": [
            "\u001b[0;31m---------------------------------------------------------------------------\u001b[0m",
            "\u001b[0;31mRecursionError\u001b[0m                            Traceback (most recent call last)",
            "\u001b[0;32m/tmp/ipykernel_58/1809461269.py\u001b[0m in \u001b[0;36m<module>\u001b[0;34m\u001b[0m\n\u001b[1;32m      1\u001b[0m \u001b[0mcity_trans\u001b[0m \u001b[0;34m=\u001b[0m \u001b[0mModelTransformer\u001b[0m\u001b[0;34m(\u001b[0m\u001b[0mcity_model\u001b[0m\u001b[0;34m)\u001b[0m\u001b[0;34m\u001b[0m\u001b[0;34m\u001b[0m\u001b[0m\n\u001b[0;32m----> 2\u001b[0;31m \u001b[0mcity_trans\u001b[0m\u001b[0;34m.\u001b[0m\u001b[0mfit\u001b[0m\u001b[0;34m(\u001b[0m\u001b[0mdata\u001b[0m\u001b[0;34m,\u001b[0m \u001b[0mstar_ratings\u001b[0m\u001b[0;34m)\u001b[0m\u001b[0;34m\u001b[0m\u001b[0;34m\u001b[0m\u001b[0m\n\u001b[0m\u001b[1;32m      3\u001b[0m \u001b[0mX_t\u001b[0m \u001b[0;34m=\u001b[0m \u001b[0mcity_trans\u001b[0m\u001b[0;34m.\u001b[0m\u001b[0mtransform\u001b[0m\u001b[0;34m(\u001b[0m\u001b[0mdata\u001b[0m\u001b[0;34m[\u001b[0m\u001b[0;34m:\u001b[0m\u001b[0;36m5\u001b[0m\u001b[0;34m]\u001b[0m\u001b[0;34m)\u001b[0m\u001b[0;34m\u001b[0m\u001b[0;34m\u001b[0m\u001b[0m\n\u001b[1;32m      4\u001b[0m \u001b[0;34m\u001b[0m\u001b[0m\n\u001b[1;32m      5\u001b[0m \u001b[0;31m# Check that the transformation output is a 2-D array with one column\u001b[0m\u001b[0;34m\u001b[0m\u001b[0;34m\u001b[0m\u001b[0m\n",
            "\u001b[0;32m/tmp/ipykernel_58/1263187648.py\u001b[0m in \u001b[0;36mfit\u001b[0;34m(self, X, y)\u001b[0m\n\u001b[1;32m      9\u001b[0m         \u001b[0;31m# Question: what should be returned?\u001b[0m\u001b[0;34m\u001b[0m\u001b[0;34m\u001b[0m\u001b[0m\n\u001b[1;32m     10\u001b[0m         \u001b[0;31m#(self.model).fit(X,y)\u001b[0m\u001b[0;34m\u001b[0m\u001b[0;34m\u001b[0m\u001b[0m\n\u001b[0;32m---> 11\u001b[0;31m         \u001b[0mself\u001b[0m\u001b[0;34m.\u001b[0m\u001b[0mfit\u001b[0m\u001b[0;34m(\u001b[0m\u001b[0mX\u001b[0m\u001b[0;34m,\u001b[0m\u001b[0my\u001b[0m\u001b[0;34m)\u001b[0m\u001b[0;34m\u001b[0m\u001b[0;34m\u001b[0m\u001b[0m\n\u001b[0m\u001b[1;32m     12\u001b[0m         \u001b[0;32mreturn\u001b[0m \u001b[0mself\u001b[0m\u001b[0;34m\u001b[0m\u001b[0;34m\u001b[0m\u001b[0m\n\u001b[1;32m     13\u001b[0m \u001b[0;34m\u001b[0m\u001b[0m\n",
            "... last 1 frames repeated, from the frame below ...\n",
            "\u001b[0;32m/tmp/ipykernel_58/1263187648.py\u001b[0m in \u001b[0;36mfit\u001b[0;34m(self, X, y)\u001b[0m\n\u001b[1;32m      9\u001b[0m         \u001b[0;31m# Question: what should be returned?\u001b[0m\u001b[0;34m\u001b[0m\u001b[0;34m\u001b[0m\u001b[0m\n\u001b[1;32m     10\u001b[0m         \u001b[0;31m#(self.model).fit(X,y)\u001b[0m\u001b[0;34m\u001b[0m\u001b[0;34m\u001b[0m\u001b[0m\n\u001b[0;32m---> 11\u001b[0;31m         \u001b[0mself\u001b[0m\u001b[0;34m.\u001b[0m\u001b[0mfit\u001b[0m\u001b[0;34m(\u001b[0m\u001b[0mX\u001b[0m\u001b[0;34m,\u001b[0m\u001b[0my\u001b[0m\u001b[0;34m)\u001b[0m\u001b[0;34m\u001b[0m\u001b[0;34m\u001b[0m\u001b[0m\n\u001b[0m\u001b[1;32m     12\u001b[0m         \u001b[0;32mreturn\u001b[0m \u001b[0mself\u001b[0m\u001b[0;34m\u001b[0m\u001b[0;34m\u001b[0m\u001b[0m\n\u001b[1;32m     13\u001b[0m \u001b[0;34m\u001b[0m\u001b[0m\n",
            "\u001b[0;31mRecursionError\u001b[0m: maximum recursion depth exceeded"
          ]
        }
      ],
      "source": [
        "city_trans = ModelTransformer(city_model)\n",
        "city_trans.fit(data, star_ratings)\n",
        "X_t = city_trans.transform(data[:5])\n",
        "\n",
        "# Check that the transformation output is a 2-D array with one column\n",
        "grader.check(np.array(X_t).shape[-1] == 1)"
      ]
    },
    {
      "cell_type": "code",
      "execution_count": null,
      "metadata": {
        "ExecuteTime": {
          "end_time": "2022-10-29T04:26:39.900416Z",
          "start_time": "2022-10-29T04:26:39.900406Z"
        },
        "id": "H7K8qdTQd2FJ"
      },
      "outputs": [],
      "source": [
        "X_t = city_trans.transform(data[:5])\n",
        "print(X_t)\n",
        "print(np.array(X_t).shape)"
      ]
    },
    {
      "cell_type": "code",
      "execution_count": null,
      "metadata": {
        "ExecuteTime": {
          "end_time": "2022-10-29T04:26:39.901286Z",
          "start_time": "2022-10-29T04:26:39.901268Z"
        },
        "id": "hWRzRI9Qd2FJ"
      },
      "outputs": [],
      "source": [
        "y_pred = np.array(city_model.predict(data[:5]))\n",
        "\n",
        "# Check that the transformation output is the same as the model's predictions\n",
        "grader.check((y_pred.reshape(-1, 1) == X_t).all())"
      ]
    },
    {
      "cell_type": "markdown",
      "metadata": {
        "id": "_msO8Mpqd2FJ"
      },
      "source": [
        "Create an instance of `ModelTransformer` for each of the previous four models. Combine these together in a single feature matrix with a\n",
        "[`FeatureUnion`](http://scikit-learn.org/stable/modules/generated/sklearn.pipeline.FeatureUnion.html#sklearn.pipeline.FeatureUnion)."
      ]
    },
    {
      "cell_type": "code",
      "execution_count": null,
      "metadata": {
        "ExecuteTime": {
          "end_time": "2022-10-29T04:26:39.902423Z",
          "start_time": "2022-10-29T04:26:39.902413Z"
        },
        "id": "dpI6zAoqd2FJ"
      },
      "outputs": [],
      "source": [
        "#Create an instance of ModelTransformer for each of the previous four models.\n",
        "cityModel = ModelTransformer(city_model)\n",
        "latlongModel = ModelTransformer(lat_long_model)\n",
        "catModel = ModelTransformer(category_model)\n",
        "attModel = ModelTransformer(attribute_model)"
      ]
    },
    {
      "cell_type": "code",
      "execution_count": null,
      "metadata": {
        "ExecuteTime": {
          "end_time": "2022-10-29T04:26:39.903223Z",
          "start_time": "2022-10-29T04:26:39.903213Z"
        },
        "id": "yYVR9YXdd2FJ"
      },
      "outputs": [],
      "source": [
        "from sklearn.pipeline import FeatureUnion\n",
        "\n",
        "union = FeatureUnion([\n",
        "        ('cityM', cityModel),\n",
        "        ('latlongM',latlongModel),\n",
        "        ('catM', catModel),\n",
        "        ('attM', attModel)\n",
        "        # FeatureUnion uses the same syntax as Pipeline\n",
        "    ])"
      ]
    },
    {
      "cell_type": "markdown",
      "metadata": {
        "id": "gQ05qr4Jd2FJ"
      },
      "source": [
        "Our `FeatureUnion` object should return a feature matrix with four columns."
      ]
    },
    {
      "cell_type": "code",
      "execution_count": null,
      "metadata": {
        "ExecuteTime": {
          "end_time": "2022-10-29T04:26:39.904107Z",
          "start_time": "2022-10-29T04:26:39.904094Z"
        },
        "id": "ZP4ZTcogd2FJ"
      },
      "outputs": [],
      "source": [
        "union.fit(data, star_ratings)\n",
        "X_t = union.transform(data[:5])\n",
        "\n",
        "# Transformed data should have 5 rows and 4 columns\n",
        "grader.check(X_t.shape == (5, 4))"
      ]
    },
    {
      "cell_type": "code",
      "execution_count": null,
      "metadata": {
        "ExecuteTime": {
          "end_time": "2022-10-29T04:26:39.905223Z",
          "start_time": "2022-10-29T04:26:39.905213Z"
        },
        "id": "8Q830lNhd2FK"
      },
      "outputs": [],
      "source": [
        "union.fit(data, star_ratings)"
      ]
    },
    {
      "cell_type": "code",
      "execution_count": null,
      "metadata": {
        "ExecuteTime": {
          "end_time": "2022-10-29T04:26:39.906099Z",
          "start_time": "2022-10-29T04:26:39.906090Z"
        },
        "id": "nniWY_cYd2FK"
      },
      "outputs": [],
      "source": [
        "data[:5]"
      ]
    },
    {
      "cell_type": "markdown",
      "metadata": {
        "id": "-wUCbZ6Rd2FK"
      },
      "source": [
        "Finally, use a pipeline to combine the feature union with a linear regression (or another model) to weight the predictions."
      ]
    },
    {
      "cell_type": "code",
      "execution_count": null,
      "metadata": {
        "ExecuteTime": {
          "end_time": "2022-10-29T04:26:39.907141Z",
          "start_time": "2022-10-29T04:26:39.907130Z"
        },
        "id": "sNhMGi65d2FK"
      },
      "outputs": [],
      "source": [
        "full_model = LinearRegression().fit(data, star_ratings)"
      ]
    },
    {
      "cell_type": "code",
      "execution_count": null,
      "metadata": {
        "ExecuteTime": {
          "end_time": "2022-10-29T04:26:39.907910Z",
          "start_time": "2022-10-29T04:26:39.907899Z"
        },
        "id": "C27JsVNKd2FK"
      },
      "outputs": [],
      "source": [
        "grader.score('ml__full_model', full_model.predict)  # Edit to appropriate name"
      ]
    }
  ],
  "metadata": {
    "kernelspec": {
      "display_name": "Python3",
      "language": "python",
      "name": "python3"
    },
    "language_info": {
      "codemirror_mode": {
        "name": "ipython",
        "version": 3
      },
      "file_extension": ".py",
      "mimetype": "text/x-python",
      "name": "python",
      "nbconvert_exporter": "python",
      "pygments_lexer": "ipython3",
      "version": "3.9.7"
    },
    "nbclean": true,
    "colab": {
      "provenance": [],
      "include_colab_link": true
    }
  },
  "nbformat": 4,
  "nbformat_minor": 0
}