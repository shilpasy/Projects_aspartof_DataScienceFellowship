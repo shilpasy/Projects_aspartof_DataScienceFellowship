{
  "cells": [
    {
      "cell_type": "markdown",
      "metadata": {
        "id": "view-in-github",
        "colab_type": "text"
      },
      "source": [
        "<a href=\"https://colab.research.google.com/github/shilpasy/Projects_partof_DataScienceFellowship_Python/blob/main/DataWrangling_assignment_graph.ipynb\" target=\"_parent\"><img src=\"https://colab.research.google.com/assets/colab-badge.svg\" alt=\"Open In Colab\"/></a>"
      ]
    },
    {
      "cell_type": "code",
      "execution_count": null,
      "metadata": {
        "ExecuteTime": {
          "end_time": "2023-01-02T22:50:04.166065Z",
          "start_time": "2023-01-02T22:50:01.339188Z"
        },
        "id": "CyFeuSmudU98"
      },
      "outputs": [],
      "source": [
        "import pandas as pd\n",
        "import re\n",
        "from IPython.core.interactiveshell import InteractiveShell\n",
        "InteractiveShell.ast_node_interactivity = \"all\""
      ]
    },
    {
      "cell_type": "markdown",
      "metadata": {
        "id": "n4LD2XUHdU-D"
      },
      "source": [
        "# The New York Social Graph\n"
      ]
    },
    {
      "cell_type": "markdown",
      "metadata": {
        "id": "2cgXEWe2dU-F"
      },
      "source": [
        "[New York Social Diary](https://web.archive.org/web/20150913224145/http://www.newyorksocialdiary.com/) provides a\n",
        "fascinating lens onto New York's socially well-to-do.  The data forms a natural [social graph](https://en.wikipedia.org/wiki/Social_graph) for New York's social elite.  Take a look at this page of a recent [run-of-the-mill holiday party](https://web.archive.org/web/20150913224145/http://www.newyorksocialdiary.com/party-pictures/2014/holiday-dinners-and-doers).\n",
        "\n",
        "Besides the brand-name celebrities, you will notice the photos have carefully annotated captions labeling those that appear in the photos.  We can think of this as implicitly implying a social graph: there is a connection between two individuals if they appear in a picture together.\n",
        "\n",
        "For this project, we will assemble the social graph from photo captions for parties dated December 1, 2014 and before.  Using this graph, we can make guesses at the most popular socialites, the most influential people, and the most tightly coupled pairs.\n",
        "\n",
        "These pages are hosted on the Internet Archive, which can be quite slow and unreliable. To get around this, we have created an API that provides the captions. This API lives at `https://party-captions.tditrain.com`. The [documentation](https://party-captions.tditrain.com) describes how this API works in detail. At a high level, it's divided into two parts\n",
        "- An endpoint that provides a list of parties, `/parties`\n",
        "- An endpoint that provides the captions for a given party, `/captions`\n",
        "\n",
        "Both take parameters that allow us to select what we're looking for.\n",
        "\n",
        "To get the social graph that we want, we'll attack the problem in several steps:\n",
        "1. Get a list of the parties we want\n",
        "1. Parse the names from each caption for one party\n",
        "1. Parse the names for the rest of the parties\n",
        "1. Assemble the graph"
      ]
    },
    {
      "cell_type": "markdown",
      "metadata": {
        "id": "b-Kp2XJXdU-G"
      },
      "source": [
        "## Getting the parties\n"
      ]
    },
    {
      "cell_type": "markdown",
      "metadata": {
        "id": "_KRbB5NGdU-H"
      },
      "source": [
        "The `/parties` endpoint provides us with a list of party names and dates (the date the party occurred). It can only provide up to 100 at a time, and there are over 1000 parties in the data set. By using the `limit` and `offset` parameters, as described in the documentation, get a list of all of the parties and their dates.\n",
        "\n",
        "As we did in class, we recommend using [`requests`](http://docs.python-requests.org/en/master/) to hit the endpoint. The checkpoints are expecting a list where each element corresponds to one party. How you want to represent this party (as a tuple, a dictionary, or something else) is up to you.\n",
        "\n",
        "The API will return a JSON object containing a list of party names and dates, and some metadata.  Here is an example, only returning the first ten parties for our convenience."
      ]
    },
    {
      "cell_type": "code",
      "execution_count": null,
      "metadata": {
        "ExecuteTime": {
          "end_time": "2023-01-02T22:50:04.696046Z",
          "start_time": "2023-01-02T22:50:04.637197Z"
        },
        "id": "O27useledU-I",
        "outputId": "29e20b89-d752-4249-dfa7-5c09f035e9ab",
        "colab": {
          "base_uri": "https://localhost:8080/"
        }
      },
      "outputs": [
        {
          "output_type": "execute_result",
          "data": {
            "text/plain": [
              "{'message': '',\n",
              " 'next': 'parties?offset=10&limit=10',\n",
              " 'parties': [{'date': '2015-03-13',\n",
              "   'name': '2015-bunny-hop-the-boys-club-old-bags-and-more'},\n",
              "  {'date': '2015-03-11',\n",
              "   'name': '2015-sab-the-jewish-museum-roundabout-theatre-and-faces'},\n",
              "  {'date': '2015-03-05',\n",
              "   'name': '2015-adaa-art-show-bronx-museum-the-china-arts-foundation-international-and-the-palm'},\n",
              "  {'date': '2015-03-04',\n",
              "   'name': '2015-the-60th-anniversary-of-the-viennese-opera-ball-and-mcnys-directors-council'},\n",
              "  {'date': '2015-03-02',\n",
              "   'name': '2015-the-new-york-philharmonic-the-new-york-botanical-garden-longhouse-reserve-and'},\n",
              "  {'date': '2015-02-26', 'name': '2015-mission-accomplished'},\n",
              "  {'date': '2015-02-25', 'name': '2015-philanthropic-endeavors'},\n",
              "  {'date': '2015-02-23', 'name': '2015-dining-with-the-divas'},\n",
              "  {'date': '2015-02-18', 'name': '2015-fielding-dreams'},\n",
              "  {'date': '2015-02-11', 'name': '2015-generosity-leadership'}]}"
            ]
          },
          "metadata": {},
          "execution_count": 2
        }
      ],
      "source": [
        "import requests\n",
        "\n",
        "requests.get(\"https://party-captions.tditrain.com/parties?limit=10\").json()"
      ]
    },
    {
      "cell_type": "markdown",
      "metadata": {
        "id": "vpx48gDTdU-J"
      },
      "source": [
        "We want the information in the `parties` element. You will need to call the API multiple times to get all the parties."
      ]
    },
    {
      "cell_type": "code",
      "execution_count": null,
      "metadata": {
        "ExecuteTime": {
          "end_time": "2023-01-02T22:50:04.700133Z",
          "start_time": "2023-01-02T22:50:04.697479Z"
        },
        "id": "X2MdmLrudU-L"
      },
      "outputs": [],
      "source": [
        "def get_party(limit, offset):\n",
        "    base = 'https://party-captions.tditrain.com/parties'\n",
        "    params = {'limit': limit, 'offset': offset}\n",
        "    partypage = requests.get(base, params=params).json()['parties']\n",
        "    #print(type(partypage))\n",
        "    return partypage"
      ]
    },
    {
      "cell_type": "code",
      "execution_count": null,
      "metadata": {
        "ExecuteTime": {
          "end_time": "2023-01-02T22:50:05.061105Z",
          "start_time": "2023-01-02T22:50:04.701857Z"
        },
        "id": "cMz23VbYdU-M"
      },
      "outputs": [],
      "source": [
        "all_parties = []\n",
        "\n",
        "limit = 100\n",
        "offset = 0\n",
        "\n",
        "while 1:\n",
        "    party = get_party(limit, offset)\n",
        "    offset = limit+offset\n",
        "    all_parties.extend([party])\n",
        "    if(len(party)==0):\n",
        "        break"
      ]
    },
    {
      "cell_type": "code",
      "execution_count": null,
      "metadata": {
        "ExecuteTime": {
          "end_time": "2023-01-02T22:50:05.065508Z",
          "start_time": "2023-01-02T22:50:05.063176Z"
        },
        "id": "-IGBClnrdU-N"
      },
      "outputs": [],
      "source": [
        "all_parties_flattened = [item for sublist in all_parties for item in sublist]"
      ]
    },
    {
      "cell_type": "code",
      "execution_count": null,
      "metadata": {
        "ExecuteTime": {
          "end_time": "2023-01-02T22:50:05.076828Z",
          "start_time": "2023-01-02T22:50:05.074446Z"
        },
        "id": "1g8v7QP2dU-O"
      },
      "outputs": [],
      "source": [
        "party_list_all = all_parties_flattened"
      ]
    },
    {
      "cell_type": "code",
      "execution_count": null,
      "metadata": {
        "ExecuteTime": {
          "end_time": "2023-01-02T22:50:05.097174Z",
          "start_time": "2023-01-02T22:50:05.080114Z"
        },
        "id": "6pdv7rwsdU-P"
      },
      "outputs": [],
      "source": [
        "from datetime import datetime\n",
        "\n",
        "party_list_subset = [item for item in all_parties_flattened\n",
        "                    if datetime.strptime(item['date'], '%Y-%m-%d') <= datetime.strptime('2014-12-01', '%Y-%m-%d')]"
      ]
    },
    {
      "cell_type": "markdown",
      "metadata": {
        "id": "ZUXqtVKEdU-P"
      },
      "source": [
        "Now that we have our list of parties, we'll need to filter out those that occurred after December 1st, 2014 (we keep the ones that occurred _on_ that date). The API provided us with the dates, as strings. One option would be to use `datetime`'s `strptime` method and the [format codes for dates](https://docs.python.org/3/library/datetime.html#strftime-and-strptime-behavior) to parse this into dates for comparison."
      ]
    },
    {
      "cell_type": "code",
      "execution_count": null,
      "metadata": {
        "ExecuteTime": {
          "end_time": "2023-01-02T22:50:05.200108Z",
          "start_time": "2023-01-02T22:50:05.161326Z"
        },
        "id": "k5-gEM37dU-R"
      },
      "outputs": [],
      "source": [
        "import dill\n",
        "\n",
        "with open('nysd-parties.pkd', 'wb') as f:\n",
        "    dill.dump(party_list, f)"
      ]
    },
    {
      "cell_type": "code",
      "execution_count": null,
      "metadata": {
        "ExecuteTime": {
          "end_time": "2023-01-02T22:50:05.204465Z",
          "start_time": "2023-01-02T22:50:05.201638Z"
        },
        "id": "30JIl3F2dU-S"
      },
      "outputs": [],
      "source": [
        " with open('nysd-parties.pkd', 'rb') as f:\n",
        "    party_list = dill.load(f)"
      ]
    },
    {
      "cell_type": "markdown",
      "metadata": {
        "id": "Di4gg_j8dU-S"
      },
      "source": [
        "## Question 1: histogram\n"
      ]
    },
    {
      "cell_type": "markdown",
      "metadata": {
        "id": "3FodlHy9dU-T"
      },
      "source": [
        "Get the number of party pages for each of the 95 months (that is, month-year pair) in the data.  Represent this histogram as a list of 95 tuples, each of the form `(\"Dec-2014\", 1)`.  Note that you can convert `datetime` objects into these sort of strings with `strftime` and the [format codes for dates](https://docs.python.org/3/library/datetime.html#strftime-and-strptime-behavior) from before.\n",
        "\n",
        "The grader is expecting the list of tuples.\n",
        "\n",
        "Plot the histogram for yourself.  Do you see any trends?"
      ]
    },
    {
      "cell_type": "code",
      "execution_count": null,
      "metadata": {
        "ExecuteTime": {
          "end_time": "2023-01-02T22:50:05.229661Z",
          "start_time": "2023-01-02T22:50:05.206144Z"
        },
        "id": "ZCI4M2rzdU-T"
      },
      "outputs": [],
      "source": [
        "party_list_subset_df = pd.DataFrame(party_list_subset)\n",
        "party_list_subset_df['date'] = pd.to_datetime(party_list_subset_df['date'])\n",
        "party_list_subset_df['date'] = party_list_subset_df['date'].dt.strftime('%b-%Y')"
      ]
    },
    {
      "cell_type": "code",
      "execution_count": null,
      "metadata": {
        "ExecuteTime": {
          "end_time": "2023-01-02T22:52:31.139970Z",
          "start_time": "2023-01-02T22:52:29.767493Z"
        },
        "id": "fdETtxeYdU-T",
        "outputId": "66989363-1d88-48ce-fa5b-dee049d0ad45"
      },
      "outputs": [
        {
          "data": {
            "text/plain": [
              "<AxesSubplot:xlabel='date', ylabel='name'>"
            ]
          },
          "execution_count": 49,
          "metadata": {},
          "output_type": "execute_result"
        },
        {
          "data": {
            "image/png": "[encoded data removed]",
            "text/plain": [
              "<Figure size 432x288 with 1 Axes>"
            ]
          },
          "metadata": {},
          "output_type": "display_data"
        }
      ],
      "source": [
        "import matplotlib.pyplot as plt\n",
        "data = party_list_subset_df.groupby('date')['name'].count().reset_index()\n",
        "sns.histplot(data=data, x='date', y='name')"
      ]
    },
    {
      "cell_type": "code",
      "execution_count": null,
      "metadata": {
        "ExecuteTime": {
          "end_time": "2023-01-03T00:10:50.693888Z",
          "start_time": "2023-01-03T00:10:50.685436Z"
        },
        "id": "pxenErs3dU-U",
        "outputId": "28c7ee2a-3988-4db2-e46b-5a871219a794"
      },
      "outputs": [
        {
          "data": {
            "text/html": [
              "<div>\n",
              "<style scoped>\n",
              "    .dataframe tbody tr th:only-of-type {\n",
              "        vertical-align: middle;\n",
              "    }\n",
              "\n",
              "    .dataframe tbody tr th {\n",
              "        vertical-align: top;\n",
              "    }\n",
              "\n",
              "    .dataframe thead th {\n",
              "        text-align: right;\n",
              "    }\n",
              "</style>\n",
              "<table border=\"1\" class=\"dataframe\">\n",
              "  <thead>\n",
              "    <tr style=\"text-align: right;\">\n",
              "      <th></th>\n",
              "      <th>date</th>\n",
              "      <th>name</th>\n",
              "    </tr>\n",
              "  </thead>\n",
              "  <tbody>\n",
              "    <tr>\n",
              "      <th>0</th>\n",
              "      <td>Dec-2014</td>\n",
              "      <td>2014-the-thanksgiving-day-parade-from-the-grou...</td>\n",
              "    </tr>\n",
              "    <tr>\n",
              "      <th>1</th>\n",
              "      <td>Nov-2014</td>\n",
              "      <td>2014-gala-guests</td>\n",
              "    </tr>\n",
              "    <tr>\n",
              "      <th>2</th>\n",
              "      <td>Nov-2014</td>\n",
              "      <td>2014-equal-justice</td>\n",
              "    </tr>\n",
              "    <tr>\n",
              "      <th>3</th>\n",
              "      <td>Nov-2014</td>\n",
              "      <td>2014-celebrating-the-treasures</td>\n",
              "    </tr>\n",
              "    <tr>\n",
              "      <th>4</th>\n",
              "      <td>Nov-2014</td>\n",
              "      <td>2014-associates-and-friends</td>\n",
              "    </tr>\n",
              "  </tbody>\n",
              "</table>\n",
              "</div>"
            ],
            "text/plain": [
              "       date                                               name\n",
              "0  Dec-2014  2014-the-thanksgiving-day-parade-from-the-grou...\n",
              "1  Nov-2014                                   2014-gala-guests\n",
              "2  Nov-2014                                 2014-equal-justice\n",
              "3  Nov-2014                     2014-celebrating-the-treasures\n",
              "4  Nov-2014                        2014-associates-and-friends"
            ]
          },
          "execution_count": 52,
          "metadata": {},
          "output_type": "execute_result"
        }
      ],
      "source": [
        "party_list_subset_df.head()"
      ]
    },
    {
      "cell_type": "code",
      "execution_count": null,
      "metadata": {
        "ExecuteTime": {
          "end_time": "2023-01-02T22:50:06.680117Z",
          "start_time": "2023-01-02T22:50:06.676246Z"
        },
        "id": "2iHpBZoEdU-U"
      },
      "outputs": [],
      "source": [
        "#party_list_subset_df['hist'] = party_list_subset_df[['date', 'name']].apply(tuple, axis=1)\n",
        "histogram = data.apply(tuple, axis=1).values.tolist()"
      ]
    },
    {
      "cell_type": "code",
      "execution_count": null,
      "metadata": {
        "ExecuteTime": {
          "end_time": "2023-01-02T22:50:06.686911Z",
          "start_time": "2023-01-02T22:50:06.681838Z"
        },
        "id": "V0rQ9onddU-U"
      },
      "outputs": [],
      "source": [
        "#histogram = [(\"Dec-2014\", 1)] * 95  # Replace this fake answer with your real results"
      ]
    },
    {
      "cell_type": "code",
      "execution_count": null,
      "metadata": {
        "ExecuteTime": {
          "end_time": "2023-01-02T22:50:07.436756Z",
          "start_time": "2023-01-02T22:50:06.688603Z"
        },
        "id": "pk3mnOisdU-V",
        "outputId": "783ab39f-7749-4330-b0ac-2cf98b57ba15"
      },
      "outputs": [
        {
          "name": "stdout",
          "output_type": "stream",
          "text": [
            "==================\n",
            "Your score: 1.0000\n",
            "==================\n"
          ]
        }
      ],
      "source": [
        "grader.score('graph__histogram', histogram)"
      ]
    },
    {
      "cell_type": "markdown",
      "metadata": {
        "id": "qCHSVOaqdU-V"
      },
      "source": [
        "## Parsing captions\n"
      ]
    },
    {
      "cell_type": "markdown",
      "metadata": {
        "id": "k1xu6_6rdU-V"
      },
      "source": [
        "We now have all of the parties.  For each party, we'll need to get the captions, then find who appears in each caption. Let's start with a single party, [the benefit cocktails and dinner](https://web.archive.org/web/20150913224145/http://www.newyorksocialdiary.com/party-pictures/2015/celebrating-the-neighborhood) for [Lenox Hill Neighborhood House](http://www.lenoxhill.org/), a neighborhood organization for the East Side. In our API, this corresponds to the party named `2015-celebrating-the-neighborhood`.  Let's get the captions for it.\n",
        "\n",
        "In our API, the `/captions` endpoint takes a parameter `party`, which we give the name of the party we want. We can then extract the captions from the JSON it returns."
      ]
    },
    {
      "cell_type": "code",
      "execution_count": null,
      "metadata": {
        "ExecuteTime": {
          "end_time": "2023-01-02T22:50:07.464372Z",
          "start_time": "2023-01-02T22:50:07.438952Z"
        },
        "id": "JQ1sJxbAdU-W",
        "outputId": "8b1ba27d-ef50-437d-dd76-729279698915"
      },
      "outputs": [
        {
          "data": {
            "text/plain": [
              "\"Glenn Adamson, Simon Doonan, Victoire de Castellane, Craig Leavitt, Jerome Chazen, Andi Potamkin, Ralph Pucci, Kirsten Bailey, Edwin Hathaway, and Dennis Freedman at the Museum of Art and Design's annual MAD BALL. \""
            ]
          },
          "execution_count": 23,
          "metadata": {},
          "output_type": "execute_result"
        }
      ],
      "source": [
        "import requests\n",
        "response = requests.get('https://party-captions.tditrain.com/captions?party=2015-celebrating-the-neighborhood')\n",
        "captions = response.json()['captions']\n",
        "captions[0]"
      ]
    },
    {
      "cell_type": "markdown",
      "metadata": {
        "id": "83sSwBx4dU-W"
      },
      "source": [
        "We'll need to do this for all of our parties later, so we should make it a function we can call. Take the party name as an argument and return the list of captions.\n",
        "\n",
        "We want to avoid having to hit the API repeatedly the next time we need to run the notebook.  While you could save the files by hand, as we did before, a checkpoint library like [ediblepickle](https://pypi.python.org/pypi/ediblepickle/1.1.3) can handle this for you.  (Note, though, that you may not want to enable this until you are sure that your function is working.)\n",
        "\n",
        "You should also keep in mind that HTTP requests fail occasionally, for transient reasons.  You should plan how to detect and react to these failures.   The [retrying module](https://pypi.python.org/pypi/retrying) is one way to deal with this."
      ]
    },
    {
      "cell_type": "code",
      "execution_count": null,
      "metadata": {
        "ExecuteTime": {
          "end_time": "2023-01-02T22:50:07.470738Z",
          "start_time": "2023-01-02T22:50:07.466209Z"
        },
        "id": "ZTJz4TKQdU-X"
      },
      "outputs": [],
      "source": [
        "from retrying import retry\n",
        "@retry\n",
        "def get_captions(party_name):\n",
        "    base = 'https://party-captions.tditrain.com/captions'\n",
        "    params = {'party': party_name}\n",
        "    captions = requests.get(base, params = params).json()['captions']\n",
        "    #captions.strip()\n",
        "    return captions"
      ]
    },
    {
      "cell_type": "code",
      "execution_count": null,
      "metadata": {
        "ExecuteTime": {
          "end_time": "2023-01-02T22:50:07.514330Z",
          "start_time": "2023-01-02T22:50:07.472630Z"
        },
        "id": "v1CZ4NWBdU-X",
        "outputId": "f9d656a8-a060-453b-f5de-99b8ea68802c"
      },
      "outputs": [
        {
          "data": {
            "text/plain": [
              "[' Mary Van Pelt and Melanie Chisholm ',\n",
              " ' Lindsey Pryor, Lucy Lamphere, Sheila Stephenson, and Betsy Bacon ',\n",
              " ' Nikki Brown and Kate Hemphill ',\n",
              " ' Maria Hernandez, Douglas Blonsky, and Kamie Lightburn ',\n",
              " ' Nina Griscom and Mark Gilbertson ',\n",
              " ' Dr. Marianne Engle, Susi Wunsch, and Cecilia Dupire ',\n",
              " ' Holly Hunt, Kamie Lightburn, and Stephanie Loeffler ',\n",
              " ' Nancy Mortimer, Jessica Tcherepnine, and Anne Ekstrom ',\n",
              " \" Sheila Stephenson and Lily O'Boyle \",\n",
              " ' Natalie Pray, Helen Fitzgerald, Lucy Day, and Sharon Casdin ']"
            ]
          },
          "execution_count": 25,
          "metadata": {},
          "output_type": "execute_result"
        }
      ],
      "source": [
        "#cap = get_captions('2015-sab-the-jewish-museum-roundabout-theatre-and-faces')\n",
        "cap = get_captions('2014-fall-fun')\n",
        "cap[15:25]"
      ]
    },
    {
      "cell_type": "markdown",
      "metadata": {
        "id": "v1rRYMrpdU-X"
      },
      "source": [
        "If things have gone according to plan, this should get the same captions as before."
      ]
    },
    {
      "cell_type": "code",
      "execution_count": null,
      "metadata": {
        "ExecuteTime": {
          "end_time": "2023-01-02T22:50:07.538522Z",
          "start_time": "2023-01-02T22:50:07.516009Z"
        },
        "id": "ixUeNSYRdU-X",
        "outputId": "16a1fa55-bc5a-42cc-d084-3a036d831760"
      },
      "outputs": [
        {
          "data": {
            "text/plain": [
              "True"
            ]
          },
          "execution_count": 26,
          "metadata": {},
          "output_type": "execute_result"
        }
      ],
      "source": [
        "# This cell is expecting get_captions to return a list of the captions themselves\n",
        "# Other routes to a solution might need to adjust this cell a bit\n",
        "grader.check(get_captions('2015-celebrating-the-neighborhood') == captions)"
      ]
    },
    {
      "cell_type": "markdown",
      "metadata": {
        "id": "yeHXA_FTdU-Y"
      },
      "source": [
        "Now that we have some sample captions, let's start parsing names out of those captions.  There are many ways of going about this, and we leave the details up to you.  Some issues to consider:\n",
        "\n",
        "  1. Some captions are not useful: they contain long narrative texts that explain the event.  Try to find some heuristic rules to separate captions that are a list of names from those that are not.  A few heuristics include:\n",
        "    - Look for sentences (which have verbs) and as opposed to lists of nouns. For example, [`nltk` does part of speech tagging](http://www.nltk.org/book/ch05.html) but it is a little slow. There may also be heuristics that accomplish the same thing.\n",
        "    - Similarly, spaCy's [entity recognition](https://spacy.io/docs/usage/entity-recognition) could be useful here, but like `nltk` using `spaCy` will add to processing time.\n",
        "    - Look for commonly repeated threads (e.g. you might end up picking up the photo credits or people such as \"a friend\").\n",
        "    - Long captions are often not lists of people.  The cutoff is subjective, but for grading purposes **we set that cutoff at 250 characters**.\n",
        "  1. Many of the captions contain extraneous whitespace or other formatting issues you may need to deal with.\n",
        "  1. You will want to separate the captions based on various forms of punctuation.  Try using `re.split`, which is more sophisticated than `string.split`. **Note**: The reference solution uses regex exclusively for name parsing.\n",
        "  1. You might find a person named \"ra Lebenthal\".  There is no one by this name.  Any idea what might cause that?\n",
        "  1. This site is pretty formal and likes to say things like \"Mayor Michael Bloomberg\" after his election but \"Michael Bloomberg\" before his election.  Can you find other ('optional') titles that are being used?  They should probably be filtered out because they ultimately refer to the same person: \"Michael Bloomberg.\"\n",
        "  1. There is a special case you might find where couples are written as e.g. \"John and Mary Smith\". You will need to write some extra logic to make sure this properly parses to two names: \"John Smith\" and \"Mary Smith\".\n",
        "  1. When parsing names from captions, it can help to look at your output frequently and address the problems that you see coming up, iterating until you have a list that looks reasonable. This is the approach used in the reference solution. Because we can only asymptotically approach perfect identification and entity matching, we have to stop somewhere.\n",
        "  1. Your eye is very good at doing this sort of parsing.  You will find it helpful to look at a caption and the names you parse of out it. Do this for a selection of captions to detect potential issues.\n",
        "  1. You want to keep the names in a caption together - that's how we can tell they're connected to each other! You should get one list of names for each caption.\n",
        "  \n",
        "**Questions worth considering:**\n",
        "  1. Who is Patrick McMullan and should he be included in the results? How would you address this?\n",
        "  2. What else could you do to improve the quality of the graph's information?"
      ]
    },
    {
      "cell_type": "code",
      "execution_count": null,
      "metadata": {
        "ExecuteTime": {
          "end_time": "2023-01-02T22:50:15.070363Z",
          "start_time": "2023-01-02T22:50:07.540135Z"
        },
        "id": "LGFyv_5pdU-Y"
      },
      "outputs": [],
      "source": [
        "# You will want to make a function that takes in a caption and returns a list of names\n",
        "#import re\n",
        "import regex as re\n",
        "import spacy\n",
        "nlp = spacy.load(\"en_core_web_sm\")\n",
        "\n",
        "def get_names(cap):\n",
        "    cap = cap.strip()\n",
        "    cap = cap.replace(\"&\",\"and\")\n",
        "    cap = re.sub(' +', ' ',  cap)\n",
        "\n",
        "    if len(cap)<=250:\n",
        "        regex = r'[A-Z][a-z]+ (?:[A-Z][a-z]+-? ?)?[A-Z][a-z]+(?:[A-Z][a-z]+)?'\n",
        "        regex_x = r'[A-Z][a-z]+ [A-Z]. [A-Z][a-z]+'\n",
        "        regex_c = r'(?<![A-Z][a-z]+ )[A-Z][a-z]+\\s?[^,]\\sand\\s[A-Z][a-z]+ [A-Z][a-z]+'\n",
        "\n",
        "        names = re.findall(regex,cap)\n",
        "        c_names = re.findall(regex_c, cap)\n",
        "        ans_names = []\n",
        "\n",
        "        for n in names:\n",
        "    #         print(\"n in names is \", n)\n",
        "            if (len(n.split(\" \"))) <= 2:\n",
        "                ans_names.append(n)\n",
        "            elif (len(n.split(\" \"))) > 2:\n",
        "                doc = nlp(n).ents\n",
        "                if len(doc)>0:\n",
        "                   # print(\">>>>>>>doc is \", doc[0].text,\" \", doc[0].label_)\n",
        "                    if doc[0].label_ == \"PERSON\":\n",
        "                        ans_names.append(n)\n",
        "            else:\n",
        "                print(f\"This n has a weird length {n}\")\n",
        "\n",
        "        names_x = re.findall(regex_x, cap)\n",
        "        for x in names_x:\n",
        "            if (len(x.split(\" \"))) <= 2:\n",
        "                ans_names.append(x)\n",
        "            elif (len(x.split(\" \"))) > 2:\n",
        "                doc = nlp(x).ents\n",
        "                if len(doc)>0:\n",
        "                    if doc[0].label_ == \"PERSON\":\n",
        "                        ans_names.append(x)\n",
        "\n",
        "        if len(c_names)>0:\n",
        "            couple_names = re.split('\\sand\\s',c_names[0])\n",
        "            couple_names_surname = re.split('\\s',couple_names[1])\n",
        "            combined_couple_name = f'{couple_names[0]} {couple_names_surname[1]}'\n",
        "            #names.append(combined_couple_name)\n",
        "            ans_names.append(combined_couple_name)\n",
        "\n",
        "    return ans_names"
      ]
    },
    {
      "cell_type": "markdown",
      "metadata": {
        "id": "qy4RhLw1dU-Y"
      },
      "source": [
        "## Question 2: sample_names\n"
      ]
    },
    {
      "cell_type": "markdown",
      "metadata": {
        "id": "rNIUhDh8dU-Z"
      },
      "source": [
        "Once you feel that your algorithm is working well, parse all of the captions we got from the `2015-celebrating-the-neighborhood` party and extract all the names mentioned.  Sort them alphabetically, by first name, and return the first hundred."
      ]
    },
    {
      "cell_type": "code",
      "execution_count": null,
      "metadata": {
        "ExecuteTime": {
          "end_time": "2023-01-02T22:50:15.324770Z",
          "start_time": "2023-01-02T22:50:15.072838Z"
        },
        "scrolled": true,
        "id": "yPYawWn9dU-Z",
        "outputId": "5ba13d2d-1d52-4cec-bcc2-0c60dcde3ee2"
      },
      "outputs": [
        {
          "name": "stdout",
          "output_type": "stream",
          "text": [
            "<class 'list'>\n"
          ]
        }
      ],
      "source": [
        "cap = get_captions('2015-celebrating-the-neighborhood')\n",
        "print(type(cap))\n",
        "all_names = []\n",
        "for c in cap:\n",
        "    #names = refine_names(c)\n",
        "    names = get_names(c)\n",
        "    #names = get_simple_names(c)\n",
        "    all_names.append(names)"
      ]
    },
    {
      "cell_type": "code",
      "execution_count": null,
      "metadata": {
        "ExecuteTime": {
          "end_time": "2023-01-02T22:50:15.348134Z",
          "start_time": "2023-01-02T22:50:15.326646Z"
        },
        "id": "AAjDzE-WdU-Z"
      },
      "outputs": [],
      "source": [
        "cap = get_captions('2015-celebrating-the-neighborhood')\n",
        "sample_names_pre = [s for ss in all_names for s in ss]\n",
        "sample_names=sorted(list(set(sample_names_pre)))[:100]"
      ]
    },
    {
      "cell_type": "code",
      "execution_count": null,
      "metadata": {
        "ExecuteTime": {
          "end_time": "2023-01-02T22:50:15.747226Z",
          "start_time": "2023-01-02T22:50:15.352531Z"
        },
        "id": "MsOxpjjhdU-Z",
        "outputId": "40b27471-57d1-47a5-f780-f6969788e182"
      },
      "outputs": [
        {
          "name": "stdout",
          "output_type": "stream",
          "text": [
            "==================\n",
            "Your score: 0.9500\n",
            "==================\n"
          ]
        }
      ],
      "source": [
        "#sample_names = [\"Caroline Dean\"] * 100\n",
        "\n",
        "grader.score('graph__sample_names', sample_names)"
      ]
    },
    {
      "cell_type": "markdown",
      "metadata": {
        "id": "ONT70miXdU-a"
      },
      "source": [
        "Now, test your tools on a few other parties.  You will probably find that other parties have new issues in their captions that trip up your caption parser.  But don't worry if the parser isn't perfect - just try to get the easy cases for now. You may need to come back and refine it more for the later questions, however."
      ]
    },
    {
      "cell_type": "markdown",
      "metadata": {
        "id": "wy1rL-WUdU-a"
      },
      "source": [
        "## Parsing all the parties\n"
      ]
    },
    {
      "cell_type": "markdown",
      "metadata": {
        "id": "ATqZ7sQedU-a"
      },
      "source": [
        "Once you are satisfied that your parser is working, we want to run it for all of our parties. First, get the captions for all of the parties in our party list. If you haven't implemented some caching of the captions, you probably want to do this first."
      ]
    },
    {
      "cell_type": "code",
      "execution_count": null,
      "metadata": {
        "ExecuteTime": {
          "end_time": "2023-01-02T22:50:35.001559Z",
          "start_time": "2023-01-02T22:50:15.749304Z"
        },
        "id": "OuzRKJyPdU-b"
      },
      "outputs": [],
      "source": [
        "# It may take several minutes to fetch all the captions\n",
        "\n",
        "all_captions=[]\n",
        "for p in party_list_subset_df['name']:\n",
        "    caps = get_captions(str(p))\n",
        "    capStrip = list(map(lambda s:s.strip(), caps))\n",
        "    all_captions.append(capStrip)"
      ]
    },
    {
      "cell_type": "code",
      "execution_count": null,
      "metadata": {
        "ExecuteTime": {
          "end_time": "2023-01-02T22:50:35.018591Z",
          "start_time": "2023-01-02T22:50:35.003635Z"
        },
        "id": "OXyk7ndrdU-b"
      },
      "outputs": [],
      "source": [
        "all_new_captions = [c for cap in all_captions for c in cap if len(c)>0 ]"
      ]
    },
    {
      "cell_type": "code",
      "execution_count": null,
      "metadata": {
        "ExecuteTime": {
          "end_time": "2023-01-02T22:50:35.067973Z",
          "start_time": "2023-01-02T22:50:35.020518Z"
        },
        "id": "CGaANHxLdU-b",
        "outputId": "5fc4ffc2-71af-4d69-d333-0dd205386c0e"
      },
      "outputs": [
        {
          "data": {
            "text/plain": [
              "106306"
            ]
          },
          "execution_count": 33,
          "metadata": {},
          "output_type": "execute_result"
        }
      ],
      "source": [
        "len(all_new_captions)"
      ]
    },
    {
      "cell_type": "markdown",
      "metadata": {
        "id": "p5mvS6tmdU-b"
      },
      "source": [
        "And parse the names in each caption."
      ]
    },
    {
      "cell_type": "code",
      "execution_count": null,
      "metadata": {
        "ExecuteTime": {
          "end_time": "2023-01-02T22:50:35.076096Z",
          "start_time": "2023-01-02T22:50:35.069943Z"
        },
        "id": "_JMJbE_4dU-c"
      },
      "outputs": [],
      "source": [
        "# You should have a list of names for each caption\n",
        "# Depending on how you set up your parser, this may take quite a while"
      ]
    },
    {
      "cell_type": "markdown",
      "metadata": {
        "id": "EzFtgZVndU-c"
      },
      "source": [
        "You should end up with over 100,000 captions and roughly 110,000 names."
      ]
    },
    {
      "cell_type": "markdown",
      "metadata": {
        "id": "JOz2_7ZhdU-c"
      },
      "source": [
        "## Building the graph"
      ]
    },
    {
      "cell_type": "markdown",
      "metadata": {
        "id": "XokJbD5rdU-d"
      },
      "source": [
        "For the remaining analysis, we think of the problem in terms of a\n",
        "[network](http://en.wikipedia.org/wiki/Computer_network) or a\n",
        "[graph](https://en.wikipedia.org/wiki/Graph_%28discrete_mathematics%29).  Any time a pair of people appear in a caption together, that is considered a link.  What we have described is more appropriately called an (undirected)\n",
        "[multigraph](http://en.wikipedia.org/wiki/Multigraph) with no self-loops, but this has an obvious analog in terms of an undirected [weighted graph](http://en.wikipedia.org/wiki/Graph_%28mathematics%29#Weighted_graph).\n",
        "\n",
        "In the remainder of this miniproject, we will analyze the social graph of the New York social elite.  We recommend using python's [`networkx`](https://networkx.github.io/) library to build this social graph."
      ]
    },
    {
      "cell_type": "code",
      "execution_count": null,
      "metadata": {
        "ExecuteTime": {
          "end_time": "2023-01-02T22:52:23.238605Z",
          "start_time": "2023-01-02T22:50:35.077958Z"
        },
        "id": "NZilzGtadU-d"
      },
      "outputs": [],
      "source": [
        "######Trying to just get the frequency here then peop_connections could be directly used edge creation\n",
        "from itertools import combinations\n",
        "import networkx as nx\n",
        "\n",
        "peop_connections=[]\n",
        "\n",
        "for cap in all_new_captions:\n",
        "    #unq_names = set(refine_names(str(cap)))\n",
        "    unq_names = set(get_names(str(cap)))\n",
        "    comb = list(combinations(unq_names, 2))\n",
        "    if (len(comb)>0):\n",
        "        peop_connections.append(comb)"
      ]
    },
    {
      "cell_type": "code",
      "execution_count": null,
      "metadata": {
        "ExecuteTime": {
          "end_time": "2023-01-03T00:11:51.963554Z",
          "start_time": "2023-01-03T00:11:51.929607Z"
        },
        "id": "_6_U6RLvdU-d",
        "outputId": "a50eac65-d769-45d7-c5f3-85521d15404f"
      },
      "outputs": [
        {
          "data": {
            "text/plain": [
              "[('Aalika Mahindra', 'Jorge Zapata'),\n",
              " ('Aaliyah Bell', 'Marcia Gowen'),\n",
              " ('Aamba Chavis', 'Bonnie Young'),\n",
              " ('Aarik Singh', 'Vinayak Singh'),\n",
              " ('Aarola Jain', 'Evans Jain'),\n",
              " ('Aarola Jain', 'Kim Heirston-Evans'),\n",
              " ('Aaron Adler', 'Nick Mautone'),\n",
              " ('Aaron Adler', 'Noah Adler'),\n",
              " ('Aaron Adler', 'Noah Adler'),\n",
              " ('Aaron Amaro', 'Libby Gray'),\n",
              " ('Aaron Baldinger', 'Mililani Trent'),\n",
              " ('Aaron Curti', 'Jan Linhart'),\n",
              " ('Aaron Curti', 'Judy Ann Hasel'),\n",
              " ('Aaron Curti', 'Roger Chin'),\n",
              " ('Aaron Curti', 'Carol Nobbs'),\n",
              " ('Aaron Curti', 'Carol Nobbs'),\n",
              " ('Aaron Eckhart', 'Carrie Cloud'),\n",
              " ('Aaron Edwards', 'Andrew Embiricos'),\n",
              " ('Aaron Edwards', 'Anthony Davalos'),\n",
              " ('Aaron Fedor', 'Tori Golub'),\n",
              " ('Aaron Fedor', 'Luke Fedor'),\n",
              " ('Aaron Fisher', 'Elizabeth Mayhew'),\n",
              " ('Aaron Fisher', 'Mary Pulido'),\n",
              " ('Aaron Forem', 'Brian Topken'),\n",
              " ('Aaron Forem', 'Mark Rosenberg'),\n",
              " ('Aaron Fossi', 'Maureen B. Whitaker'),\n",
              " ('Aaron Fossi', 'David Atterbury'),\n",
              " ('Aaron Fuller', 'Douglas Katz'),\n",
              " ('Aaron Fuller', 'Andrew Carmellini'),\n",
              " ('Aaron Fuller', 'Chefs Zach Bell'),\n",
              " ('Aaron Gell', 'Catherine Bryan'),\n",
              " ('Aaron Glickman', 'Chip Brady'),\n",
              " ('Aaron Glickman', 'Nicole Lozano'),\n",
              " ('Aaron Glickman', 'Sandra Sanchez'),\n",
              " ('Aaron Glickman', 'Alex Clarke'),\n",
              " ('Aaron Goldman', 'Beth Shapiro'),\n",
              " ('Aaron Goldman', 'Tim Cook'),\n",
              " ('Aaron Goldman', 'Tanzeen Syed'),\n",
              " ('Aaron Goldman', 'Dale Yates Berg'),\n",
              " ('Aaron Goldman', 'Brian Greeley'),\n",
              " ('Aaron Goldman', 'Jonathan Gurwitz'),\n",
              " ('Aaron Gross', 'Tiffani Hughes'),\n",
              " ('Aaron Hicklin', 'Christopher Bollen'),\n",
              " ('Aaron Hill', 'Susan Fales Hill'),\n",
              " ('Aaron Hollub', 'Jeff Flynn'),\n",
              " ('Aaron Hsu', 'Sasha Cutter'),\n",
              " ('Aaron Hsu', 'Sasha Cutter'),\n",
              " ('Aaron Hsu', 'Denise Deluca'),\n",
              " ('Aaron Hsu', 'Dina Chartouni'),\n",
              " ('Aaron Hsu', 'Sasha Cutter'),\n",
              " ('Aaron Jay Kernis', 'Copland House'),\n",
              " ('Aaron Jay Kernis', 'Michael Boriskin'),\n",
              " ('Aaron Jay Kernis', 'Thomas Kraines'),\n",
              " ('Aaron Jay Kernis', 'Chef Lidia Bastianich'),\n",
              " ('Aaron Jay Kernis', 'Michael Boriskin'),\n",
              " ('Aaron Jay Kernis', 'Fred Child'),\n",
              " ('Aaron Kaufman', 'Amy Bearss'),\n",
              " ('Aaron Kaufman', 'Susan Kaufman'),\n",
              " ('Aaron Kernis', 'Paul Moravec'),\n",
              " ('Aaron Kilberg', 'Christina Kilberg'),\n",
              " ('Aaron Kilberg', 'Mayi Alvarado'),\n",
              " ('Aaron Kilberg', 'Jamie Kettner'),\n",
              " ('Aaron Latham', 'Cokie Roberts'),\n",
              " ('Aaron Lazar', 'Kristen Bell'),\n",
              " ('Aaron Lazar', 'Steven Reineke'),\n",
              " ('Aaron Lazar', 'Ryan Silverman'),\n",
              " ('Aaron Lazar', 'Barbara Taylor Bradford'),\n",
              " ('Aaron Lazar', 'Steven Reineke'),\n",
              " ('Aaron Lazar', 'Ryan Silverman'),\n",
              " ('Aaron Lazar', 'Hara Lazar'),\n",
              " ('Aaron Lazar', 'Hara Lazar'),\n",
              " ('Aaron Leavitt', 'Lynne Leavitt'),\n",
              " ('Aaron Leavitt', 'Mark Leavitt'),\n",
              " ('Aaron Leavitt', 'Elaine Wolbrom'),\n",
              " ('Aaron Leavitt', 'Lynne Leavitt'),\n",
              " ('Aaron Leavitt', 'Irving Wolbrom'),\n",
              " ('Aaron Lenz', 'Adrienne Haber'),\n",
              " ('Aaron Lichtman', 'Gary Walker'),\n",
              " ('Aaron Lieber', 'Caroline Bassett'),\n",
              " ('Aaron Mankin', 'Travis Coursey'),\n",
              " ('Aaron Mankin', 'Patricia Kennedy'),\n",
              " ('Aaron Mankin', 'Michael Gillitzer'),\n",
              " ('Aaron Mankin', 'Gene Marzelli'),\n",
              " ('Aaron Mankin', 'Maddie Mankin'),\n",
              " ('Aaron Mankin', 'Brilee Coursey'),\n",
              " ('Aaron Marvin', 'Ellen Delsener'),\n",
              " ('Aaron Matthews', 'Michael Breed'),\n",
              " ('Aaron Matthews', 'Ken Rick'),\n",
              " ('Aaron Matthews', 'Cathy Rick'),\n",
              " ('Aaron Matthews', 'Paul Sullivan'),\n",
              " ('Aaron Mickelson', 'Mike Pratt'),\n",
              " ('Aaron Mickelson', 'The Art'),\n",
              " ('Aaron Mickelson', 'Concetta Stewart'),\n",
              " ('Aaron Mickelson', 'Renato Martins Cerqueira'),\n",
              " ('Aaron Mickelson', 'Hsin Lin'),\n",
              " ('Aaron Mickelson', 'Maija Rozenfelde'),\n",
              " ('Aaron Mickelson', 'Concetta Stewart'),\n",
              " ('Aaron Mickelson', 'Renato Martins Cerqueira'),\n",
              " ('Aaron Mickelson', 'Hsin Lin'),\n",
              " ('Aaron Mickelson', 'Maija Rozenfelde'),\n",
              " ('Aaron Miller', 'Mount Sinai'),\n",
              " ('Aaron Miller', 'Multiple Sclerosis'),\n",
              " ('Aaron Miller', 'Corinne Goldsmith Dickinson'),\n",
              " ('Aaron Miller', 'Allison Wade'),\n",
              " ('Aaron Miller', 'Gwyneth Scally'),\n",
              " ('Aaron Ness', 'Abigail Yap'),\n",
              " ('Aaron Ness', 'Jenny Suh'),\n",
              " ('Aaron Ness', 'Serena Ness'),\n",
              " ('Aaron Padin', 'Drew Train'),\n",
              " ('Aaron Padin', 'Jay Wee'),\n",
              " ('Aaron Padin', 'Dave Wasserman'),\n",
              " ('Aaron Padin', 'Alexis Reid'),\n",
              " ('Aaron Peterson', 'Adam Ozmer'),\n",
              " ('Aaron Rausen', 'Joshua Laterman'),\n",
              " ('Aaron Ross', 'Ahmad Bradshaw'),\n",
              " ('Aaron Rutter', 'Russell Rutter'),\n",
              " ('Aaron Rutter', 'Bellanca Smigel Rutter'),\n",
              " ('Aaron Rutter', 'Irwin Smigel'),\n",
              " ('Aaron Rutter', 'Eric Rutter'),\n",
              " ('Aaron Rutter', 'Mitchell Rutter'),\n",
              " ('Aaron Samuel Breslow', 'Daniella Pined'),\n",
              " ('Aaron Samuel Breslow', 'Daniella Pined'),\n",
              " ('Aaron Sanchez', 'Alex Guarnaschelli'),\n",
              " ('Aaron Sanchez', 'Ted Allen'),\n",
              " ('Aaron Sanchez', 'Geoffrey Zakarian'),\n",
              " ('Aaron Sanchez', 'Marc Murphy'),\n",
              " ('Aaron Scheer', 'Myra Scheer'),\n",
              " ('Aaron Schneider', 'Dean Zanuck'),\n",
              " ('Aaron Schneider', 'Dean Zanuck'),\n",
              " ('Aaron Schock', 'Doug Jones'),\n",
              " ('Aaron Schock', 'Sam Green'),\n",
              " ('Aaron Schumm', 'Brooke Goldstein'),\n",
              " ('Aaron Schumm', 'Jonathan Alpeyrie'),\n",
              " ('Aaron Schwimmer', 'Lorenzo Paoletti'),\n",
              " ('Aaron Sigmond', 'Kathy Murphy'),\n",
              " ('Aaron Smyth', 'Rachel Moore'),\n",
              " ('Aaron Sokasian', 'Stephanie Pasicov'),\n",
              " ('Aaron Sokasian', 'Kristin McGinnis'),\n",
              " ('Aaron Sokasian', 'Josh Malkin'),\n",
              " ('Aaron Sokasian', 'Julia Allison'),\n",
              " ('Aaron Sorkasian', 'Kristin McGinnis'),\n",
              " ('Aaron Sorkasian', 'Hayley Van Antwerp'),\n",
              " ('Aaron Sorkasian', 'Nancy Goslee'),\n",
              " ('Aaron Sorkasian', 'Lauren Willig'),\n",
              " ('Aaron Sorkasian', 'Chris Turcotte'),\n",
              " ('Aaron Sorkasian', 'Lauren Liles'),\n",
              " ('Aaron Sorkasian', 'Amy Biasotto'),\n",
              " ('Aaron Sorkasian', 'Marcy Lerner'),\n",
              " ('Aaron Standish', 'Joan Standish'),\n",
              " ('Aaron Stern', 'Jim Clark'),\n",
              " ('Aaron Stern', 'Jose Pepe Fanjul'),\n",
              " ('Aaron Stern', 'Cameron Richardson'),\n",
              " ('Aaron Stern', 'Ben Shulman'),\n",
              " ('Aaron Stern', 'Betsy Rudnick'),\n",
              " ('Aaron Stolpen', 'Betty Stolpen'),\n",
              " ('Aaron Tighe', 'Marie Olson Kahn'),\n",
              " ('Aaron Tighe', 'David Hidalgo'),\n",
              " ('Aaron Tighe', 'Mary Ann Tighe'),\n",
              " ('Aaron Tighe', 'Todd Kahn'),\n",
              " ('Aaron Tighe', 'Ann Tighe Dr'),\n",
              " ('Aaron Tighe', 'Will Tighe'),\n",
              " ('Aaron Tighe', 'David Hidalgo'),\n",
              " ('Aaron Tighe', 'Kimberly Tighe'),\n",
              " ('Aaron Tighe', 'David Hidalgo'),\n",
              " ('Aaron Tighe', 'Board Member'),\n",
              " ('Aaron Tighe', 'Pavi Lawson'),\n",
              " ('Aaron Tighe', 'William Tighe'),\n",
              " ('Aaron Tighe', 'David Hidalgo'),\n",
              " ('Aaron Tighe', 'Raymond Chalm'),\n",
              " ('Aaron Tighe', 'Board Member'),\n",
              " ('Aaron Tighe', 'Mike Devine'),\n",
              " ('Aaron Tighe', 'Rekha Nair'),\n",
              " ('Aaron Tighe', 'Dan Jurkowitz'),\n",
              " ('Aaron Tighe', 'Kimberly Tighe'),\n",
              " ('Aaron Tighe', 'Siobhan Roche'),\n",
              " ('Aaron Tighe', 'Alexander Hack'),\n",
              " ('Aaron Tighe', 'Alexandra Hack'),\n",
              " ('Aaron Virgin', 'Constantine Sidamon-Eristoff'),\n",
              " ('Aaron Wong', 'Frederico Seve'),\n",
              " ('Aaron Yoo', 'Julio DePietro'),\n",
              " ('Aaron Young', 'Colbi Jordan'),\n",
              " ('Aaron Young', 'Gretchen Jordan'),\n",
              " ('Aaron Young', 'Gina Nanni'),\n",
              " ('Aaron Young', 'Laure Heriard Dubreul'),\n",
              " ('Aaron Young', 'Laure Heriard Dubreul'),\n",
              " ('Aaron Young', 'Laure Heriard Dubreul'),\n",
              " ('Aaron Young', 'Alba Clemente'),\n",
              " ('Aaron Young', 'Francesco Clemente'),\n",
              " ('Aaron Young', 'David Kratz'),\n",
              " ('Aaron Young', 'David Kratz'),\n",
              " ('Aaron Young', 'Dayssi Olarte'),\n",
              " ('Aaron Young', 'Yvonne Force Villareal'),\n",
              " ('Aaron Zises', 'Lee Brodsky'),\n",
              " ('Aaron Zises', 'Shanna Weinberg'),\n",
              " ('Aaron Zises', 'Peter Stern'),\n",
              " ('Aaron Zises', 'Michael Baron'),\n",
              " ('Aaron Zises', 'David Baron'),\n",
              " ('Aaron Zises', 'Sarah Mohr'),\n",
              " ('Aaron Zises', 'Farryn Weiner'),\n",
              " ('Aaron Zych', 'Micki Stickford'),\n",
              " ('Aasif Mandvi', 'David Kener'),\n",
              " ('Abagail Durkin', 'Patricia Durkan'),\n",
              " ('Abaire Lindsay', 'David Lindsay-Abaire'),\n",
              " ('Abam Claude', 'The Rumbougha'),\n",
              " ('Abbe Goldstein', 'Jessica Bibliowicz'),\n",
              " ('Abbe Goldstein', 'Donna Blank'),\n",
              " ('Abbe Heller', 'Donna Dean'),\n",
              " ('Abbe Large', 'Greg Large'),\n",
              " ('Abbe Raven', 'Martin Tackel'),\n",
              " ('Abbe Raven', 'Hunter College'),\n",
              " ('Abbe Raven', 'Bill Kurtis'),\n",
              " ('Abbe Raven', 'Jennifer Raab'),\n",
              " ('Abbe Raven', 'Jennifer Raab'),\n",
              " ('Abbe Raven', 'Dominic Chianese'),\n",
              " ('Abbe Raven', 'Dominic Chianese'),\n",
              " ('Abbe Raven', 'Jennifer Raab'),\n",
              " ('Abbe Schriber', 'Vivian Crockett'),\n",
              " ('Abbe Serphos', 'Debra Peltz'),\n",
              " ('Abbe Serphos', 'Tricia Pantzer'),\n",
              " ('Abbe Serphos', 'Orli Shaham'),\n",
              " ('Abbey Berns', 'Tom Donigan'),\n",
              " ('Abbey Berns', 'David Snider'),\n",
              " ('Abbey Braverman', 'Jennifer Fisherman Ruff'),\n",
              " ('Abbey Braverman', 'Stephanie Winston Wolkoff'),\n",
              " ('Abbey Braverman', 'Stephanie Winston Wolkoff'),\n",
              " ('Abbey Braverman', 'Stephanie Winston Wolkoff'),\n",
              " ('Abbey Braverman', 'Lori Stokes'),\n",
              " ('Abbey Braverman', 'Aryan Shayegani'),\n",
              " ('Abbey Braverman', 'Stephanie Winston Wolkoff'),\n",
              " ('Abbey Braverman', 'Stephanie Winston Wolkoff'),\n",
              " ('Abbey Braverman', 'Stephanie Winston Wolkoff'),\n",
              " ('Abbey Braverman', 'Stephanie Winston Wolkoff'),\n",
              " ('Abbey Braverman', 'Julie Menin'),\n",
              " ('Abbey Braverman', 'Steve Braverman'),\n",
              " ('Abbey Drucker', 'Zoe Buckman'),\n",
              " ('Abbey Gardener', 'Adrienne Germain'),\n",
              " ('Abbey Gardener', 'Paul Farmer'),\n",
              " ('Abbey Gardener', 'Susan Blumenthal'),\n",
              " ('Abbey Gardener', 'Paul Farmer'),\n",
              " ('Abbey Gardener', 'Brian Brink'),\n",
              " ('Abbey Gardener', 'Adrienne Germain'),\n",
              " ('Abbey Gardener', 'Holly Andersen'),\n",
              " ('Abbey Gardener', 'Susan Nitze'),\n",
              " ('Abbey Gardener', 'Kathleen Gerard'),\n",
              " ('Abbey Gardener', 'Susan Nitze'),\n",
              " ('Abbey Hardy', 'Dave Hardy'),\n",
              " ('Abbey Roesney', 'Luke Manley'),\n",
              " ('Abbey Sheridan', 'Erika Wohlert'),\n",
              " ('Abbi Rosen', 'Elizabeth Smith'),\n",
              " ('Abbi Rosen', 'Lisa Hope'),\n",
              " ('Abbie Collier', 'Alexandra Hughes'),\n",
              " ('Abbie Noon', 'Rachel Znerold'),\n",
              " ('Abbie Suberman', 'Rita Ruggiero'),\n",
              " ('Abbie Suberman', 'Herbert Pardes'),\n",
              " ('Abbie Suberman', 'Nicole Kail Greene'),\n",
              " ('Abbie Suberman', 'Laura Drum Miller'),\n",
              " ('Abbie Suberman', 'Marc Dickstein'),\n",
              " ('Abbie Suberman', 'Betsy Anderson'),\n",
              " ('Abbie Suberman', 'Ali Murata'),\n",
              " ('Abbot Miller', 'Caroline Baumann'),\n",
              " ('Abbot Miller', 'Ellen Lupton'),\n",
              " ('Abbot Miller', 'Andrea Cochran'),\n",
              " ('Abby Bangser', 'Matt Bangser'),\n",
              " ('Abby Bangser', 'Matt Bangser'),\n",
              " ('Abby Cadabby', 'Elizabeth Vargas'),\n",
              " ('Abby Caulkins', 'Darcy Fogg'),\n",
              " ('Abby Caulkins', 'Amneliese Sendax'),\n",
              " ('Abby Caulkins', 'Cordelia Sendax'),\n",
              " ('Abby Chen', 'Madeline Chen'),\n",
              " ('Abby Chen', 'Jonathan Chen'),\n",
              " ('Abby Crisses', 'Andrew Crisses'),\n",
              " ('Abby Crisses', 'Susan Merinoff'),\n",
              " ('Abby Crisses', 'Barbara Albert'),\n",
              " ('Abby Crisses', 'Charles Merinoff'),\n",
              " ('Abby Doft', 'Karyn Kornfeld'),\n",
              " ('Abby Dunn', 'Brittan Callahan'),\n",
              " ('Abby Elbaum', 'Robert Kelly'),\n",
              " ('Abby Elbaum', 'New York-Presbyterian'),\n",
              " ('Abby Elbaum', 'Steven J. Corwin'),\n",
              " ('Abby Elbaum', 'Hospital Dr'),\n",
              " ('Abby Elbaum', 'Rick Elbaum'),\n",
              " ('Abby Elbaum', 'Brooks Kaufman'),\n",
              " ('Abby Elbaum', 'Stephanie Schulman'),\n",
              " ('Abby Elbaum', 'Robin Forrester'),\n",
              " ('Abby Epstein', 'Emmanuelle Chriqui'),\n",
              " ('Abby Epstein', 'Hamish Linklater'),\n",
              " ('Abby Goldstein', 'Irving Sandler'),\n",
              " ('Abby Goldstein', 'Ward Shelley'),\n",
              " ('Abby Healy', 'Kathryn Carey'),\n",
              " ('Abby Healy', 'Nicole Sexton'),\n",
              " ('Abby Healy', 'Jane McIntosh'),\n",
              " ('Abby Healy', 'Emily Carey'),\n",
              " ('Abby Huntsman', 'Mary Kaye Huntsman'),\n",
              " ('Abby Huntsman', 'Jon Huntsman Jr'),\n",
              " ('Abby Katzman', 'Shulamit Katzman'),\n",
              " ('Abby Katzman', 'Carolee Friedlander'),\n",
              " ('Abby Katzman', 'Eileen Youtie'),\n",
              " ('Abby Levin', 'Jerome Shapiro'),\n",
              " ('Abby Levin', 'Peter Stern'),\n",
              " ('Abby Levin', 'Todd Fisher'),\n",
              " ('Abby Levin', 'Rebecca Kahan'),\n",
              " ('Abby Levin', 'Lindsay Sobel'),\n",
              " ('Abby Levin', 'Lindsay Sobel'),\n",
              " ('Abby Manning', 'Brooke Travis'),\n",
              " ('Abby Manning', 'Lizzie Tisch'),\n",
              " ('Abby McCormick', 'Noren Ungaretti'),\n",
              " ('Abby Milstein', 'Howard Milstein'),\n",
              " ('Abby Milstein', 'Karen Barkey'),\n",
              " ('Abby Milstein', 'President Georgette Bennett'),\n",
              " ('Abby Milstein', 'Christine Schwarzman'),\n",
              " ('Abby Milstein', 'Richard LeFrak'),\n",
              " ('Abby Milstein', 'Charles Urstadt'),\n",
              " ('Abby Milstein', 'Wing Biddle'),\n",
              " ('Abby Milstein', 'Ellie Biddle'),\n",
              " ('Abby Milstein', 'Howard Milstein'),\n",
              " ('Abby Milstein', 'Executive Committee'),\n",
              " ('Abby Milstein', 'Betty Bobrow'),\n",
              " ('Abby Milstein', 'Howard Milstein'),\n",
              " ('Abby Modell', 'Cathy Yohay'),\n",
              " ('Abby Modell', 'Mitchell Blatt'),\n",
              " ('Abby Modell', 'Andrew Petronio'),\n",
              " ('Abby Modell', 'Marjorie Sobiloff'),\n",
              " ('Abby Modell', 'Ken Alpert'),\n",
              " ('Abby Modell', 'Mitch Blatt'),\n",
              " ('Abby Modell', 'Donny Deutsch'),\n",
              " ('Abby Moran', 'Designer Regina Kravtz'),\n",
              " ('Abby Nelson', 'Gene Gurkoff'),\n",
              " ('Abby Nelson', 'Gene Gurkoff'),\n",
              " ('Abby Patni', 'Judy Grubman'),\n",
              " ('Abby Patterson', 'Jennifer Patterson'),\n",
              " ('Abby Ruttenberg', 'Merel Cayne'),\n",
              " ('Abby Ruttenberg', 'David Freedberg'),\n",
              " ('Abby Ruttenberg', 'Sharon Kingenstein'),\n",
              " ('Abby Savage', 'Rebeccah Hardman'),\n",
              " ('Abby Savage', 'Amy Lau'),\n",
              " ('Abby Savage', 'Martha Rex'),\n",
              " ('Abby Schmidt', 'Joe Schmidt'),\n",
              " ('Abby Schmidt', 'Brooke Schmidt'),\n",
              " ('Abby Schmidt', 'Tyrrell Schmidt'),\n",
              " ('Abby Schroeder', 'Joe Benincasa'),\n",
              " ('Abby Setareh', 'Matt Daddario'),\n",
              " ('Abby Setareh', 'Jacqueline Setareh'),\n",
              " ('Abby Setareh', 'Jacqueline Setareh'),\n",
              " ('Abby Simmons', 'Sarah Irwin'),\n",
              " ('Abby Smith', 'Mickey Anania'),\n",
              " ('Abby Smith', 'Leigh McDermott'),\n",
              " ('Abby Smith', 'Ed McDermott'),\n",
              " ('Abby Smith', 'Blake Moore'),\n",
              " ('Abby Smith', 'Alexander McCoy'),\n",
              " ('Abby Spielman', 'Gary Trimarchi'),\n",
              " ('Abby Sroka', 'Keith Sroka'),\n",
              " ('Abby Starliper', 'Maggie Moore'),\n",
              " ('Abby Starliper', 'Emily Collins'),\n",
              " ('Abby Thorsgaard', 'Sara Wojza'),\n",
              " ('Abby Thorsgaard', 'Karen Kelly'),\n",
              " ('Abby Thorsgaard', 'Jill Zarin'),\n",
              " ('Abby Thorsgaard', 'Kristin Bailey'),\n",
              " ('Abby Thorsgaard', 'Regina Quinan'),\n",
              " ('Abby Thorsgaard', 'Charles Regensberg'),\n",
              " ('Abby Thorsgaard', 'Kristin Bailey'),\n",
              " ('Abby Thorsgaard', 'Sara Wojza'),\n",
              " ('Abby Vietor', 'Ed Vietor'),\n",
              " ('Abby Vinyard', 'Ashley Wick'),\n",
              " ('Abby Vinyard', 'Oliver Smith'),\n",
              " ('Abby Vinyard', 'Oliver Hoffman'),\n",
              " ('Abby Vinyard', 'Maeve Hickey'),\n",
              " ('Abby Vinyard', 'Flo Fulton'),\n",
              " ('Abby Vinyard', 'Maeve Hickey'),\n",
              " ('Abby Wallach', 'Marjorie Kuhn'),\n",
              " ('Abby Weisman', 'Helena Khazanova'),\n",
              " ('Abby Weissmann', 'Helena Khazanova'),\n",
              " ('Abby Winkelried', 'Jennifer Winkelried'),\n",
              " ('Abby Winkelried', 'Jon Winkelried'),\n",
              " ('Abby Zanarini', 'Kristin Munroe'),\n",
              " ('Abdo Ballester', 'Dungannon Foundation'),\n",
              " ('Abdul Zahid', 'Jefferey Ng'),\n",
              " ('Abdul Zahid', 'Deborah Cogut'),\n",
              " ('Abdul Zahid', 'John Delucie'),\n",
              " ('Abdul Zahid', 'Noella Cousaris'),\n",
              " ('Abdulaziz Al-Saud', 'Prince Abdulaziz'),\n",
              " ('Abdulaziz Al-Saud', 'Princess Sora'),\n",
              " ('Abdulla Awadi', 'Sam Mowert'),\n",
              " ('Abdulla Awadi', 'Abdi Karya'),\n",
              " ('Abdullah Al Awadhi', 'Dianne Benson'),\n",
              " ('Abdullah Al Awadhi', 'Robert Wilson'),\n",
              " ('Abdullah Al Awadhi', 'Elka Rufkin'),\n",
              " ('Abdullah Al Awadhi', 'Lys Marigold'),\n",
              " ('Abdullah Al Awadhi', 'Sheikha Paula Al'),\n",
              " ('Abdullah Al Awadhi', 'Dianne Benson'),\n",
              " ('Abdulrahman Thuruya', 'Baroness Gabriele'),\n",
              " ('Abdulrahman Thuruya', 'Paul Cardile'),\n",
              " ('Abdulrahman Thuruya', 'Carl Iannace'),\n",
              " ('Abe Goldfarb', 'Bastard Keith'),\n",
              " ('Abeille Debray', 'Julia Flatto'),\n",
              " ('Abel Yee', 'Beatrice Poschel'),\n",
              " ('Abel Yee', 'David Pullman'),\n",
              " ('Abelardo Burdumi', 'Kevin Olival'),\n",
              " ('Abelardo Burdumi', 'Shari Sampson'),\n",
              " ('Abena Koomson', 'Chico Mann'),\n",
              " ('Abenaa Abboa Offei', 'Mary Van Pelt'),\n",
              " ('Abi Gold', 'Charles Mathes'),\n",
              " ('Abi Gold', 'Magda Grigorian'),\n",
              " ('Abi Gold', 'Jane Kahan'),\n",
              " ('Abi Stafford', 'Russell Janzen'),\n",
              " ('Abi Stafford', 'Likolani Brown'),\n",
              " ('Abi Stafford', 'Amanda Hankes'),\n",
              " ('Abi Stafford', 'Devin Alberda'),\n",
              " ('Abi Stafford', 'Gretchen Smith'),\n",
              " ('Abi Stafford', 'Tom Gold'),\n",
              " ('Abi Stafford', 'Likolani Brown'),\n",
              " ('Abi Stafford', 'Amanda Hankes'),\n",
              " ('Abi Stafford', 'Devin Alberda'),\n",
              " ('Abi Stafford', 'Gretchen Smith'),\n",
              " ('Abigail Blinder', 'Lizzy Brenner'),\n",
              " ('Abigail Breslin', 'Amy Astley'),\n",
              " ('Abigail Darby', 'Liz Shaw'),\n",
              " ('Abigail Darby', 'Claudia Davidson'),\n",
              " ('Abigail Darby', 'Delvina Smith'),\n",
              " ('Abigail Darby', 'Tasha Smith'),\n",
              " ('Abigail Darby', 'Tasha Smith'),\n",
              " ('Abigail Darby', 'Liz Shaw'),\n",
              " ('Abigail Disney', 'Rachel Fine'),\n",
              " ('Abigail Disney', 'Sarah Kovner'),\n",
              " ('Abigail Disney', 'Martin Dunn'),\n",
              " ('Abigail Disney', 'Leymah Gbowee'),\n",
              " ('Abigail Disney', 'Avis Richards'),\n",
              " ('Abigail Disney', 'Brian Howes'),\n",
              " ('Abigail Disney', 'Pierre Hauser'),\n",
              " ('Abigail Disney', 'Brooke Beardsley'),\n",
              " ('Abigail Disney', 'Ana Oliveira'),\n",
              " ('Abigail Disney', 'Mayor Michael Bloomberg'),\n",
              " ('Abigail Disney', 'Carolyn Buck Luce'),\n",
              " ('Abigail Disney', 'Ana Oliveira'),\n",
              " ('Abigail E. Disney', 'Ana Oliveira'),\n",
              " ('Abigail Garcia', 'Terry Siracusano'),\n",
              " ('Abigail Gibavic', 'John Burman'),\n",
              " ('Abigail Gibavic', 'Jen Mitchell'),\n",
              " ('Abigail Golden', 'Martin Dawson'),\n",
              " ('Abigail Hawkins', 'Joseph Varet'),\n",
              " ('Abigail Hendel Levy', 'Meg McAuley'),\n",
              " ('Abigail Hirschhorn Beroutsos', 'Michael Graff'),\n",
              " ('Abigail Hirschhorn Beroutsos', 'Carol Ostrow'),\n",
              " ('Abigail Katzman', 'Michal Saad'),\n",
              " ('Abigail Kazam', 'Alex Content'),\n",
              " ('Abigail Kazam', 'Carolina Kim'),\n",
              " ('Abigail Kidd', 'Stacey Kidd'),\n",
              " ('Abigail Klem', 'Kat Cohen'),\n",
              " ('Abigail Klem', 'Melissa Meister'),\n",
              " ('Abigail Klem', 'Coralie Charriol'),\n",
              " ('Abigail Klem', 'Coralie Charriol'),\n",
              " ('Abigail Klem', 'Alixe Boyer'),\n",
              " ('Abigail Klem', 'Alixe Boyer'),\n",
              " ('Abigail Klem', 'Anne Dexter Jones'),\n",
              " ('Abigail Klem', 'David Wassong'),\n",
              " ('Abigail Kuklis', 'Alex Marini'),\n",
              " ('Abigail Lash', 'Christina Floyd Di'),\n",
              " ('Abigail Lash', 'Floyd Di Donna'),\n",
              " ('Abigail Lash', 'Charlie Allen'),\n",
              " ('Abigail Lash', 'Chair Kristin Fisher'),\n",
              " ('Abigail Lash', 'Alieda Keevil'),\n",
              " ('Abigail Lash', 'Kris Huegel'),\n",
              " ('Abigail Lash', 'Ann Hohenhaus'),\n",
              " ('Abigail Lash', 'Christina Floyd'),\n",
              " ('Abigail Lash', 'Kristin Fisher Allen'),\n",
              " ('Abigail Lash', 'Alexandra Goelet'),\n",
              " ('Abigail Lash', 'Alieda Keevil'),\n",
              " ('Abigail Lash', 'Travis Acquavella'),\n",
              " ('Abigail Lash', 'The Junior'),\n",
              " ('Abigail Lash', 'Kris Huegel'),\n",
              " ('Abigail Lash', 'Christina Floyd'),\n",
              " ('Abigail Lorick', 'Siki Im'),\n",
              " ('Abigail Lorick', 'Siki Im'),\n",
              " ('Abigail Manship', 'Lynsey Hossman'),\n",
              " ('Abigail Manship', 'Lisa Stroh'),\n",
              " ('Abigail Manship', 'Kaitlin Windle'),\n",
              " ('Abigail Manship', 'Kit Higgs'),\n",
              " ('Abigail Scheuer', 'Susie Block Casdin'),\n",
              " ('Abigail Scheuer Atema', 'Peter Wunsch'),\n",
              " ('Abigail Scheuer Atema', 'Alice Tisch'),\n",
              " ('Abigail Scheuer Atema', 'Susi Wunsch'),\n",
              " ('Abigail Scheuer Atema', 'Robert Grossman'),\n",
              " ('Abigail Scheuer Atema', 'Trudy Gottesman'),\n",
              " ('Abigail Scheuer Atema', 'Susi Wunsch'),\n",
              " ('Abigail Scheuer Atema', 'Katherine Manno'),\n",
              " ('Abigail Scheuer Atema', 'Pete Wunsch'),\n",
              " ('Abigail Scheuer Atema', 'Micke Weaver'),\n",
              " ('Abigail Scheuer Atema', 'Joana McDermott'),\n",
              " ('Abigail Scheuer Atema', 'Ella Scheuer'),\n",
              " ('Abigail Scheuer Atema', 'Gloria Pitagorsky'),\n",
              " ('Abigail Scheuer Atema', 'Lowell Pettit'),\n",
              " ('Abigail Scheuer Atema', 'Kate Klein'),\n",
              " ('Abigail Scheuer Atema', 'Beth Klein'),\n",
              " ('Abigail Scheuer Atema', 'Ella Atema'),\n",
              " ('Abigail Scheuer Atema', 'Benjamin Patton'),\n",
              " ('Abigail Scheuer Atema', 'Brian Kennedy'),\n",
              " ('Abigail Scheuer Atema', 'Astrid Kennedy'),\n",
              " ('Abigail Scheuer Atema', 'Joshua Laterman'),\n",
              " ('Abigail Scheuer Atema', 'Michael Weaver'),\n",
              " ('Abigail Scheuer Atema', 'Beth Klein'),\n",
              " ('Abigail Scheuer Atema', 'Kate Klein'),\n",
              " ('Abigail Scheuer Atema', 'Ella Atema'),\n",
              " ('Abigail Scheuer Atema', 'Alice Tisch'),\n",
              " ('Abigail Scheuer Atema', 'Susi Wunsch'),\n",
              " ('Abigail Scheuer Atema', 'Kimberly Pozner'),\n",
              " ('Abigail Scheuer Atema', 'Alice Tisch'),\n",
              " ('Abigail Scheuer Atema', 'Lisa Watkinson'),\n",
              " ('Abigail Spears', 'Robert Kendrick'),\n",
              " ('Abigail Spears', 'Jesse Witten'),\n",
              " ('Abigail Spears', 'Christina Fusano'),\n",
              " ('Abigail Starliper', 'Emily Collins'),\n",
              " ('Abigail Stone', 'Sam Dangremond'),\n",
              " ('Abigail Stone', 'Anne Cook'),\n",
              " ('Abigail Stone', 'Anne Haberman'),\n",
              " ('Abigail Stone', 'Kate Marshall'),\n",
              " ('Abigail Stone', 'Bess Chapman'),\n",
              " ('Abigail Stone', 'Andrey Golovicher'),\n",
              " ('Abigail Tufts', 'Briana Kresic'),\n",
              " ('Abigail Tufts', 'Jennifer Rolfe'),\n",
              " ('Abigail Tufts', 'Brittany Patton'),\n",
              " ('Abigail Wolcott', 'Nina Gray'),\n",
              " ('Abigail Wolcott', 'Martin Eidelberg'),\n",
              " ('Abigail Wolcott', 'Margi Hofer'),\n",
              " ('Abigail Yap', 'Jenny Suh'),\n",
              " ('Abigail Yap', 'Serena Ness'),\n",
              " ('Abigal Hord', 'Cherie Alcoff'),\n",
              " ('Abigal Hord', 'Cornelia Ercklentz'),\n",
              " ('Abio Franchini', 'Rose Salazar'),\n",
              " ('Abraham Cary', 'Jacqueline Keber'),\n",
              " ('Abraham Cary', 'Molly McCooey'),\n",
              " ('Abraham Chachoua', 'Ruth Oratz'),\n",
              " ('Abraham Lincoln', 'Diana DiMenna'),\n",
              " ('Abraham Lincoln', 'Lillian Stern'),\n",
              " ('Abraham Lincoln', 'Mary Snow'),\n",
              " ('Abraham Lincoln', 'Nathalie Kaplan'),\n",
              " ('Abraham Lincoln', 'David Fishman'),\n",
              " ('Abraham Lincoln', 'Yliana Yepez'),\n",
              " ('Abraham Lincoln', 'Donya Bommer'),\n",
              " ('Abraham Lincoln', 'David Fishman'),\n",
              " ('Abraham Lincoln', 'Benjamin Franklin'),\n",
              " ('Abraham Setbom', 'Gil Jackson'),\n",
              " ('Abraham Setbom', 'Justin Eden'),\n",
              " ('Abraham Setbom', 'Dutch Johnson'),\n",
              " ('Abraham Thomas', 'Monty Freeman'),\n",
              " ('Abstract Piece', 'Arlene Kaufman'),\n",
              " ('Aby Rosen', 'Averell Mortimer'),\n",
              " ('Aby Rosen', 'Paula Zahn'),\n",
              " ('Aby Rosen', 'Alberto Mugrabi'),\n",
              " ('Aby Rosen', 'Valesca Guerrand-Hermes'),\n",
              " ('Academic Affairs', 'Medical Center'),\n",
              " ('Academic Affairs', 'Anne Ehrenkranz'),\n",
              " ('Academic Affairs', 'Joel Ehrenkranz Dean'),\n",
              " ('Academic Affairs', 'Michaele Drayer'),\n",
              " ('Academic Affairs', 'Burt Drayer'),\n",
              " ('Academic Affairs', 'Dennis S. Charney'),\n",
              " ('Ace Greenberg', 'Spielvogel Greenberg'),\n",
              " ('Ace Young', 'Janine DiVita'),\n",
              " ('Ace Young', 'Vita Young'),\n",
              " ('Achievement Award', 'Kevin Spacey'),\n",
              " ('Achievement Award', 'Edwin Booth Lifetime'),\n",
              " ('Achievement Award Winner', 'Drama Desk Lifetime'),\n",
              " ('Achim Daub', 'Rhona Stokols'),\n",
              " ('Ackerman President', 'Lois Braverman'),\n",
              " ('Ackerman President', 'Natalie Morales'),\n",
              " ('Ackerman President', 'Honoree Colin Farrell'),\n",
              " ('Acting Chair', 'Concetta Stewart'),\n",
              " ('Action Co-Chair', 'Judith Sherman'),\n",
              " ('Action Co-Chair', 'Randi Rahm'),\n",
              " ('Action Co-Chair', 'Isaac Sherman'),\n",
              " ('Action Co-Chair', 'Isaac Sherman'),\n",
              " ('Action Dr', 'Ephraim Isaac'),\n",
              " ('Action Dr', 'Tanenbaum Peacemaker'),\n",
              " ('Action Dr', 'Joyce S. Dubensky'),\n",
              " ('Action Dr', 'Ephraim Isaac'),\n",
              " ('Action Dr', 'Patrick Grace'),\n",
              " ('Action Dr', 'Tanenbaum Peacemaker'),\n",
              " ('Action Hind Kabawat', 'Tanenbaum Peacemaker'),\n",
              " ('Actor James Kiberd', 'Catherine DeLotbiniere'),\n",
              " ('Actor James Kiberd', 'Anthony Maddalena'),\n",
              " ('Actor James Kiberd', 'Gala Co-Chairs'),\n",
              " ('Actor James Kiberd', 'Chairs O. Anthony'),\n",
              " ('Actor James Kiberd', 'Caron Johnson'),\n",
              " ('Actor James Kiberd', 'Catherine DeLotbiniere'),\n",
              " ('Actor Lachy Hulme', 'Martin Fabriniy'),\n",
              " ('Actor Lachy Hulme', 'Victoria Hill'),\n",
              " ('Actor Lachy Hulme', 'Victor Syrmis'),\n",
              " ('Actor Lachy Hulme', 'Lady MacBeth'),\n",
              " ('Actor Lachy Hulme', 'Jonny Pasvolsky'),\n",
              " ('Actor Richard Kind', 'Lisa Zimmerman'),\n",
              " ('Actor Richard Kind', 'Jay Alan Zimmerman'),\n",
              " ('Actress Jill', 'Tina Lundgren'),\n",
              " ('Actress Julie Andrews', 'Kristin Chenoweth'),\n",
              " ('Actress Laura Linney', 'Christine E. Potters'),\n",
              " ('Actress Laura Linney', 'Honorees Peter'),\n",
              " ('Actress Laura Linney', 'The Big'),\n",
              " ('Actress Laura Linney', 'Actress Cynthia Nixon'),\n",
              " ('Actress Mary Testa', 'Achievement Award Winner'),\n",
              " ('Actress Mary Testa', 'Drama Desk Lifetime'),\n",
              " ('Actress Sarah Bierstock', 'Lewen Stempler'),\n",
              " ('Actress Sarah Bierstock', 'Randall Stempler'),\n",
              " ('Actresses Janet McTerr', 'Jane Fonda'),\n",
              " ('Ada Carlston', 'Alva Carlston'),\n",
              " ('Ada Demaurier', 'Andres Szabo'),\n",
              " ('Ada Katz', 'Alex Katz'),\n",
              " ('Ada Katz', 'Roberto Juarez'),\n",
              " ('Ada Nieves', 'Roberto Negrin'),\n",
              " ('Ada Nieves', 'Roberto Negrin'),\n",
              " ('Ada Polemis', 'Zibby Tozer'),\n",
              " ('Adah Hill', 'Aieyla Santaella'),\n",
              " ('Adah Hill', 'Boys Club'),\n",
              " ('Adah Hill', 'Aieyla Santaella'),\n",
              " ('Adah Hill', 'Cory Booker'),\n",
              " ('Adah Hill', 'Byron Pitts'),\n",
              " ('Adah Hill', 'Aieyla Santaella'),\n",
              " ('Adair Weiss', 'Delerive Weiss'),\n",
              " ('Adam Aleksander', 'Andrea Summerton'),\n",
              " ('Adam Angel', 'Keegan Singh'),\n",
              " ('Adam Architecture', 'Robert Adam'),\n",
              " ('Adam Baca', 'Jamie Watkins'),\n",
              " ('Adam Ballout', 'Taila Ayay'),\n",
              " ('Adam Baron', 'Suvi Asch'),\n",
              " ('Adam Bartos', 'Mahnaz Isphani'),\n",
              " ('Adam Benowitz', 'William Bratton'),\n",
              " ('Adam Bergman', 'Peter Stern'),\n",
              " ('Adam Bergman', 'Will Bressman'),\n",
              " ('Adam Bergman', 'Aaron Zises'),\n",
              " ('Adam Bergman', 'Michael Baron'),\n",
              " ('Adam Bergman', 'David Baron'),\n",
              " ('Adam Bernard', 'Jay Pharaoh'),\n",
              " ('Adam Bernard', 'Karlie Kloss'),\n",
              " ('Adam Bernard', 'Derek Blasberg'),\n",
              " ('Adam Blitzer', 'Liz Bernard'),\n",
              " ('Adam Blitzer', 'Leah Nosnik'),\n",
              " ('Adam Brawan', 'Samantha Politzer'),\n",
              " ('Adam Brawan', 'Kid Sister'),\n",
              " ('Adam Brody', 'Malin Akerman'),\n",
              " ('Adam Brody', 'Malin Akerman'),\n",
              " ('Adam Brunk', 'Omid Masab'),\n",
              " ('Adam Brunk', 'Katy Dacey'),\n",
              " ('Adam Burk', 'Andrew Frankenberger'),\n",
              " ('Adam Burk', 'Lanny Grossman'),\n",
              " ('Adam Carl', 'Katie Brown'),\n",
              " ('Adam Chanler-Berat', 'Bolger Chanler'),\n",
              " ('Adam Chanler-Berat', 'Bolger Chanler'),\n",
              " ('Adam Chilenski', 'Lea Bonnier'),\n",
              " ('Adam Chin', 'Hannah Chinn'),\n",
              " ('Adam Chinn', 'Jerry Kremer'),\n",
              " ('Adam Chinn', 'Roger Ross'),\n",
              " ('Adam Chinn', 'Honorable A. Jerry'),\n",
              " ('Adam Chinn', 'Suzan Kremer'),\n",
              " ('Adam Chinn', 'The Honorable'),\n",
              " ('Adam Chinn', 'Nancy Bloom'),\n",
              " ('Adam Clayton', 'The Edge'),\n",
              " ('Adam Clayton', 'Mariana De Carvalho'),\n",
              " ('Adam Clayton', 'Morleigh Steinberg'),\n",
              " ('Adam Clayton', 'Ali Hewson'),\n",
              " ('Adam Cohen', 'Jackson Cohen'),\n",
              " ('Adam Cohen', 'Max Falkenstein'),\n",
              " ('Adam Cohen', 'David Fink'),\n",
              " ('Adam Cohen', 'Josh Fink'),\n",
              " ('Adam Crown', 'Alexandra Crown'),\n",
              " ('Adam Crown', 'Colitis Foundation'),\n",
              " ('Adam Crown', 'Annual Women'),\n",
              " ('Adam Crown', 'Amanda Crown'),\n",
              " ('Adam Crown', 'Ellen Crown'),\n",
              " ('Adam Cutone', 'Matt Daigle'),\n",
              " ('Adam Cutone', 'James Bushey'),\n",
              " ('Adam D. Breier', 'High School'),\n",
              " ('Adam D. Breier', 'Assistant Principal'),\n",
              " ('Adam D. Breier', 'Erasmus Hall'),\n",
              " ('Adam D. Weinberg', 'Whitney Museum'),\n",
              " ('Adam D. Weingberg', 'Calvin Tomkins'),\n",
              " ('Adam D. Weingberg', 'Dodie Kazanjian'),\n",
              " ('Adam Dalva', 'Courtney Riordan'),\n",
              " ('Adam Dalva', 'David Adam Dalva'),\n",
              " ('Adam Dalva', 'Brooke Travis'),\n",
              " ('Adam Dalva', 'Joseph Tursellino'),\n",
              " ('Adam Dalva', 'David Adam Dalva'),\n",
              " ('Adam Dalva', 'Joseph Tursellino'),\n",
              " ('Adam Daniel Weiss', 'Deryck Todd'),\n",
              " ('Adam Daniel Weiss', 'Matt Wagner'),\n",
              " ('Adam De Carlo', 'Ann Peil'),\n",
              " ('Adam De Carlo', 'Angela De Carlo'),\n",
              " ('Adam DePaulis', 'Susan Killkenny'),\n",
              " ('Adam Dell', 'David Croland'),\n",
              " ('Adam Dell', 'Alexa Dell'),\n",
              " ('Adam Dell', 'Alexa Dell'),\n",
              " ('Adam Dell', 'Kat Cohen'),\n",
              " ('Adam Dell', 'Karina Lepiner'),\n",
              " ('Adam Dell', 'Adam Hootnick'),\n",
              " ('Adam Dell', 'Jeff Lincoln'),\n",
              " ('Adam Dorros', 'Dennis Dorros'),\n",
              " ('Adam Dratch', 'Lee Bienstock'),\n",
              " ('Adam Dratch', 'Kate Tycher'),\n",
              " ('Adam Driver', 'Alicia Vikander'),\n",
              " ('Adam Driver', 'Nate Parker'),\n",
              " ('Adam Driver', 'Scoot McNairy'),\n",
              " ('Adam Driver', 'Domhnall Gleeson'),\n",
              " ('Adam Dub', 'Steven Jacoby'),\n",
              " ('Adam Dub', 'Scott Lehmann'),\n",
              " ('Adam Dugas', 'Carlos Campos'),\n",
              " ('Adam Dugas', 'Casey Spooner'),\n",
              " ('Adam Dugas', 'Casey Spooner'),\n",
              " ('Adam Dugas', 'Casey Spooner'),\n",
              " ('Adam Durrett', 'Sylvana Soto-Ward'),\n",
              " ('Adam Durrett', 'Ward Durrett'),\n",
              " ('Adam El Hout', 'Harry Daniell'),\n",
              " ('Adam El Hout', 'Pierre Berardo'),\n",
              " ('Adam Feldman', 'Jordan Feldman'),\n",
              " ('Adam Feldman', 'Helene Feldman'),\n",
              " ('Adam Fisher', 'Deborah Schoeneman'),\n",
              " ('Adam Flatto', 'Alessandro Fendi'),\n",
              " ('Adam Flatto', 'Dina De Luca'),\n",
              " ('Adam Flatto', 'Olivia Flatto'),\n",
              " ('Adam Flatto', 'Olivia Flatto'),\n",
              " ('Adam Flatto', 'Randy Kemper'),\n",
              " ('Adam Flatto', 'David Koch'),\n",
              " ('Adam Flatto', 'Julia Koch'),\n",
              " ('Adam Flatto', 'Olivia Flatto'),\n",
              " ('Adam Flatto', 'Olivia Flatto'),\n",
              " ('Adam Flatto', 'Christene McGarvey'),\n",
              " ('Adam Flatto', 'Barclay Palmer'),\n",
              " ('Adam Flatto', 'Amelia Langer'),\n",
              " ('Adam Flatto', 'Rachel Kim'),\n",
              " ('Adam Flatto', 'Barclay Palmer'),\n",
              " ('Adam Flatto', 'Olivia Flatto'),\n",
              " ('Adam Flatto', 'Olivia Flatto'),\n",
              " ('Adam Flatto', 'Francois Maisonrouge'),\n",
              " ('Adam Flatto', 'Consul General Francois'),\n",
              " ('Adam Flatto', 'Olivia Flatto'),\n",
              " ('Adam Forbes', 'Ben Lowry'),\n",
              " ('Adam Foster', 'Hayley Foster'),\n",
              " ('Adam Frank', 'Adam Palmesev'),\n",
              " ('Adam Frank', 'Eric Brody'),\n",
              " ('Adam Freedgood', 'Eric Freedgood'),\n",
              " ('Adam Fry', 'Catherine Flatley'),\n",
              " ('Adam Fry', 'Catherine Flatley'),\n",
              " ('Adam Fuss', 'Henrietta Otto'),\n",
              " ('Adam Gale', 'Jeff Kreisel'),\n",
              " ('Adam Gale', 'Oscar Garcia'),\n",
              " ('Adam Gam', 'Ilan Rosenthal'),\n",
              " ('Adam Glassman', 'Cindy Krupp'),\n",
              " ('Adam Glassman', 'Robert Farrior'),\n",
              " ('Adam Glick', 'Natalie Frank'),\n",
              " ('Adam Glick', 'Liz Bower'),\n",
              " ('Adam Glick', 'Karen Wong'),\n",
              " ('Adam Glick', 'Taylor Wallick'),\n",
              " ('Adam Glick', 'Leslie Wallick'),\n",
              " ('Adam Gold', 'Tanya Donelly'),\n",
              " ('Adam Goodman', 'Barbara Forem'),\n",
              " ('Adam Goodman', 'Aaron Forem'),\n",
              " ('Adam Goodman', 'Brian Topken'),\n",
              " ('Adam Goodman', 'Mark Rosenberg'),\n",
              " ('Adam Goodman', 'Brian Topken'),\n",
              " ('Adam Goodman', 'Mark Rosenberg'),\n",
              " ('Adam Gopnik', 'Martha Parker'),\n",
              " ('Adam Gopnik', 'Michael Solovay'),\n",
              " ('Adam Gopnik', 'Susan Solovay'),\n",
              " ('Adam Gopnik', 'Clare McKeon'),\n",
              " ('Adam Gopnik', 'Capera Ryan'),\n",
              " ('Adam Gopnik', 'Pauline Willis'),\n",
              " ('Adam Gopnik', 'Barbara Lane'),\n",
              " ('Adam Gopnik', 'Museum President Lorinda'),\n",
              " ('Adam Gopnik', 'Clifford Ross'),\n",
              " ('Adam Gopnik', 'Arne Glimcher'),\n",
              " ('Adam Gopnik', 'Lorraine Bracco'),\n",
              " ('Adam Gopnik', 'Pia Glenn'),\n",
              " ('Adam Gopnik', 'Salman Rushdie'),\n",
              " ('Adam Gopnik', 'Chair Calvin Trillin'),\n",
              " ('Adam Gopnik', 'Susan Cheever'),\n",
              " ('Adam Gopnik', 'Chrissie Iles'),\n",
              " ('Adam Gopnik', 'Petah Coyne'),\n",
              " ('Adam Gopnik', 'Fiona Donovan'),\n",
              " ('Adam Gottbetter', 'Lori Gottbetter'),\n",
              " ('Adam Gottbetter', 'Lori Gottbetter'),\n",
              " ('Adam Graev', 'Jeremy Goldstein'),\n",
              " ('Adam Graev', 'Larry Graev'),\n",
              " ('Adam Graev', 'Stacey DeGaro'),\n",
              " ('Adam Graev', 'Jennifer Paikoff'),\n",
              " ('Adam Graev', 'Haley Klein'),\n",
              " ('Adam Graev', 'Josh Winstral'),\n",
              " ('Adam Graves', 'James Kaufman'),\n",
              " ('Adam Graves', 'Sean Avery'),\n",
              " ('Adam Green', 'Susan Morris'),\n",
              " ('Adam Green', 'Mimi Crawford'),\n",
              " ('Adam Green', 'Susan Morris'),\n",
              " ('Adam Green', 'Mimi Crawford'),\n",
              " ('Adam Green', 'Mimi Crawford'),\n",
              " ('Adam Green', 'Mimi Crawford'),\n",
              " ('Adam Greenberger', 'Guy Regal'),\n",
              " ('Adam Greene', 'Anne Gilmartin'),\n",
              " ('Adam Greene', 'Peter Stamberg'),\n",
              " ('Adam Greene', 'Stamberg Aferiat'),\n",
              " ('Adam Greene', 'Paul Aferiat'),\n",
              " ('Adam Growald', 'Alexis Henderson'),\n",
              " ('Adam Growald', 'Schuster Tanger'),\n",
              " ('Adam Hadgiag', 'Tyra Hadgiag'),\n",
              " ('Adam Hadgiag', 'Tyra Hadgiag'),\n",
              " ('Adam Halper', 'Jessica Forbes'),\n",
              " ('Adam Hargis', 'Jonathan Simkhai'),\n",
              " ('Adam Hertz', 'Margarita Moore'),\n",
              " ('Adam Hirsch', 'Jessica Sylvester'),\n",
              " ('Adam Hirsch', 'Samantha Sylvester'),\n",
              " ('Adam Hirsch', 'Will Kelly'),\n",
              " ('Adam Hirsch', 'Jessica Sylvester'),\n",
              " ('Adam Hirsch', 'Daniel Kaufthal'),\n",
              " ('Adam Hirsch', 'Jackie Ciringione'),\n",
              " ('Adam Hirsh', 'Jaqueline Ramous'),\n",
              " ('Adam Hodes', 'Lisa Hodes'),\n",
              " ('Adam Hootnick', 'Jeff Lincoln'),\n",
              " ('Adam Horovitz', 'Mike Diamond'),\n",
              " ('Adam Horovitz', 'Mike Diamond'),\n",
              " ('Adam Horovitz', 'Kathleen Hannah'),\n",
              " ('Adam Horovitz', 'Rachael Horovitz'),\n",
              " ('Adam Hurly', 'Robbie Gordy'),\n",
              " ('Adam Ispahani', 'Mahnaz Ispahani Bartos'),\n",
              " ('Adam Ispahani', 'Katerina Dracopoulos'),\n",
              " ('Adam Johnson', 'Tori Mellott'),\n",
              " ('Adam Johnson', 'Jamie Drake'),\n",
              " ('Adam Johnson', 'Eddie Lee'),\n",
              " ('Adam Johnson', 'Elisabeth Blitzer'),\n",
              " ('Adam Johnson', 'Marisa Arredondo'),\n",
              " ('Adam Johnson', 'Marisa Arredondo'),\n",
              " ('Adam Karp', 'Stacy Mc Laughlin'),\n",
              " ('Adam Karp', 'Serina Tufo'),\n",
              " ('Adam Karp', 'Katy Kane'),\n",
              " ('Adam Karp', 'Gregory Cerio'),\n",
              " ('Adam Karp', 'Wendy Moonan'),\n",
              " ('Adam Katz', 'Andre Agassi'),\n",
              " ('Adam Katz', 'Jim Courier'),\n",
              " ('Adam Kies', 'Julie Rosen'),\n",
              " ('Adam Kimmel', 'Leelee Sobieski'),\n",
              " ('Adam Kimmel', 'Jared Kushner'),\n",
              " ('Adam Kimmel', 'Leelee Sobieski'),\n",
              " ('Adam Kimmel', 'Leelee Sobieski'),\n",
              " ('Adam Kimmel', 'Leelee Sobieski'),\n",
              " ('Adam Klopp', 'Juan Oliviera'),\n",
              " ('Adam Klopp', 'Ian Mactaggart'),\n",
              " ('Adam Klopp', 'Vicarrelo Team'),\n",
              " ('Adam Klopp', 'Bryan Colley'),\n",
              " ('Adam Klopp', 'Don Langlois'),\n",
              " ('Adam Klopp', 'Henry Zaveleta'),\n",
              " ('Adam Klopp', 'Woody Keesee'),\n",
              " ('Adam Klopp', 'Tom Flexner'),\n",
              " ('Adam Kolker', 'Jeffery Mechanick'),\n",
              " ('Adam Kolker', 'Ramon Parsons'),\n",
              " ('Adam Kolker', 'Fiction Panelists'),\n",
              " ('Adam Kolker', 'Elisa Port'),\n",
              " ('Adam Kolker', 'Lauren Kolker'),\n",
              " ('Adam Kornfeld', 'Stephen Kornfeld'),\n",
              " ('Adam Kornfeld', 'Steven Kobre'),\n",
              " ('Adam Kornfeld', 'Paul Friedman'),\n",
              " ('Adam Kornfeld', 'Louise Kornfeld'),\n",
              " ('Adam Kornfeld', 'Joanna Kornfeld'),\n",
              " ('Adam Kravitz', 'Meredith Meyer'),\n",
              " ('Adam Kravitz', 'Claire Anderberg'),\n",
              " ('Adam Lanza', 'Becca Earl'),\n",
              " ('Adam Lanza', 'Charles McConnell'),\n",
              " ('Adam Lavine', 'Peter Kane'),\n",
              " ('Adam Lavine', 'Jocelyn Levy'),\n",
              " ('Adam Lee', 'Maggie Bergman'),\n",
              " ('Adam Lee', 'Deborah Zwi'),\n",
              " ('Adam Levin', 'Heather McDowell'),\n",
              " ('Adam Levin', 'Dowell Levin'),\n",
              " ('Adam Levin', 'Heather McDowell'),\n",
              " ('Adam Levin', 'Kristin Harvey'),\n",
              " ('Adam Levin', 'Kathryn Morgan'),\n",
              " ('Adam Levin', 'Janice Levin Dancer'),\n",
              " ('Adam Levin', 'Tyler Angle'),\n",
              " ('Adam Levin', 'Kathryn Morgan'),\n",
              " ('Adam Levin', 'Janice Levin Dancer'),\n",
              " ('Adam Levine', 'Behati Prinsloo'),\n",
              " ('Adam Libove', 'Phil Issa'),\n",
              " ('Adam Lindemann', 'Amalia Dayan'),\n",
              " ('Adam Lindemann', 'Tom Eccles'),\n",
              " ('Adam Lippes', 'Marjorie Gubelmann'),\n",
              " ('Adam Lippes', 'Jessica Hart'),\n",
              " ('Adam Lippes', 'Derek Blasberg'),\n",
              " ('Adam Lippes', 'Jessica Hart'),\n",
              " ('Adam Lippes', 'Derek Blasberg'),\n",
              " ('Adam Lippes', 'Dorian Grinspan'),\n",
              " ('Adam Lippes', 'Elizabeth Von Thurn'),\n",
              " ('Adam Lippes', 'Dorian Grinspan'),\n",
              " ('Adam Lippes', 'Elizabeth Von Thurn'),\n",
              " ('Adam Lippes', 'Patricia Duff'),\n",
              " ('Adam Lippes', 'Lucas Goossens'),\n",
              " ('Adam Lippes', 'Elsa Honig Fine'),\n",
              " ('Adam Lippes', 'Dennis Basso'),\n",
              " ('Adam Lippes', 'Flora Collins'),\n",
              " ('Adam Lippes', 'Natalie Joos'),\n",
              " ('Adam Lippes', 'Dennis Basso'),\n",
              " ('Adam Lippes', 'Natalie Joos'),\n",
              " ('Adam Lippes', 'Bob Colquhoun'),\n",
              " ('Adam Lippes', 'Andrew Saffir'),\n",
              " ('Adam Lippes', 'Carlos Mota'),\n",
              " ('Adam Lippes', 'Juliano DeRossi'),\n",
              " ('Adam Lippes', 'Tracy Lippes'),\n",
              " ('Adam Lippes', 'Rossi Lippes'),\n",
              " ('Adam Lippes', 'Nancy Gonzalez'),\n",
              " ('Adam Lippes', 'Santiago Gonzalez'),\n",
              " ('Adam Lippes', 'Tory Burch'),\n",
              " ('Adam Lippman', 'Susan Petrey'),\n",
              " ('Adam Lipps', 'Natalie Joos'),\n",
              " ('Adam Lipps', 'Dayssi Olarte'),\n",
              " ('Adam Mahr', 'Jeff Pfiefle'),\n",
              " ('Adam Mahr', 'Matt Bershadker'),\n",
              " ('Adam Marquit', 'Danny Chaffetz'),\n",
              " ('Adam Max', 'Diane Max'),\n",
              " ('Adam Maxson', 'Alex Kaskel'),\n",
              " ('Adam McGovern', 'Eliza Czander'),\n",
              " ('Adam McGovern', 'Sydney Lalonde'),\n",
              " ('Adam McGovern', 'Nicole Noonan'),\n",
              " ('Adam Meyer', 'Patrick Romano'),\n",
              " ('Adam Miller', 'Devon Miller'),\n",
              " ('Adam Miller', 'Chris Williamson'),\n",
              " ('Adam Miller', 'Megan Duffy'),\n",
              " ('Adam Miller', 'Alex Poole'),\n",
              " ('Adam Moss', 'Lucy Danziger'),\n",
              " ('Adam Moss', 'Catherine Birndorf'),\n",
              " ('Adam Moss', 'Jonathan Ames'),\n",
              " ('Adam Munder', 'Beth Rudin DeWoody'),\n",
              " ('Adam Munder', 'Elisabeth Munder'),\n",
              " ('Adam Munder', 'Elisabeth Munder'),\n",
              " ('Adam Muszynski', 'Gail Muszynski'),\n",
              " ('Adam Nashban', 'Jeremiah Hernandez'),\n",
              " ('Adam Nathanson', 'Lauren Nathanson'),\n",
              " ('Adam Nelson', 'Seth Herzog'),\n",
              " ('Adam Nettler', 'Joan Robinson'),\n",
              " ('Adam Ozmer', 'Anne Henochowitz'),\n",
              " ('Adam Ozmer', 'Boyden Gray'),\n",
              " ('Adam Ozmer', 'Carly Pippin'),\n",
              " ('Adam Ozmer', 'Venessa Yung'),\n",
              " ('Adam Ozmer', 'Elizabeth Ladt'),\n",
              " ('Adam Ozmer', 'Andy Hunt'),\n",
              " ('Adam Ozmer', 'Lyz Bridgforth'),\n",
              " ('Adam Ozmer', 'Ceren Ozer'),\n",
              " ('Adam Paige Hess', 'Carolyn Daman'),\n",
              " ('Adam Palmesev', 'Eric Brody'),\n",
              " ('Adam Parascandola', 'Frances Hayward'),\n",
              " ('Adam Parascandola', 'Frances Hayward'),\n",
              " ('Adam Pitts', 'Joel Peat'),\n",
              " ('Adam Pogoda', 'Bess Castagnello'),\n",
              " ('Adam Prather', 'Doris Sangeorzan'),\n",
              " ('Adam Purcell', 'Barbara Jonas'),\n",
              " ('Adam Purcell', 'John Jonas'),\n",
              " ('Adam Putnam', 'Laurie Berg'),\n",
              " ('Adam Putnam', 'Elizabeth Rossa'),\n",
              " ('Adam Putnam', 'Rachel Greene'),\n",
              " ('Adam Putnam', 'Andy Comer'),\n",
              " ('Adam Putnam', 'Andy Comer'),\n",
              " ('Adam Quershi', 'Teena Blain'),\n",
              " ('Adam R. Rose', 'Peter R. Mc'),\n",
              " ('Adam R. Rose', 'Sandra Rose'),\n",
              " ('Adam Rathe', 'Melissa Lafsky'),\n",
              " ('Adam Rio', 'Cecilia Santa Cruz'),\n",
              " ('Adam Rio', 'Eric Alger'),\n",
              " ('Adam Rio', 'Eric Alger'),\n",
              " ('Adam Robison', 'Scott Buccheit'),\n",
              " ('Adam Robison', 'Gillian Hearst Simonds'),\n",
              " ('Adam Rose', 'Peter McQuillan'),\n",
              " ('Adam Rosenbluth', 'Matthew Mellon'),\n",
              " ('Adam Rudolph', 'Hassan Haknouu'),\n",
              " ('Adam Sanders', 'Jason Merker'),\n",
              " ('Adam Savage', 'Jamie Hyneman'),\n",
              " ('Adam Savage', 'David Zaslav'),\n",
              " ('Adam Schlesinger', 'Cynthia Humphrey'),\n",
              " ('Adam Schlesinger', 'Tom Humphrey'),\n",
              " ('Adam Schlesinger', 'Natasha Schlesinger'),\n",
              " ('Adam Schlesinger', 'Natasha Schlesinger'),\n",
              " ('Adam Schlossinger', 'Nanna Stern'),\n",
              " ('Adam Schlossinger', 'Dan Stern'),\n",
              " ('Adam Schlossinger', 'Natasha Schlossinger'),\n",
              " ('Adam Schneider', 'Emily Gyben'),\n",
              " ('Adam Schorsch', 'Catherine Manno'),\n",
              " ('Adam Schorsch', 'Peter Manno'),\n",
              " ('Adam Senad', 'Yasmeen Owusu'),\n",
              " ('Adam Senad', 'Frankie Hutchinson'),\n",
              " ('Adam Senn', 'Alex Lundqvist'),\n",
              " ('Adam Shankman', 'Patti LuPone'),\n",
              " ('Adam Shankman', 'Pone Shankman'),\n",
              " ('Adam Shapiro', 'Bobbi Coller'),\n",
              " ('Adam Shapiro', 'Rachel Kruglyak'),\n",
              " ('Adam Shapiro', 'Hilary Coller Kruglyak'),\n",
              " ('Adam Shapiro', 'Leonid Kruglyak'),\n",
              " ('Adam Shapiro', 'Bobbi Coller'),\n",
              " ('Adam Shapiro', 'Rachel Kruglyak'),\n",
              " ('Adam Shapiro', 'Hilary Coller Kruglyak'),\n",
              " ('Adam Shapiro', 'Leonid Kruglyak'),\n",
              " ('Adam Shapiro', 'Samantha Thompson'),\n",
              " ('Adam Shapiro', 'Jana Pasquel'),\n",
              " ('Adam Shapiro', 'Whitney Wolfe'),\n",
              " ('Adam Shapiro', 'Josh Davis'),\n",
              " ('Adam Sharaff', 'Linda Holiday'),\n",
              " ('Adam Sharaff', 'Angeli Gian'),\n",
              " ('Adam Shaw', 'Katie Plonskier'),\n",
              " ('Adam Sheffer', 'Janelle Reiring'),\n",
              " ('Adam Sheffer', 'Howard Read'),\n",
              " ('Adam Sheffer', 'Dorsey Waxter'),\n",
              " ('Adam Sheffer', 'Linda Blumberg'),\n",
              " ('Adam Sheffer', 'Topol Sheffer'),\n",
              " ('Adam Sheffer', 'Reza Farhomdeh'),\n",
              " ...]"
            ]
          },
          "execution_count": 55,
          "metadata": {},
          "output_type": "execute_result"
        }
      ],
      "source": [
        "all_connections_flattened"
      ]
    },
    {
      "cell_type": "code",
      "execution_count": null,
      "metadata": {
        "ExecuteTime": {
          "end_time": "2023-01-02T22:52:24.210029Z",
          "start_time": "2023-01-02T22:52:23.240662Z"
        },
        "id": "oVIQYQ0BdU-d"
      },
      "outputs": [],
      "source": [
        "from collections import Counter\n",
        "\n",
        "all_connections_flattened = [ i for pc in peop_connections for i in pc ]\n",
        "all_connections_flattened = sorted(all_connections_flattened, key = lambda x: x[0])\n",
        "\n",
        "G = nx.Graph()\n",
        "\n",
        "histogram_all_connections = Counter(all_connections_flattened)\n",
        "\n",
        "for p1, p2 in histogram_all_connections:\n",
        "    G.add_edge(p1,p2, weight = histogram_all_connections[(p1, p2)])"
      ]
    },
    {
      "cell_type": "code",
      "execution_count": null,
      "metadata": {
        "ExecuteTime": {
          "end_time": "2023-01-02T22:52:24.424273Z",
          "start_time": "2023-01-02T22:52:24.211892Z"
        },
        "id": "XZuv1JVPdU-d"
      },
      "outputs": [],
      "source": [
        "import pickle\n",
        "\n",
        "# save graph object to file\n",
        "pickle.dump(G, open('mynetwork.pickle', 'wb'))\n",
        "\n",
        "# load graph object from file\n",
        "#G = pickle.load(open('filename.pickle', 'rb'))"
      ]
    },
    {
      "cell_type": "markdown",
      "metadata": {
        "id": "xURLZ0hmdU-e"
      },
      "source": [
        "You should find you have roughly 200,000 distinct pairs of people appearing in photos together - corresponding to how many (weighted) edges there are in our graph."
      ]
    },
    {
      "cell_type": "markdown",
      "metadata": {
        "id": "XcMfHHn7dU-e"
      },
      "source": [
        "## Question 3: degree\n"
      ]
    },
    {
      "cell_type": "markdown",
      "metadata": {
        "id": "nVA7ODlHdU-e"
      },
      "source": [
        "The simplest question to ask is \"who is the most popular\"?  The easiest way to answer this question is to look at how many connections everyone has.  Return the top 100 people and their degree.  Remember that if an edge of the graph has weight 2, it counts for 2 in the degree.\n",
        "\n",
        "**Checkpoint:** Some aggregate stats on the solution:\n",
        "    \n",
        "    count:  100.0\n",
        "    mean:   202.2\n",
        "    std:     94.1\n",
        "    min:    132.0\n",
        "    25%:    146.8\n",
        "    50%:    169.5\n",
        "    75%:    212.0\n",
        "    max:    713.0\n",
        "    \n",
        "Note that these checkpoints are guidelines, you may not match them exactly."
      ]
    },
    {
      "cell_type": "code",
      "execution_count": null,
      "metadata": {
        "ExecuteTime": {
          "end_time": "2023-01-02T22:52:24.508682Z",
          "start_time": "2023-01-02T22:52:24.426204Z"
        },
        "id": "CnU_NM3RdU-f",
        "outputId": "46ab5601-743b-429e-a52a-7ee059d2119b"
      },
      "outputs": [
        {
          "name": "stdout",
          "output_type": "stream",
          "text": [
            "<class 'list'>\n"
          ]
        }
      ],
      "source": [
        "X = sorted(G.degree, key=lambda x: x[1], reverse=True)\n",
        "print(type(X[0:10]))"
      ]
    },
    {
      "cell_type": "code",
      "execution_count": null,
      "metadata": {
        "ExecuteTime": {
          "end_time": "2023-01-02T22:52:24.524195Z",
          "start_time": "2023-01-02T22:52:24.511293Z"
        },
        "id": "BYBNBNq3dU-f",
        "outputId": "21659c4c-a654-40f5-f56b-1f4d2e8eeeea"
      },
      "outputs": [
        {
          "name": "stdout",
          "output_type": "stream",
          "text": [
            "                1\n",
            "count  100.000000\n",
            "mean   138.810000\n",
            "std     54.256163\n",
            "min     92.000000\n",
            "25%    102.750000\n",
            "50%    125.000000\n",
            "75%    153.500000\n",
            "max    443.000000\n"
          ]
        }
      ],
      "source": [
        "df = pd.DataFrame(X[0:100])\n",
        "print(df.describe())"
      ]
    },
    {
      "cell_type": "code",
      "execution_count": null,
      "metadata": {
        "ExecuteTime": {
          "end_time": "2023-01-02T22:52:24.980723Z",
          "start_time": "2023-01-02T22:52:24.525951Z"
        },
        "id": "sFEqZkCQdU-f",
        "outputId": "4c089dfd-c42d-43d8-c2e1-aa72b10ec922"
      },
      "outputs": [
        {
          "name": "stdout",
          "output_type": "stream",
          "text": [
            "==================\n",
            "Your score: 0.9000\n",
            "==================\n"
          ]
        }
      ],
      "source": [
        "import heapq  # Heaps are efficient structures for tracking the largest\n",
        "              # elements in a collection.  Use introspection to find the\n",
        "              # function you need.\n",
        "#degree = [('Alec Baldwin', 144)] * 100\n",
        "\n",
        "degree = X[0:100]\n",
        "\n",
        "grader.score('graph__degree', degree)"
      ]
    },
    {
      "cell_type": "markdown",
      "metadata": {
        "id": "tyLg3v2LdU-f"
      },
      "source": [
        "## Question 4: PageRank\n"
      ]
    },
    {
      "cell_type": "markdown",
      "metadata": {
        "id": "rRwI5xvTdU-g"
      },
      "source": [
        "A similar way to determine popularity is to look at their\n",
        "[PageRank](http://en.wikipedia.org/wiki/PageRank).  PageRank is used for web ranking and was originally\n",
        "[patented](http://patft.uspto.gov/netacgi/nph-Parser?patentnumber=6285999) by Google and is essentially the stationary distribution of a [Markov\n",
        "chain](http://en.wikipedia.org/wiki/Markov_chain) implied by the social graph. You can implement this yourself or use the version in `networkx`.\n",
        "\n",
        "Use 0.85 as the damping parameter so that there is a 15% chance of jumping to another vertex at random.\n",
        "\n",
        "**Checkpoint:** Some aggregate stats on the solution:\n",
        "\n",
        "\n",
        "    count:  100.000000\n",
        "    mean:     0.000193\n",
        "    std:      0.000080\n",
        "    min:      0.000130\n",
        "    25%:      0.000144\n",
        "    50%:      0.000169\n",
        "    75%:      0.000206\n",
        "    max:      0.000646\n"
      ]
    },
    {
      "cell_type": "code",
      "execution_count": null,
      "metadata": {
        "ExecuteTime": {
          "end_time": "2023-01-02T22:52:25.950686Z",
          "start_time": "2023-01-02T22:52:24.982834Z"
        },
        "id": "SqlPn5bQdU-g"
      },
      "outputs": [],
      "source": [
        "pagerank_pre = nx.pagerank(G, alpha=0.85)"
      ]
    },
    {
      "cell_type": "code",
      "execution_count": null,
      "metadata": {
        "ExecuteTime": {
          "end_time": "2023-01-02T22:52:25.994692Z",
          "start_time": "2023-01-02T22:52:25.953662Z"
        },
        "id": "stUTV5BZdU-g"
      },
      "outputs": [],
      "source": [
        "pagerank = list(sorted(pagerank_pre.items(), key=lambda item: item[1], reverse=True))[:100]"
      ]
    },
    {
      "cell_type": "code",
      "execution_count": null,
      "metadata": {
        "ExecuteTime": {
          "end_time": "2023-01-02T22:52:26.068494Z",
          "start_time": "2023-01-02T22:52:25.996878Z"
        },
        "id": "BA7JW453dU-g",
        "outputId": "34eeae84-bf89-4e17-fe62-e14abe291b76"
      },
      "outputs": [
        {
          "name": "stdout",
          "output_type": "stream",
          "text": [
            "                1\n",
            "count  100.000000\n",
            "mean     0.000206\n",
            "std      0.000083\n",
            "min      0.000138\n",
            "25%      0.000154\n",
            "50%      0.000183\n",
            "75%      0.000226\n",
            "max      0.000660\n"
          ]
        }
      ],
      "source": [
        "df = pd.DataFrame(pagerank)\n",
        "print(df.describe())"
      ]
    },
    {
      "cell_type": "code",
      "execution_count": null,
      "metadata": {
        "ExecuteTime": {
          "end_time": "2023-01-02T22:52:26.529543Z",
          "start_time": "2023-01-02T22:52:26.070383Z"
        },
        "id": "hV3F9w9rdU-h",
        "outputId": "012af336-742b-49b5-daa5-2489d57413d4"
      },
      "outputs": [
        {
          "name": "stdout",
          "output_type": "stream",
          "text": [
            "==================\n",
            "Your score: 0.9100\n",
            "==================\n"
          ]
        }
      ],
      "source": [
        "#pagerank = [('Martha Stewart', 0.00019312108706213307)] * 100\n",
        "\n",
        "grader.score('graph__pagerank', pagerank)"
      ]
    },
    {
      "cell_type": "markdown",
      "metadata": {
        "id": "Q6OFHotKdU-h"
      },
      "source": [
        "## Question 5: best_friends\n"
      ]
    },
    {
      "cell_type": "markdown",
      "metadata": {
        "id": "3wg3tFNddU-h"
      },
      "source": [
        "Another interesting question is who tend to co-occur with each other.  Give us the 100 edges with the highest weights.\n",
        "\n",
        "Google these people and see what their connection is.  Can we use this to detect instances of infidelity?\n",
        "\n",
        "**Checkpoint:** Some aggregate stats on the solution:\n",
        "\n",
        "    count:  100.0\n",
        "    mean:    27.5\n",
        "    std:     16.9\n",
        "    min:     14.0\n",
        "    25%:     17.0\n",
        "    50%:     21.5\n",
        "    75%:     31.3\n",
        "    max:    122.0"
      ]
    },
    {
      "cell_type": "code",
      "execution_count": null,
      "metadata": {
        "ExecuteTime": {
          "end_time": "2023-01-02T22:52:26.859045Z",
          "start_time": "2023-01-02T22:52:26.531698Z"
        },
        "id": "syL_wdmCdU-h"
      },
      "outputs": [],
      "source": [
        "all_edges_with_weights = []\n",
        "\n",
        "for (u, v, wt) in G.edges.data('weight'):\n",
        "    #print(f\"({u}, {v}, {wt})\")\n",
        "    all_edges_with_weights.append(((u, v), wt))"
      ]
    },
    {
      "cell_type": "code",
      "execution_count": null,
      "metadata": {
        "ExecuteTime": {
          "end_time": "2023-01-02T22:52:26.883577Z",
          "start_time": "2023-01-02T22:52:26.861515Z"
        },
        "id": "tr64TwFKdU-i"
      },
      "outputs": [],
      "source": [
        "all_edges_with_weights.sort(key=lambda a: a[1], reverse=True)"
      ]
    },
    {
      "cell_type": "code",
      "execution_count": null,
      "metadata": {
        "ExecuteTime": {
          "end_time": "2023-01-02T22:52:26.903748Z",
          "start_time": "2023-01-02T22:52:26.885820Z"
        },
        "id": "S6HpNMn-dU-i",
        "outputId": "f3edb5d1-1a25-435a-a8df-189512ce5118"
      },
      "outputs": [
        {
          "data": {
            "text/html": [
              "<div>\n",
              "<style scoped>\n",
              "    .dataframe tbody tr th:only-of-type {\n",
              "        vertical-align: middle;\n",
              "    }\n",
              "\n",
              "    .dataframe tbody tr th {\n",
              "        vertical-align: top;\n",
              "    }\n",
              "\n",
              "    .dataframe thead th {\n",
              "        text-align: right;\n",
              "    }\n",
              "</style>\n",
              "<table border=\"1\" class=\"dataframe\">\n",
              "  <thead>\n",
              "    <tr style=\"text-align: right;\">\n",
              "      <th></th>\n",
              "      <th>1</th>\n",
              "    </tr>\n",
              "  </thead>\n",
              "  <tbody>\n",
              "    <tr>\n",
              "      <th>count</th>\n",
              "      <td>100.000000</td>\n",
              "    </tr>\n",
              "    <tr>\n",
              "      <th>mean</th>\n",
              "      <td>23.790000</td>\n",
              "    </tr>\n",
              "    <tr>\n",
              "      <th>std</th>\n",
              "      <td>17.232395</td>\n",
              "    </tr>\n",
              "    <tr>\n",
              "      <th>min</th>\n",
              "      <td>13.000000</td>\n",
              "    </tr>\n",
              "    <tr>\n",
              "      <th>25%</th>\n",
              "      <td>14.750000</td>\n",
              "    </tr>\n",
              "    <tr>\n",
              "      <th>50%</th>\n",
              "      <td>17.000000</td>\n",
              "    </tr>\n",
              "    <tr>\n",
              "      <th>75%</th>\n",
              "      <td>24.250000</td>\n",
              "    </tr>\n",
              "    <tr>\n",
              "      <th>max</th>\n",
              "      <td>121.000000</td>\n",
              "    </tr>\n",
              "  </tbody>\n",
              "</table>\n",
              "</div>"
            ],
            "text/plain": [
              "                1\n",
              "count  100.000000\n",
              "mean    23.790000\n",
              "std     17.232395\n",
              "min     13.000000\n",
              "25%     14.750000\n",
              "50%     17.000000\n",
              "75%     24.250000\n",
              "max    121.000000"
            ]
          },
          "execution_count": 47,
          "metadata": {},
          "output_type": "execute_result"
        }
      ],
      "source": [
        "df = pd.DataFrame(all_edges_with_weights[0:100])\n",
        "df.describe()"
      ]
    },
    {
      "cell_type": "code",
      "execution_count": null,
      "metadata": {
        "ExecuteTime": {
          "end_time": "2023-01-02T22:52:29.762858Z",
          "start_time": "2023-01-02T22:52:26.905861Z"
        },
        "id": "z7-ajaB2dU-i",
        "outputId": "93ab7ed4-b7a5-4543-cd3b-0eb229f220de"
      },
      "outputs": [
        {
          "name": "stdout",
          "output_type": "stream",
          "text": [
            "==================\n",
            "Your score: 0.9300\n",
            "==================\n"
          ]
        }
      ],
      "source": [
        "#best_friends = [(('Michael Kennedy', 'Eleanora Kennedy'), 41)] * 100\n",
        "best_friends = all_edges_with_weights[0:100]\n",
        "grader.score('graph__best_friends', best_friends)"
      ]
    }
  ],
  "metadata": {
    "kernelspec": {
      "display_name": "Python3",
      "language": "python",
      "name": "python3"
    },
    "language_info": {
      "codemirror_mode": {
        "name": "ipython",
        "version": 3
      },
      "file_extension": ".py",
      "mimetype": "text/x-python",
      "name": "python",
      "nbconvert_exporter": "python",
      "pygments_lexer": "ipython3",
      "version": "3.9.7"
    },
    "nbclean": true,
    "colab": {
      "provenance": [],
      "include_colab_link": true
    }
  },
  "nbformat": 4,
  "nbformat_minor": 0
}