{
  "cells": [
    {
      "cell_type": "markdown",
      "metadata": {
        "id": "view-in-github",
        "colab_type": "text"
      },
      "source": [
        "<a href=\"https://colab.research.google.com/github/shilpasy/Projects_partof_DataScienceFellowship_Python/blob/main/NLP_assignment.ipynb\" target=\"_parent\"><img src=\"https://colab.research.google.com/assets/colab-badge.svg\" alt=\"Open In Colab\"/></a>"
      ]
    },
    {
      "cell_type": "code",
      "execution_count": null,
      "metadata": {
        "ExecuteTime": {
          "end_time": "2023-01-04T22:54:14.845761Z",
          "start_time": "2023-01-04T22:54:13.704445Z"
        },
        "id": "AkaP4OzueS23"
      },
      "outputs": [],
      "source": [
        "import seaborn as sns\n",
        "sns.set()\n",
        "import pandas as pd"
      ]
    },
    {
      "cell_type": "code",
      "execution_count": null,
      "metadata": {
        "ExecuteTime": {
          "end_time": "2023-01-04T22:54:15.251447Z",
          "start_time": "2023-01-04T22:54:14.848162Z"
        },
        "id": "ojBMyZLIeS27"
      },
      "outputs": [],
      "source": [
        "from static_grader import grader\n",
        "from sklearn.pipeline import Pipeline\n",
        "from sklearn.linear_model import Ridge\n",
        "from sklearn.feature_extraction.text import CountVectorizer\n",
        "from sklearn.model_selection import train_test_split, GridSearchCV, cross_val_score\n",
        "from sklearn.linear_model import LinearRegression\n",
        "from sklearn.linear_model import SGDRegressor\n",
        "from sklearn.feature_extraction.text import TfidfTransformer\n",
        "from sklearn.feature_extraction.text import TfidfVectorizer\n",
        "from sklearn.naive_bayes import MultinomialNB\n",
        "import numpy as np\n",
        "import gzip\n",
        "import ujson as json"
      ]
    },
    {
      "cell_type": "markdown",
      "metadata": {
        "id": "JcLZdGWReS2-"
      },
      "source": [
        "# NLP: Analyzing Review Text\n"
      ]
    },
    {
      "cell_type": "markdown",
      "metadata": {
        "id": "t_3pTf3QeS3B"
      },
      "source": [
        "Unstructured data makes up the vast majority of data.  This is a basic intro to handling unstructured data.  Our objective is to be able to extract the sentiment (positive or negative) and gain insight from review text.  We will do this from Yelp review data."
      ]
    },
    {
      "cell_type": "markdown",
      "metadata": {
        "id": "9aHatX2leS3C"
      },
      "source": [
        "## Metrics and scoring"
      ]
    },
    {
      "cell_type": "markdown",
      "metadata": {
        "id": "QJEjLuIzeS3E"
      },
      "source": [
        "The first two questions task you to build models, of increasing complexity, to predict the rating of a review from its text. The grader uses a test set to evaluate your model's performance against our reference solution, using the $R^2$ score. It **is** possible to receive a score greater than one, indicating that you've beaten our reference model. We compare our model's score on a test set to your score on the same test set. See how high you can go!\n",
        "\n",
        "The final two questions asks only for the result of a calculation, and your results will be compared directly to those of a reference solution."
      ]
    },
    {
      "cell_type": "markdown",
      "metadata": {
        "id": "6W6ff2xEeS3F"
      },
      "source": [
        "## Download and parse the data\n"
      ]
    },
    {
      "cell_type": "markdown",
      "metadata": {
        "id": "NzzpwRbXeS3G"
      },
      "source": [
        "To start, let's download the data set from Amazon S3:"
      ]
    },
    {
      "cell_type": "code",
      "execution_count": null,
      "metadata": {
        "ExecuteTime": {
          "end_time": "2023-01-04T22:54:16.365587Z",
          "start_time": "2023-01-04T22:54:15.253634Z"
        },
        "id": "rI6GHyJYeS3H"
      },
      "outputs": [],
      "source": [
        "!aws s3 sync s3://dataincubator-course/mldata/ . --exclude '*' --include 'yelp_train_academic_dataset_review_reduced.json.gz'"
      ]
    },
    {
      "cell_type": "markdown",
      "metadata": {
        "id": "HV5L7akreS3J"
      },
      "source": [
        "The training data are a series of JSON objects, in a Gzipped file. Python supports Gzipped files natively: [`gzip.open`](https://docs.python.org/3/library/gzip.html) has the same interface as `open`, but handles `.gz` files automatically.\n",
        "\n",
        "The built-in `json` package has a `loads` function that converts a JSON string into a Python dictionary. We could call that once for each row of the file. [`ujson`](http://docs.micropython.org/en/latest/library/ujson.html) has the same interface as the built-in `json` package, but is *substantially* faster (at the cost of non-robust handling of malformed JSON). We will use that inside a list comprehension to get a list of dictionaries:"
      ]
    },
    {
      "cell_type": "code",
      "execution_count": null,
      "metadata": {
        "ExecuteTime": {
          "end_time": "2023-01-04T22:54:19.852385Z",
          "start_time": "2023-01-04T22:54:16.367850Z"
        },
        "id": "KXCn_KUMeS3J"
      },
      "outputs": [],
      "source": [
        "with gzip.open('yelp_train_academic_dataset_review_reduced.json.gz') as f:\n",
        "    data = [json.loads(line) for line in f]"
      ]
    },
    {
      "cell_type": "code",
      "execution_count": null,
      "metadata": {
        "ExecuteTime": {
          "end_time": "2023-01-04T22:54:19.861135Z",
          "start_time": "2023-01-04T22:54:19.855611Z"
        },
        "id": "CnnAooIPeS3L",
        "outputId": "066a1ce8-a46f-4bf8-898c-52b6cfb39a59"
      },
      "outputs": [
        {
          "data": {
            "text/plain": [
              "{'votes': {'funny': 0, 'useful': 0, 'cool': 0},\n",
              " 'user_id': 'Qrs3EICADUKNFoUq2iHStA',\n",
              " 'review_id': '_ePLBPrkrf4bhyiKWEn4Qg',\n",
              " 'stars': 1,\n",
              " 'date': '2013-04-19',\n",
              " 'text': \"I don't know what Dr. Goldberg was like before  moving to Arizona, but let me tell you, STAY AWAY from this doctor and this office. I was going to Dr. Johnson before he left and Goldberg took over when Johnson left. He is not a caring doctor. He is only interested in the co-pay and having you come in for medication refills every month. He will not give refills and could less about patients's financial situations. Trying to get your 90 days mail away pharmacy prescriptions through this guy is a joke. And to make matters even worse, his office staff is incompetent. 90% of the time when you call the office, they'll put you through to a voice mail, that NO ONE ever answers or returns your call. Both my adult children and husband have decided to leave this practice after experiencing such frustration. The entire office has an attitude like they are doing you a favor. Give me a break! Stay away from this doc and the practice. You deserve better and they will not be there when you really need them. I have never felt compelled to write a bad review about anyone until I met this pathetic excuse for a doctor who is all about the money.\",\n",
              " 'type': 'review',\n",
              " 'business_id': 'vcNAWiLM4dR7D2nwwJ7nCA'}"
            ]
          },
          "execution_count": 5,
          "metadata": {},
          "output_type": "execute_result"
        }
      ],
      "source": [
        "data[0]"
      ]
    },
    {
      "cell_type": "markdown",
      "metadata": {
        "id": "Sfzt1TObeS3L"
      },
      "source": [
        "The scikit-learn API requires that we keep labels (in this case, the star ratings) and features in separate data structures."
      ]
    },
    {
      "cell_type": "code",
      "execution_count": null,
      "metadata": {
        "ExecuteTime": {
          "end_time": "2023-01-04T22:54:19.925154Z",
          "start_time": "2023-01-04T22:54:19.862798Z"
        },
        "id": "r1nIDBKQeS3M"
      },
      "outputs": [],
      "source": [
        "stars = [row['stars'] for row in data]"
      ]
    },
    {
      "cell_type": "code",
      "execution_count": null,
      "metadata": {
        "ExecuteTime": {
          "end_time": "2023-01-04T22:54:20.351927Z",
          "start_time": "2023-01-04T22:54:19.926834Z"
        },
        "id": "4KF7VLO1eS3M",
        "outputId": "bf809e01-eefb-425a-9231-bc76d2d1bc13"
      },
      "outputs": [
        {
          "data": {
            "text/html": [
              "<div>\n",
              "<style scoped>\n",
              "    .dataframe tbody tr th:only-of-type {\n",
              "        vertical-align: middle;\n",
              "    }\n",
              "\n",
              "    .dataframe tbody tr th {\n",
              "        vertical-align: top;\n",
              "    }\n",
              "\n",
              "    .dataframe thead th {\n",
              "        text-align: right;\n",
              "    }\n",
              "</style>\n",
              "<table border=\"1\" class=\"dataframe\">\n",
              "  <thead>\n",
              "    <tr style=\"text-align: right;\">\n",
              "      <th></th>\n",
              "      <th>votes</th>\n",
              "      <th>user_id</th>\n",
              "      <th>review_id</th>\n",
              "      <th>stars</th>\n",
              "      <th>date</th>\n",
              "      <th>text</th>\n",
              "      <th>type</th>\n",
              "      <th>business_id</th>\n",
              "    </tr>\n",
              "  </thead>\n",
              "  <tbody>\n",
              "    <tr>\n",
              "      <th>0</th>\n",
              "      <td>{'funny': 0, 'useful': 0, 'cool': 0}</td>\n",
              "      <td>Qrs3EICADUKNFoUq2iHStA</td>\n",
              "      <td>_ePLBPrkrf4bhyiKWEn4Qg</td>\n",
              "      <td>1</td>\n",
              "      <td>2013-04-19</td>\n",
              "      <td>I don't know what Dr. Goldberg was like before...</td>\n",
              "      <td>review</td>\n",
              "      <td>vcNAWiLM4dR7D2nwwJ7nCA</td>\n",
              "    </tr>\n",
              "    <tr>\n",
              "      <th>1</th>\n",
              "      <td>{'funny': 6, 'useful': 0, 'cool': 0}</td>\n",
              "      <td>ZYaumz29bl9qHpu-KVtMGA</td>\n",
              "      <td>ow1c4Lcl3ObWxDC2yurwjQ</td>\n",
              "      <td>4</td>\n",
              "      <td>2009-05-04</td>\n",
              "      <td>If you like lot lizards, you'll love the Pine ...</td>\n",
              "      <td>review</td>\n",
              "      <td>JwUE5GmEO-sH1FuwJgKBlQ</td>\n",
              "    </tr>\n",
              "    <tr>\n",
              "      <th>2</th>\n",
              "      <td>{'funny': 0, 'useful': 0, 'cool': 0}</td>\n",
              "      <td>EEYwj6_t1OT5WQGypqEPNg</td>\n",
              "      <td>4iPPOQIo5Mr1NAUPUgCUrQ</td>\n",
              "      <td>4</td>\n",
              "      <td>2011-03-31</td>\n",
              "      <td>Only went here once about a year and a half ag...</td>\n",
              "      <td>review</td>\n",
              "      <td>JwUE5GmEO-sH1FuwJgKBlQ</td>\n",
              "    </tr>\n",
              "    <tr>\n",
              "      <th>3</th>\n",
              "      <td>{'funny': 0, 'useful': 1, 'cool': 0}</td>\n",
              "      <td>MnXcXwr0keJpkIiwuPsOKg</td>\n",
              "      <td>_utPYHIdXeq8CqQ4iYD1bw</td>\n",
              "      <td>3</td>\n",
              "      <td>2012-01-08</td>\n",
              "      <td>Ate a Saturday morning breakfast at the Pine C...</td>\n",
              "      <td>review</td>\n",
              "      <td>JwUE5GmEO-sH1FuwJgKBlQ</td>\n",
              "    </tr>\n",
              "    <tr>\n",
              "      <th>4</th>\n",
              "      <td>{'funny': 0, 'useful': 1, 'cool': 0}</td>\n",
              "      <td>wC8r-m6KHifL6R2i8ok8yg</td>\n",
              "      <td>gksnzyc9jQ9hNXESjvTrQw</td>\n",
              "      <td>3</td>\n",
              "      <td>2012-08-26</td>\n",
              "      <td>This is definitely not your usual truck stop. ...</td>\n",
              "      <td>review</td>\n",
              "      <td>JwUE5GmEO-sH1FuwJgKBlQ</td>\n",
              "    </tr>\n",
              "  </tbody>\n",
              "</table>\n",
              "</div>"
            ],
            "text/plain": [
              "                                  votes                 user_id  \\\n",
              "0  {'funny': 0, 'useful': 0, 'cool': 0}  Qrs3EICADUKNFoUq2iHStA   \n",
              "1  {'funny': 6, 'useful': 0, 'cool': 0}  ZYaumz29bl9qHpu-KVtMGA   \n",
              "2  {'funny': 0, 'useful': 0, 'cool': 0}  EEYwj6_t1OT5WQGypqEPNg   \n",
              "3  {'funny': 0, 'useful': 1, 'cool': 0}  MnXcXwr0keJpkIiwuPsOKg   \n",
              "4  {'funny': 0, 'useful': 1, 'cool': 0}  wC8r-m6KHifL6R2i8ok8yg   \n",
              "\n",
              "                review_id  stars        date  \\\n",
              "0  _ePLBPrkrf4bhyiKWEn4Qg      1  2013-04-19   \n",
              "1  ow1c4Lcl3ObWxDC2yurwjQ      4  2009-05-04   \n",
              "2  4iPPOQIo5Mr1NAUPUgCUrQ      4  2011-03-31   \n",
              "3  _utPYHIdXeq8CqQ4iYD1bw      3  2012-01-08   \n",
              "4  gksnzyc9jQ9hNXESjvTrQw      3  2012-08-26   \n",
              "\n",
              "                                                text    type  \\\n",
              "0  I don't know what Dr. Goldberg was like before...  review   \n",
              "1  If you like lot lizards, you'll love the Pine ...  review   \n",
              "2  Only went here once about a year and a half ag...  review   \n",
              "3  Ate a Saturday morning breakfast at the Pine C...  review   \n",
              "4  This is definitely not your usual truck stop. ...  review   \n",
              "\n",
              "              business_id  \n",
              "0  vcNAWiLM4dR7D2nwwJ7nCA  \n",
              "1  JwUE5GmEO-sH1FuwJgKBlQ  \n",
              "2  JwUE5GmEO-sH1FuwJgKBlQ  \n",
              "3  JwUE5GmEO-sH1FuwJgKBlQ  \n",
              "4  JwUE5GmEO-sH1FuwJgKBlQ  "
            ]
          },
          "execution_count": 7,
          "metadata": {},
          "output_type": "execute_result"
        }
      ],
      "source": [
        "mainDF = pd.DataFrame(data=data) #just for testing\n",
        "mainDF.head()"
      ]
    },
    {
      "cell_type": "code",
      "execution_count": null,
      "metadata": {
        "ExecuteTime": {
          "end_time": "2023-01-04T22:54:20.357166Z",
          "start_time": "2023-01-04T22:54:20.353794Z"
        },
        "id": "xOdKhU1MeS3N",
        "outputId": "193be31f-1bca-4521-9803-28ea658f6a4c"
      },
      "outputs": [
        {
          "data": {
            "text/plain": [
              "253272"
            ]
          },
          "execution_count": 8,
          "metadata": {},
          "output_type": "execute_result"
        }
      ],
      "source": [
        "len(stars)"
      ]
    },
    {
      "cell_type": "markdown",
      "metadata": {
        "id": "hgeB_NXIeS3O"
      },
      "source": [
        "# Questions\n"
      ]
    },
    {
      "cell_type": "markdown",
      "metadata": {
        "id": "H-2nhnS-eS3O"
      },
      "source": [
        "## Question 1: bag_of_words_model"
      ]
    },
    {
      "cell_type": "markdown",
      "metadata": {
        "id": "M5O27Zk2eS3O"
      },
      "source": [
        "Build a linear model predicting the star rating based on the text reviews. Apply the bag-of-words model using the [`CountVectorizer`](http://scikit-learn.org/stable/modules/generated/sklearn.feature_extraction.text.CountVectorizer.html#sklearn.feature_extraction.text.CountVectorizer) to produce a feature matrix giving the counts of each word in each review.\n",
        "\n",
        "**Hints**:\n",
        "1. You will need to extract the review text from the raw input data, a list of dictionaries. You can take a similar approach you took in the `ml` miniproject by first converting the data into a pandas data frame and then using [`ColumnTransformer`](https://scikit-learn.org/stable/modules/generated/sklearn.compose.ColumnTransformer.html?highlight=columntransformer#sklearn.compose.ColumnTransformer) or you can build a custom transform to extract the text. Either way, remember that the `CountVectorizer` accepts as input to its `transform` method a 1D array of text.\n",
        "\n",
        "1. Try choosing different values for `min_df` (minimum document frequency cutoff) and `max_df` in `CountVectorizer`. Setting `min_df` to zero admits rare words which might only appear once in the entire corpus.  This is both prone to overfitting and makes your data unmanageably large.  Don't forget to use cross-validation to select the right value.\n",
        "\n",
        "1. Try using [`LinearRegression`](http://scikit-learn.org/stable/modules/generated/sklearn.linear_model.LinearRegression.html#sklearn.linear_model.LinearRegression) or [`Ridge`](https://scikit-learn.org/stable/modules/generated/sklearn.linear_model.Ridge.html?highlight=ridge#sklearn.linear_model.Ridge). There is also [`RidgeCV`](https://scikit-learn.org/stable/modules/generated/sklearn.linear_model.RidgeCV.html?highlight=ridge#sklearn.linear_model.RidgeCV) which has built-in leave-on-out cross-validation. If the memory footprint is too big, try switching to [Stochastic Gradient Descent](http://scikit-learn.org/stable/modules/generated/sklearn.linear_model.SGDRegressor.html#sklearn.linear_model.SGDRegressor). Don't forget to search for the optimal value of the regularization parameter. How do the regularization parameter `alpha` and the values of `min_df` and `max_df` from `CountVectorizer` change the answer?\n",
        "\n",
        "1. You will likely pick up several hyperparameters between the vectorization step and the regularization of the predictor. While it is more strictly correct to do a grid search over all of them at once, this can take a long time. Quite often, doing a grid search over a single hyperparameter at a time can produce similar results.  Alternatively, the grid search may be done over a smaller subset of the data, as long as it is representative of the whole.\n",
        "\n",
        "1. Finally, assemble a pipeline that will transform the data from list of dictionaries all the way to predictions.  This will allow you to submit the model's `predict` method to the grader for scoring as the test set used by the grader is a list of dictionaries."
      ]
    },
    {
      "cell_type": "code",
      "execution_count": null,
      "metadata": {
        "ExecuteTime": {
          "end_time": "2023-01-04T22:54:20.371376Z",
          "start_time": "2023-01-04T22:54:20.367251Z"
        },
        "id": "j9xmb3HBeS3P"
      },
      "outputs": [],
      "source": [
        "from sklearn.base import TransformerMixin, BaseEstimator\n",
        "\n",
        "class DFtext(BaseEstimator, TransformerMixin):\n",
        "    def fit(self, X, y=None):\n",
        "        # This transformer doesn't need to learn anything about the data, so it can just return self without any further processing\n",
        "        return self\n",
        "\n",
        "    def transform(self, X):\n",
        "        # Return a pandas data frame from X\n",
        "        df_data = pd.DataFrame(X)\n",
        "        return df_data['text']"
      ]
    },
    {
      "cell_type": "code",
      "execution_count": null,
      "metadata": {
        "ExecuteTime": {
          "end_time": "2023-01-04T22:54:20.784691Z",
          "start_time": "2023-01-04T22:54:20.373080Z"
        },
        "id": "8l9u0e_9eS3Q",
        "outputId": "daa68018-11ff-479e-e557-111193c328ff"
      },
      "outputs": [
        {
          "name": "stdout",
          "output_type": "stream",
          "text": [
            "Only went here once about a year and a half ago, but they had great pancakes! My only problem with it at the time was that they allowed smoking, so I left smelling like a cigarette. With the change in law, I'm sure the atmosphere has improved!\n"
          ]
        }
      ],
      "source": [
        "review_text = DFtext().fit_transform(data)\n",
        "print (review_text[2])"
      ]
    },
    {
      "cell_type": "code",
      "execution_count": null,
      "metadata": {
        "ExecuteTime": {
          "end_time": "2023-01-04T22:54:27.084910Z",
          "start_time": "2023-01-04T22:54:20.786537Z"
        },
        "id": "nNmb0-E2eS3Q"
      },
      "outputs": [],
      "source": [
        "import spacy\n",
        "nlp = spacy.load(\"en_core_web_sm\")"
      ]
    },
    {
      "cell_type": "code",
      "execution_count": null,
      "metadata": {
        "ExecuteTime": {
          "end_time": "2023-01-04T22:54:27.089394Z",
          "start_time": "2023-01-04T22:54:27.087344Z"
        },
        "id": "Dt0pWnk8eS3R"
      },
      "outputs": [],
      "source": [
        "#for revtxt in review_text:\n",
        "#    for s in (nlp(revtxt).sents):\n",
        " #       print(s)"
      ]
    },
    {
      "cell_type": "code",
      "execution_count": null,
      "metadata": {
        "ExecuteTime": {
          "end_time": "2023-01-04T22:54:27.162680Z",
          "start_time": "2023-01-04T22:54:27.093112Z"
        },
        "id": "82X6RLQHeS3R"
      },
      "outputs": [],
      "source": [
        "from sklearn.model_selection import train_test_split\n",
        "X_train, X_test, y_train, y_test = train_test_split(mainDF['text'], stars, test_size=0.25)#, random_state=42)"
      ]
    },
    {
      "cell_type": "code",
      "execution_count": null,
      "metadata": {
        "ExecuteTime": {
          "end_time": "2023-01-04T22:54:27.170068Z",
          "start_time": "2023-01-04T22:54:27.164503Z"
        },
        "id": "MkFouBvEeS3S"
      },
      "outputs": [],
      "source": [
        "pipelineQ1 = Pipeline ([\n",
        "    ('review_text',  DFtext()),\n",
        "    ('bag_of_words_vectorizer', CountVectorizer()),\n",
        "    #('regressor', Ridge())\n",
        "    #('regressor', LinearRegression())\n",
        "    ('regressor', SGDRegressor())\n",
        "])\n",
        "\n",
        "param_grid = {'bag_of_words_vectorizer__max_df' : (0.6, 0.7, 0.8, 0.9, 1),\n",
        "             'bag_of_words_vectorizer__min_df': (2, 4, 6),\n",
        "              #bag_of_words_vectorizer__ngram_range: ((2,2), (2,3))\n",
        "              'regressor__alpha': (2.5, 6)\n",
        "             }\n",
        "\n",
        "grid_search = GridSearchCV(pipelineQ1, param_grid, verbose=10)\n",
        "#######**********grid_search.fit(X_test, y_test) #########******PAUSED THIS STEP FOR KERNEL RESTART"
      ]
    },
    {
      "cell_type": "code",
      "execution_count": null,
      "metadata": {
        "ExecuteTime": {
          "end_time": "2023-01-04T22:54:27.177220Z",
          "start_time": "2023-01-04T22:54:27.172089Z"
        },
        "id": "-haU3l7WeS3S"
      },
      "outputs": [],
      "source": [
        "#grid_search.best_params_"
      ]
    },
    {
      "cell_type": "code",
      "execution_count": null,
      "metadata": {
        "ExecuteTime": {
          "end_time": "2023-01-04T22:54:27.182975Z",
          "start_time": "2023-01-04T22:54:27.178771Z"
        },
        "id": "jWa_1fhQeS3S"
      },
      "outputs": [],
      "source": [
        "bag_of_words_model = Pipeline ([\n",
        "    ('review_text',  DFtext()),\n",
        "    ('bag_of_words_vectorizer', CountVectorizer(max_df=0.9, min_df=4)),\n",
        "    ('regressor', Ridge(alpha = 10))\n",
        "    #('regressor', LinearRegression())\n",
        "])"
      ]
    },
    {
      "cell_type": "code",
      "execution_count": null,
      "metadata": {
        "ExecuteTime": {
          "end_time": "2023-01-04T22:55:51.890262Z",
          "start_time": "2023-01-04T22:54:27.184957Z"
        },
        "id": "0LAdCNNLeS3T",
        "outputId": "5610659a-6d7b-426e-c768-9c5c83b27f2b"
      },
      "outputs": [
        {
          "data": {
            "text/plain": [
              "Pipeline(steps=[('review_text', DFtext()),\n",
              "                ('bag_of_words_vectorizer',\n",
              "                 CountVectorizer(max_df=0.9, min_df=4)),\n",
              "                ('regressor', Ridge(alpha=10))])"
            ]
          },
          "execution_count": 18,
          "metadata": {},
          "output_type": "execute_result"
        }
      ],
      "source": [
        "##bag_of_words_model = ...\n",
        "\n",
        "bag_of_words_model.fit(data, stars)"
      ]
    },
    {
      "cell_type": "code",
      "execution_count": null,
      "metadata": {
        "ExecuteTime": {
          "end_time": "2023-01-04T22:55:52.995377Z",
          "start_time": "2023-01-04T22:55:51.892678Z"
        },
        "id": "J4kpUPNTeS3U",
        "outputId": "444ddc19-4c95-444a-8e79-3bcf30fd5987"
      },
      "outputs": [
        {
          "name": "stdout",
          "output_type": "stream",
          "text": [
            "==================\n",
            "Your score: 1.0062\n",
            "==================\n"
          ]
        }
      ],
      "source": [
        "grader.score('nlp__bag_of_words_model', bag_of_words_model.predict)"
      ]
    },
    {
      "cell_type": "markdown",
      "metadata": {
        "id": "dnpm6kqyeS3U"
      },
      "source": [
        "\n",
        "## Question 2: bigram_model"
      ]
    },
    {
      "cell_type": "markdown",
      "metadata": {
        "id": "B_EC0P43eS3U"
      },
      "source": [
        "In a bigram model, we'll consider both single words and pairs of consecutive words that appear. This is going to be a much higher-dimensional problem so you should be careful about overfitting. You should also use a vectorizer that applies some sort of normalization, e.g., the `TfidfVectorizer` or a word count vectorizer combined with `TfidfTransformer`.\n",
        "\n",
        "Sometimes, reducing the dimension can be useful. If you're using the `TfidfVectorizer`, you can change the `max_features` hyperparameter to reduce the size of the resulting vocabulary. For `HashingVectorizer`, you can adjust the size of the feature matrix through `n_features`.\n",
        "\n",
        "**A side note on multi-stage model evaluation:** When your model consists of a pipeline with several stages, it can be worthwhile to evaluate which parts of the pipeline have the greatest impact on the overall accuracy (or other metric) of the model. This allows you to focus your efforts on improving the important algorithms, and leaving the rest \"good enough\".\n",
        "\n",
        "One way to accomplish this is through ceiling analysis, which can be useful when you have a training set with ground truth values at each stage. Let's say you're training a model to extract image captions from websites and return a list of names that were in the caption. Your overall accuracy at some point reaches 70%. You can try manually giving the model what you know are the correct image captions from the training set, and see how the accuracy improves (maybe up to 75%). Alternatively, giving the model the perfect name parsing for each caption increases accuracy to 90%. This indicates that the name parsing is a much more promising target for further work, and the caption extraction is a relatively smaller factor in the overall performance.\n",
        "\n",
        "If you don't know the right answers at different stages of the pipeline, you can still evaluate how important different parts of the model are to its performance by changing or removing certain steps while keeping everything else constant. You might try this kind of analysis to determine how important adding stopwords and stemming to your NLP model actually is, and how that importance changes with parameters like the number of features."
      ]
    },
    {
      "cell_type": "code",
      "execution_count": null,
      "metadata": {
        "ExecuteTime": {
          "end_time": "2023-01-04T22:55:53.001090Z",
          "start_time": "2023-01-04T22:55:52.997879Z"
        },
        "id": "LgjwUd_AeS3V"
      },
      "outputs": [],
      "source": [
        "#ngram = 2 for this bigram model\n",
        "\n",
        "#using `TfidfVectorizer` - hyperparm - max_features\n",
        "\n",
        "#where am I using the HashingVectorizer? n_feature> ??????????????????\n",
        "\n",
        "#ng_tfidf = TfidfVectorizer(max_features=300)\n",
        "#ng_tfidf.fit(X_test, y_test)\n",
        "#print(ng_tfidf.get_feature_names_out()[:10])"
      ]
    },
    {
      "cell_type": "code",
      "execution_count": null,
      "metadata": {
        "ExecuteTime": {
          "end_time": "2023-01-04T22:55:53.008868Z",
          "start_time": "2023-01-04T22:55:53.003936Z"
        },
        "scrolled": true,
        "id": "aL9dIuaTeS3V"
      },
      "outputs": [],
      "source": [
        "#print(ng_tfidf.transform(X_test))"
      ]
    },
    {
      "cell_type": "code",
      "execution_count": null,
      "metadata": {
        "ExecuteTime": {
          "end_time": "2023-01-04T22:55:53.015271Z",
          "start_time": "2023-01-04T22:55:53.011252Z"
        },
        "id": "JWhHrtZCeS3W"
      },
      "outputs": [],
      "source": [
        "bigram_model_previous = Pipeline ([\n",
        "    ('review_text', DFtext()),\n",
        "    ('ng_tfidf', TfidfVectorizer(max_df=0.9, min_df=4, ngram_range = (2,2), stop_words='english')),\n",
        "    #('regressor', Ridge(alpha = 10))\n",
        "    (\"regressor\", SGDRegressor())\n",
        "                                ])"
      ]
    },
    {
      "cell_type": "code",
      "execution_count": null,
      "metadata": {
        "ExecuteTime": {
          "end_time": "2023-01-04T22:55:53.022249Z",
          "start_time": "2023-01-04T22:55:53.017578Z"
        },
        "id": "2iNdwOF7eS3W"
      },
      "outputs": [],
      "source": [
        "bigram_model = Pipeline ([\n",
        "        ('review_text', DFtext()),\n",
        "        ('bag_of_words_vectorizer', CountVectorizer(max_df=0.9, min_df=4)),\n",
        "        (\"tfidf\", TfidfTransformer()),\n",
        "        (\"regressor\", SGDRegressor())\n",
        "        # ('regressor', Ridge(alpha = 10))\n",
        "    ])"
      ]
    },
    {
      "cell_type": "code",
      "execution_count": null,
      "metadata": {
        "ExecuteTime": {
          "end_time": "2023-01-04T22:55:53.034176Z",
          "start_time": "2023-01-04T22:55:53.024101Z"
        },
        "scrolled": true,
        "id": "0SAzG6IfeS3W",
        "outputId": "edd787ca-3ec3-475e-d725-da20a9a409ba"
      },
      "outputs": [
        {
          "data": {
            "text/plain": [
              "{'memory': None,\n",
              " 'steps': [('review_text', DFtext()),\n",
              "  ('bag_of_words_vectorizer', CountVectorizer(max_df=0.9, min_df=4)),\n",
              "  ('tfidf', TfidfTransformer()),\n",
              "  ('regressor', SGDRegressor())],\n",
              " 'verbose': False,\n",
              " 'review_text': DFtext(),\n",
              " 'bag_of_words_vectorizer': CountVectorizer(max_df=0.9, min_df=4),\n",
              " 'tfidf': TfidfTransformer(),\n",
              " 'regressor': SGDRegressor(),\n",
              " 'bag_of_words_vectorizer__analyzer': 'word',\n",
              " 'bag_of_words_vectorizer__binary': False,\n",
              " 'bag_of_words_vectorizer__decode_error': 'strict',\n",
              " 'bag_of_words_vectorizer__dtype': numpy.int64,\n",
              " 'bag_of_words_vectorizer__encoding': 'utf-8',\n",
              " 'bag_of_words_vectorizer__input': 'content',\n",
              " 'bag_of_words_vectorizer__lowercase': True,\n",
              " 'bag_of_words_vectorizer__max_df': 0.9,\n",
              " 'bag_of_words_vectorizer__max_features': None,\n",
              " 'bag_of_words_vectorizer__min_df': 4,\n",
              " 'bag_of_words_vectorizer__ngram_range': (1, 1),\n",
              " 'bag_of_words_vectorizer__preprocessor': None,\n",
              " 'bag_of_words_vectorizer__stop_words': None,\n",
              " 'bag_of_words_vectorizer__strip_accents': None,\n",
              " 'bag_of_words_vectorizer__token_pattern': '(?u)\\\\b\\\\w\\\\w+\\\\b',\n",
              " 'bag_of_words_vectorizer__tokenizer': None,\n",
              " 'bag_of_words_vectorizer__vocabulary': None,\n",
              " 'tfidf__norm': 'l2',\n",
              " 'tfidf__smooth_idf': True,\n",
              " 'tfidf__sublinear_tf': False,\n",
              " 'tfidf__use_idf': True,\n",
              " 'regressor__alpha': 0.0001,\n",
              " 'regressor__average': False,\n",
              " 'regressor__early_stopping': False,\n",
              " 'regressor__epsilon': 0.1,\n",
              " 'regressor__eta0': 0.01,\n",
              " 'regressor__fit_intercept': True,\n",
              " 'regressor__l1_ratio': 0.15,\n",
              " 'regressor__learning_rate': 'invscaling',\n",
              " 'regressor__loss': 'squared_error',\n",
              " 'regressor__max_iter': 1000,\n",
              " 'regressor__n_iter_no_change': 5,\n",
              " 'regressor__penalty': 'l2',\n",
              " 'regressor__power_t': 0.25,\n",
              " 'regressor__random_state': None,\n",
              " 'regressor__shuffle': True,\n",
              " 'regressor__tol': 0.001,\n",
              " 'regressor__validation_fraction': 0.1,\n",
              " 'regressor__verbose': 0,\n",
              " 'regressor__warm_start': False}"
            ]
          },
          "execution_count": 24,
          "metadata": {},
          "output_type": "execute_result"
        }
      ],
      "source": [
        "bigram_model.get_params()"
      ]
    },
    {
      "cell_type": "code",
      "execution_count": null,
      "metadata": {
        "ExecuteTime": {
          "end_time": "2023-01-04T22:56:20.304734Z",
          "start_time": "2023-01-04T22:55:53.036480Z"
        },
        "id": "qO6V7q02eS3X",
        "outputId": "b6175329-6bed-4304-c348-a04037ece256"
      },
      "outputs": [
        {
          "data": {
            "text/plain": [
              "Pipeline(steps=[('review_text', DFtext()),\n",
              "                ('bag_of_words_vectorizer',\n",
              "                 CountVectorizer(max_df=0.9, min_df=4)),\n",
              "                ('tfidf', TfidfTransformer()), ('regressor', SGDRegressor())])"
            ]
          },
          "execution_count": 25,
          "metadata": {},
          "output_type": "execute_result"
        }
      ],
      "source": [
        "#bigram_model = ...\n",
        "\n",
        "bigram_model.fit(data, stars)"
      ]
    },
    {
      "cell_type": "code",
      "execution_count": null,
      "metadata": {
        "ExecuteTime": {
          "end_time": "2023-01-04T22:56:20.820626Z",
          "start_time": "2023-01-04T22:56:20.306577Z"
        },
        "id": "vKjAwGEoeS3X",
        "outputId": "b7c2f969-e8db-46ba-80c5-b3ba67312d7f"
      },
      "outputs": [
        {
          "name": "stdout",
          "output_type": "stream",
          "text": [
            "==================\n",
            "Your score: 0.9442\n",
            "==================\n"
          ]
        }
      ],
      "source": [
        "grader.score('nlp__bigram_model', bigram_model.predict)"
      ]
    },
    {
      "cell_type": "markdown",
      "metadata": {
        "id": "t-6sTanheS3Y"
      },
      "source": [
        "## Question 3: word_polarity"
      ]
    },
    {
      "cell_type": "markdown",
      "metadata": {
        "id": "0Bny9v28eS3Z"
      },
      "source": [
        "Let's consider a different approach and try to derive some insight from our analysis.  \n",
        "\n",
        "We want to determine the most \"polarizing words\" in the corpus of reviews.  In other words, we want to identify words that strongly signal a review is either positive or negative.  For example, we understand that a word like \"terrible\" will most likely appear in negative rather than positive reviews.  \n",
        "\n",
        "During training, the [naive Bayes model](https://scikit-learn.org/stable/modules/naive_bayes.html#) calculates probabilities such as $Pr(\\textrm{terrible}\\ |\\ \\textrm{negative}),$ the probability that the word \"terrible\" appears in the review text, given that the review is negative.  Using these probabilities, we can define a **polarity score** for each word $w$,\n",
        "\n",
        "$$\\textrm{polarity}(w) = \\log\\left(\\frac{Pr(w\\ |\\ \\textrm{positive})}{Pr(w\\ |\\ \\textrm{negative})}\\right).$$\n",
        "\n",
        "Polarity analysis is an example where a simpler model (naive Bayes) offers more explicability than more complicated models.  Aside from this, naive Bayes models are easy to train, the training process is parallelizable, and these models lend themselves well to online learning.  Given enough training data, naive Bayes models have performed well in NLP applications such as spam filtering.  \n",
        "\n",
        "For this problem, you are asked to determine the top 25 most positive polar words and the 25 most negative polar words.  For this analysis, you should:\n",
        "\n",
        "1.  **Filter** the collection of reviews you were using above to **only keep** the one-star and five-star reviews. Since these are the \"most polar\" reviews, it should give us the most polarizing words.   \n",
        "1.  Use the naive Bayes model, `MultinomialNB`.  \n",
        "1.  Use TF-IDF weighting.\n",
        "1.  Remove stop words.\n",
        "1.  As mentioned, generate a (Python) list with most positive (25 words) and most negative (25 words) polar words.  \n",
        "\n",
        "A naive Bayes model (after training) stores the log of the probabilities in an attribute of the model.  It is a `numpy` array of shape (number of classes, number of features).  You will need the mapping between feature indices to words to find the most polarizing words.  "
      ]
    },
    {
      "cell_type": "code",
      "execution_count": null,
      "metadata": {
        "ExecuteTime": {
          "end_time": "2023-01-04T22:57:03.174225Z",
          "start_time": "2023-01-04T22:57:03.125914Z"
        },
        "id": "2ERfCN8geS3Z"
      },
      "outputs": [],
      "source": [
        "filteredDF = mainDF.query('stars== 5 or stars ==1')"
      ]
    },
    {
      "cell_type": "code",
      "execution_count": null,
      "metadata": {
        "ExecuteTime": {
          "end_time": "2023-01-04T22:57:03.179874Z",
          "start_time": "2023-01-04T22:57:03.176232Z"
        },
        "id": "WN6rFmEKeS3Z",
        "outputId": "60782ee2-bf61-47c0-e6d7-7d93087fa75f"
      },
      "outputs": [
        {
          "data": {
            "text/plain": [
              "116576"
            ]
          },
          "execution_count": 30,
          "metadata": {},
          "output_type": "execute_result"
        }
      ],
      "source": [
        "len(filteredDF)"
      ]
    },
    {
      "cell_type": "code",
      "execution_count": null,
      "metadata": {
        "ExecuteTime": {
          "end_time": "2023-01-04T22:57:03.185942Z",
          "start_time": "2023-01-04T22:57:03.181958Z"
        },
        "id": "ybzOOg0geS3a"
      },
      "outputs": [],
      "source": [
        "#from sklearn.model_selection import train_test_split\n",
        "#X_train, X_test, y_train, y_test = train_test_split(filteredDF['text'], filteredDF['stars'], test_size=0.25)#, random_state=42)"
      ]
    },
    {
      "cell_type": "code",
      "execution_count": null,
      "metadata": {
        "ExecuteTime": {
          "end_time": "2023-01-04T22:57:03.191198Z",
          "start_time": "2023-01-04T22:57:03.187667Z"
        },
        "id": "7Dey_sH6eS3a"
      },
      "outputs": [],
      "source": [
        "#from spacy.lang.en import STOP_WORDS"
      ]
    },
    {
      "cell_type": "code",
      "execution_count": null,
      "metadata": {
        "ExecuteTime": {
          "end_time": "2023-01-04T22:57:03.197249Z",
          "start_time": "2023-01-04T22:57:03.192930Z"
        },
        "id": "9mRv3GuNeS3a"
      },
      "outputs": [],
      "source": [
        "pipelineQ3 = Pipeline([\n",
        "        #('review_text', DFtext()),\n",
        "        ('bag_of_words_vectorizer', CountVectorizer(max_df=0.9, min_df=4, lowercase=False, stop_words='english')),\n",
        "        #('bag_of_words_vectorizer', CountVectorizer(lowercase=False, stop_words='english')),\n",
        "        (\"tfidf\", TfidfTransformer()),\n",
        "       # (\"mnb\", MultinomialNB()) #hyper-parameter tuning on alpha of mnb?\n",
        "        ])"
      ]
    },
    {
      "cell_type": "code",
      "execution_count": null,
      "metadata": {
        "ExecuteTime": {
          "end_time": "2023-01-04T22:57:11.176594Z",
          "start_time": "2023-01-04T22:57:03.198865Z"
        },
        "id": "lBSwq_M6eS3a"
      },
      "outputs": [],
      "source": [
        "transformedX = pipelineQ3.fit_transform(filteredDF['text'])"
      ]
    },
    {
      "cell_type": "code",
      "execution_count": null,
      "metadata": {
        "ExecuteTime": {
          "end_time": "2023-01-04T22:57:11.224815Z",
          "start_time": "2023-01-04T22:57:11.178433Z"
        },
        "id": "shWN0jNneS3b",
        "outputId": "798b8038-b26c-4b94-ea1a-82ee654aa519"
      },
      "outputs": [
        {
          "data": {
            "text/plain": [
              "MultinomialNB()"
            ]
          },
          "execution_count": 35,
          "metadata": {},
          "output_type": "execute_result"
        }
      ],
      "source": [
        "mnb_model = MultinomialNB()\n",
        "mnb_model.fit(transformedX, filteredDF['stars'])"
      ]
    },
    {
      "cell_type": "code",
      "execution_count": null,
      "metadata": {
        "ExecuteTime": {
          "end_time": "2023-01-04T22:57:11.231045Z",
          "start_time": "2023-01-04T22:57:11.226737Z"
        },
        "id": "HmKKoQmVeS3b",
        "outputId": "53cd8de1-bcbf-44ae-80c8-abf645b827ba"
      },
      "outputs": [
        {
          "data": {
            "text/plain": [
              "array([[ -7.47180714,  -9.27268587, -12.10690552, ..., -12.02531467,\n",
              "        -12.05577606, -12.20419714],\n",
              "       [ -8.4483143 ,  -9.86516854, -12.42135734, ..., -12.68864697,\n",
              "        -12.263729  , -12.52119609]])"
            ]
          },
          "execution_count": 36,
          "metadata": {},
          "output_type": "execute_result"
        }
      ],
      "source": [
        "feature_log_prob = mnb_model.feature_log_prob_\n",
        "feature_log_prob"
      ]
    },
    {
      "cell_type": "code",
      "execution_count": null,
      "metadata": {
        "ExecuteTime": {
          "end_time": "2023-01-04T22:57:11.299896Z",
          "start_time": "2023-01-04T22:57:11.232911Z"
        },
        "id": "4DrKvwjheS3b",
        "outputId": "f44e63d4-ca5c-4752-872e-a27704f86f91"
      },
      "outputs": [
        {
          "name": "stderr",
          "output_type": "stream",
          "text": [
            "/home/jovyan/.local/lib/python3.9/site-packages/sklearn/utils/deprecation.py:87: FutureWarning: Function get_feature_names is deprecated; get_feature_names is deprecated in 1.0 and will be removed in 1.2. Please use get_feature_names_out instead.\n",
            "  warnings.warn(msg, category=FutureWarning)\n"
          ]
        }
      ],
      "source": [
        "polarity = feature_log_prob[0,:] - feature_log_prob[1,:] #difference in the log prob between two classes- positive and negative\n",
        "#get feature names\n",
        "feature_names = pipelineQ3['bag_of_words_vectorizer'].get_feature_names()\n",
        "#map feature names to their polarity values\n",
        "mapped_polarity_feat = list(zip(polarity, feature_names))\n",
        "\n",
        "# sort\n",
        "mapped_polarity_feat_sorted = sorted(mapped_polarity_feat)\n",
        "\n",
        "#25 most positive polar words and the 25 most negative polar words\n",
        "\n",
        "polar_words_score = mapped_polarity_feat_sorted[:25] + mapped_polarity_feat_sorted[-25:]\n",
        "\n",
        "polar_words=[]\n",
        "for pw in polar_words_score:\n",
        "    polar_words.append(pw[1])"
      ]
    },
    {
      "cell_type": "code",
      "execution_count": null,
      "metadata": {
        "ExecuteTime": {
          "end_time": "2023-01-04T22:57:11.305657Z",
          "start_time": "2023-01-04T22:57:11.301717Z"
        },
        "id": "AyMx9VuSeS3c"
      },
      "outputs": [],
      "source": [
        "polar_data = filteredDF"
      ]
    },
    {
      "cell_type": "code",
      "execution_count": null,
      "metadata": {
        "ExecuteTime": {
          "end_time": "2023-01-04T22:57:11.313470Z",
          "start_time": "2023-01-04T22:57:11.308547Z"
        },
        "id": "v5Y38uXBeS3c",
        "outputId": "55f64ec3-5b07-4159-bd77-700e395142f9"
      },
      "outputs": [
        {
          "data": {
            "text/plain": [
              "True"
            ]
          },
          "execution_count": 39,
          "metadata": {},
          "output_type": "execute_result"
        }
      ],
      "source": [
        "# We're only keeping the one and five star reviews\n",
        "grader.check(len(polar_data) == 116576)"
      ]
    },
    {
      "cell_type": "code",
      "execution_count": null,
      "metadata": {
        "ExecuteTime": {
          "end_time": "2023-01-04T22:57:11.317666Z",
          "start_time": "2023-01-04T22:57:11.315092Z"
        },
        "id": "v0YL1IYUeS3c"
      },
      "outputs": [],
      "source": [
        "#polar_words = ['perfection'] * 50"
      ]
    },
    {
      "cell_type": "code",
      "execution_count": null,
      "metadata": {
        "ExecuteTime": {
          "end_time": "2023-01-04T22:57:11.328043Z",
          "start_time": "2023-01-04T22:57:11.324685Z"
        },
        "scrolled": true,
        "id": "1UGHhrcieS3c",
        "outputId": "5f688d66-245b-46f6-bb32-37bd79a7f0e3"
      },
      "outputs": [
        {
          "data": {
            "text/plain": [
              "['Excellent',\n",
              " 'Delicious',\n",
              " 'Amazing',\n",
              " 'Love',\n",
              " 'perfection',\n",
              " 'Highly',\n",
              " 'Loved',\n",
              " 'Great',\n",
              " 'Fantastic',\n",
              " 'Awesome',\n",
              " 'AMAZING',\n",
              " 'gem',\n",
              " 'Outstanding',\n",
              " 'delicious',\n",
              " 'fantastic',\n",
              " 'Wonderful',\n",
              " 'yummy',\n",
              " 'BEST',\n",
              " 'refreshing',\n",
              " 'delish',\n",
              " 'impeccable',\n",
              " 'perfect',\n",
              " 'notch',\n",
              " 'amazing',\n",
              " 'YUM',\n",
              " 'Overpriced',\n",
              " 'Waste',\n",
              " 'disrespectful',\n",
              " 'Poor',\n",
              " 'Disgusting',\n",
              " 'refund',\n",
              " 'AWFUL',\n",
              " 'Gross',\n",
              " 'blamed',\n",
              " 'tasteless',\n",
              " 'poisoning',\n",
              " 'unhelpful',\n",
              " 'rudely',\n",
              " 'incompetent',\n",
              " 'worst',\n",
              " 'HORRIBLE',\n",
              " 'RUDE',\n",
              " 'unacceptable',\n",
              " 'unprofessional',\n",
              " 'Rude',\n",
              " 'Terrible',\n",
              " 'Awful',\n",
              " 'WORST',\n",
              " 'Worst',\n",
              " 'Horrible']"
            ]
          },
          "execution_count": 41,
          "metadata": {},
          "output_type": "execute_result"
        }
      ],
      "source": [
        "polar_words"
      ]
    },
    {
      "cell_type": "code",
      "execution_count": null,
      "metadata": {
        "ExecuteTime": {
          "end_time": "2023-01-04T22:57:11.632311Z",
          "start_time": "2023-01-04T22:57:11.329842Z"
        },
        "id": "GMNNkP3HeS3d",
        "outputId": "8e0af30a-b70d-422f-c304-c3b341e47531"
      },
      "outputs": [
        {
          "name": "stdout",
          "output_type": "stream",
          "text": [
            "==================\n",
            "Your score: 0.6600\n",
            "==================\n"
          ]
        }
      ],
      "source": [
        "grader.score('nlp__word_polarity', polar_words)"
      ]
    },
    {
      "cell_type": "code",
      "execution_count": null,
      "metadata": {
        "ExecuteTime": {
          "end_time": "2023-01-04T22:57:19.096610Z",
          "start_time": "2023-01-04T22:57:11.634198Z"
        },
        "id": "Nj0oyPM_eS3d",
        "outputId": "a25ce4a2-88f0-40e2-fc8b-b121c439cfce"
      },
      "outputs": [
        {
          "data": {
            "text/plain": [
              "Pipeline(steps=[('ng_tfidf', TfidfVectorizer(stop_words='english')),\n",
              "                ('mnb', MultinomialNB())])"
            ]
          },
          "execution_count": 43,
          "metadata": {},
          "output_type": "execute_result"
        }
      ],
      "source": [
        "pipelineQ3_test2 = Pipeline ([\n",
        "    ('ng_tfidf', TfidfVectorizer(stop_words='english')),\n",
        "    (\"mnb\", MultinomialNB())\n",
        "                            ])\n",
        "\n",
        "pipelineQ3_test2.fit( filteredDF['text'],  filteredDF['stars'])\n",
        "#pipelineQ3_test2.predict(y_test)"
      ]
    },
    {
      "cell_type": "code",
      "execution_count": null,
      "metadata": {
        "ExecuteTime": {
          "end_time": "2023-01-04T22:57:19.248444Z",
          "start_time": "2023-01-04T22:57:19.099106Z"
        },
        "id": "5SE26lg-eS3d",
        "outputId": "16ebbc36-6271-48d8-df12-74fcec99a90f"
      },
      "outputs": [
        {
          "name": "stderr",
          "output_type": "stream",
          "text": [
            "/home/jovyan/.local/lib/python3.9/site-packages/sklearn/utils/deprecation.py:87: FutureWarning: Function get_feature_names is deprecated; get_feature_names is deprecated in 1.0 and will be removed in 1.2. Please use get_feature_names_out instead.\n",
            "  warnings.warn(msg, category=FutureWarning)\n"
          ]
        }
      ],
      "source": [
        "feature_log_prob = pipelineQ3_test2['mnb'].feature_log_prob_\n",
        "\n",
        "polarity = feature_log_prob[0,:] - feature_log_prob[1,:] #difference in the log prob between two classes- positive and negative\n",
        "#get feature names\n",
        "feature_names = pipelineQ3_test2['ng_tfidf'].get_feature_names()\n",
        "#map feature names to their polarity values\n",
        "mapped_polarity_feat = list(zip(polarity, feature_names))\n",
        "\n",
        "# sort\n",
        "mapped_polarity_feat_sorted = sorted(mapped_polarity_feat)\n",
        "\n",
        "#25 most positive polar words and the 25 most negative polar words\n",
        "\n",
        "polar_words_score = mapped_polarity_feat_sorted[:25] + mapped_polarity_feat_sorted[-25:]\n",
        "\n",
        "polar_words=[]\n",
        "for pw in polar_words_score:\n",
        "    polar_words.append(pw[1])"
      ]
    },
    {
      "cell_type": "code",
      "execution_count": null,
      "metadata": {
        "ExecuteTime": {
          "end_time": "2023-01-04T22:57:19.553395Z",
          "start_time": "2023-01-04T22:57:19.251544Z"
        },
        "id": "HLiBK9tteS3d",
        "outputId": "7518d5ba-bda4-410f-fcc0-0d09a48e4c04"
      },
      "outputs": [
        {
          "name": "stdout",
          "output_type": "stream",
          "text": [
            "==================\n",
            "Your score: 1.0000\n",
            "==================\n"
          ]
        }
      ],
      "source": [
        "grader.score('nlp__word_polarity', polar_words)"
      ]
    },
    {
      "cell_type": "markdown",
      "metadata": {
        "id": "CCt2ucmkeS3e"
      },
      "source": [
        "## Question 4: food_bigrams"
      ]
    },
    {
      "cell_type": "markdown",
      "metadata": {
        "id": "KRa3jfwreS3e"
      },
      "source": [
        "Look over all reviews of restaurants.  You can determine which businesses are restaurants by looking in the `yelp_train_academic_dataset_business.json.gz` file from the ml project or downloaded below."
      ]
    },
    {
      "cell_type": "code",
      "execution_count": null,
      "metadata": {
        "ExecuteTime": {
          "end_time": "2023-01-04T22:57:20.684410Z",
          "start_time": "2023-01-04T22:57:19.555229Z"
        },
        "id": "uEblaGV2eS3e"
      },
      "outputs": [],
      "source": [
        "!aws s3 sync s3://dataincubator-course/mldata/ . --exclude '*' --include 'yelp_train_academic_dataset_business.json.gz'"
      ]
    },
    {
      "cell_type": "code",
      "execution_count": null,
      "metadata": {
        "ExecuteTime": {
          "end_time": "2023-01-04T22:57:22.053831Z",
          "start_time": "2023-01-04T22:57:20.687383Z"
        },
        "id": "TRtJIFsleS3e"
      },
      "outputs": [],
      "source": [
        "with gzip.open('yelp_train_academic_dataset_business.json.gz') as f:\n",
        "    business_data = [json.loads(line) for line in f]"
      ]
    },
    {
      "cell_type": "code",
      "execution_count": null,
      "metadata": {
        "ExecuteTime": {
          "end_time": "2023-01-04T22:57:22.059453Z",
          "start_time": "2023-01-04T22:57:22.056170Z"
        },
        "id": "D1jKJwZkeS3f"
      },
      "outputs": [],
      "source": [
        "#business_data[0]"
      ]
    },
    {
      "cell_type": "code",
      "execution_count": null,
      "metadata": {
        "ExecuteTime": {
          "end_time": "2023-01-04T22:57:22.208622Z",
          "start_time": "2023-01-04T22:57:22.061664Z"
        },
        "id": "cjbz9PB2eS3f"
      },
      "outputs": [],
      "source": [
        "mainDF_Q4 = pd.DataFrame(data=business_data) #just for testing\n",
        "#mainDF_Q4.head(3)"
      ]
    },
    {
      "cell_type": "markdown",
      "metadata": {
        "id": "S3A7eDYqeS3f"
      },
      "source": [
        "Each row of this file corresponds to a single business.  The category key gives a list of categories for each; take all where \"Restaurants\" appears."
      ]
    },
    {
      "cell_type": "code",
      "execution_count": null,
      "metadata": {
        "ExecuteTime": {
          "end_time": "2023-01-04T22:57:22.241009Z",
          "start_time": "2023-01-04T22:57:22.210725Z"
        },
        "id": "sRDspQG5eS3f"
      },
      "outputs": [],
      "source": [
        "mainDF_Q4_restaurants = mainDF_Q4[mainDF_Q4['categories'].apply(lambda x: \"Restaurants\" in x)]\n",
        "restaurant_ids= mainDF_Q4_restaurants['business_id']"
      ]
    },
    {
      "cell_type": "code",
      "execution_count": null,
      "metadata": {
        "ExecuteTime": {
          "end_time": "2023-01-04T22:57:22.262512Z",
          "start_time": "2023-01-04T22:57:22.243362Z"
        },
        "id": "EdpJR1aJeS3f",
        "outputId": "036ff147-9f5b-4542-a0ec-54dbcdd2d13e"
      },
      "outputs": [
        {
          "data": {
            "text/plain": [
              "True"
            ]
          },
          "execution_count": 51,
          "metadata": {},
          "output_type": "execute_result"
        }
      ],
      "source": [
        "# Look at the categories to check for spelling and capitalization\n",
        "grader.check(len(restaurant_ids) == 12876)"
      ]
    },
    {
      "cell_type": "markdown",
      "metadata": {
        "id": "R5InkXyQeS3g"
      },
      "source": [
        "The \"business_id\" here is the same as in the review data.  Use this to extract the review text for all reviews of restaurants."
      ]
    },
    {
      "cell_type": "code",
      "execution_count": null,
      "metadata": {
        "ExecuteTime": {
          "end_time": "2023-01-04T22:57:22.631121Z",
          "start_time": "2023-01-04T22:57:22.264978Z"
        },
        "id": "7C98RvlGeS3g"
      },
      "outputs": [],
      "source": [
        "restaurant_reviews= mainDF.merge(mainDF_Q4_restaurants, on='business_id')['text']"
      ]
    },
    {
      "cell_type": "code",
      "execution_count": null,
      "metadata": {
        "ExecuteTime": {
          "end_time": "2023-01-04T22:57:22.638376Z",
          "start_time": "2023-01-04T22:57:22.633283Z"
        },
        "id": "AURFW3tAeS3g",
        "outputId": "0ade0b46-21c7-4ddd-d627-7d54259f64f4"
      },
      "outputs": [
        {
          "data": {
            "text/plain": [
              "True"
            ]
          },
          "execution_count": 53,
          "metadata": {},
          "output_type": "execute_result"
        }
      ],
      "source": [
        "# Just reviews of restaurants\n",
        "# restaurant_ids is helpful here\n",
        "grader.check(len(restaurant_reviews) == 143361)"
      ]
    },
    {
      "cell_type": "code",
      "execution_count": null,
      "metadata": {
        "ExecuteTime": {
          "end_time": "2023-01-04T22:57:23.135521Z",
          "start_time": "2023-01-04T22:57:22.640713Z"
        },
        "id": "kLJviE7QeS3g"
      },
      "outputs": [],
      "source": [
        "restaurant_reviewst_DF = mainDF.merge(mainDF_Q4_restaurants, how = 'inner', on='business_id')\n",
        "restaurant_reviewst_DF.drop(columns=['stars_y', 'type_y'],  inplace=True)\n",
        "restaurant_reviewst_DF.rename(columns={\"stars_x\": \"stars\", \"type_x\": \"type\"}, inplace=True)"
      ]
    },
    {
      "cell_type": "code",
      "execution_count": null,
      "metadata": {
        "ExecuteTime": {
          "end_time": "2023-01-04T22:57:23.141343Z",
          "start_time": "2023-01-04T22:57:23.137942Z"
        },
        "id": "_bLYr3EoeS3h"
      },
      "outputs": [],
      "source": [
        "#restaurant_reviewst_DF.head()"
      ]
    },
    {
      "cell_type": "markdown",
      "metadata": {
        "id": "G7GV6XwVeS3h"
      },
      "source": [
        "We want to find collocations --- that is, bigrams that are \"special\" and appear more often than you'd expect from chance. We can think of the corpus as defining an empirical distribution over all *n*-grams.  We can find word pairs that are unlikely to occur consecutively based on the underlying probability of their words. Mathematically, if $p(w)$ be the probability of a word $w$ and $p(w_1 w_2)$ is the probability of the bigram $w_1 w_2$, then we want to look at word pairs $w_1 w_2$ where the statistic\n",
        "\n",
        "  $$ \\frac{p(w_1 w_2)}{p(w_1) p(w_2)} $$\n",
        "\n",
        "is high.  Return the top 100 (mostly food) bigrams with this statistic with the 'right' prior factor (see below).\n",
        "\n",
        "Estimating the probabilities is simply a matter of counting, and there are number of approaches that will work.  One is to use one of the tokenizers to count up how many times each word and each bigram appears in each review, and then sum those up over all reviews.  You might want to know that the `CountVectorizer` has a `.get_feature_names_out()` method which gives the string associated with each column.  (Question for thought: Why doesn't the `HashingVectorizer` have a similar method?)\n",
        "\n",
        "*Questions:* This statistic is a ratio and problematic when the denominator is small.  We can fix this by applying Bayesian smoothing to $p(w)$ (i.e. mixing the empirical distribution with the uniform distribution over the vocabulary).\n",
        "\n",
        "1. How does changing this smoothing parameter affect the word pairs you get qualitatively?\n",
        "\n",
        "2. We can interpret the smoothing parameter as adding a constant number of occurrences of each word to our distribution.  Does this help you determine set a reasonable value for this 'prior factor'?\n",
        "\n",
        "3. For fun: also check out [Amazon's Statistically Improbable Phrases](http://en.wikipedia.org/wiki/Statistically_Improbable_Phrases).\n",
        "\n",
        "*Implementation note:*\n",
        "As you adjust the size of the Bayesian smoothing parameter, you will notice first nonsense phrases being removed and then legitimate bigrams being removed, leaving you with only generic bigrams.  The goal is to find a value of the smoothing parameter between these two transitions.\n",
        "\n",
        "The reference solution is not an aggressive filterer: it errors in favor of leaving apparently nonsensical words. On further consideration, many of these are actually somewhat meaningful. The smoothing parameter chosen in the reference solution is equivalent to giving each word 30 previous appearances prior to considering this data.  This was chosen by generating a list of bigrams for a range of smoothing parameters and seeing how many of the bigrams were shared between neighboring values.  When the shared fraction reached 95%, we judged the solution to have converged.\n",
        "\n",
        "There are a few reviews that include the same nonsense strings multiple times.  To keep these from showing up in our results, we set `min_df=10`, to ensure that a bigram occurs in at least 10 reviews before we consider it."
      ]
    },
    {
      "cell_type": "code",
      "execution_count": null,
      "metadata": {
        "ExecuteTime": {
          "end_time": "2023-01-04T22:57:23.147677Z",
          "start_time": "2023-01-04T22:57:23.144116Z"
        },
        "id": "QgmhF1oweS3h"
      },
      "outputs": [],
      "source": [
        "#from sklearn.model_selection import train_test_split\n",
        "#X_train, X_test, y_train, y_test = train_test_split(restaurant_reviewst_DF['text'], restaurant_reviewst_DF['stars'], test_size=0.1)#, random_state=42)"
      ]
    },
    {
      "cell_type": "code",
      "execution_count": null,
      "metadata": {
        "ExecuteTime": {
          "end_time": "2023-01-04T22:57:23.153571Z",
          "start_time": "2023-01-04T22:57:23.149809Z"
        },
        "id": "J_bSC8kXeS3i"
      },
      "outputs": [],
      "source": [
        "X = restaurant_reviewst_DF['text']\n",
        "y = restaurant_reviewst_DF['stars']"
      ]
    },
    {
      "cell_type": "code",
      "execution_count": null,
      "metadata": {
        "ExecuteTime": {
          "end_time": "2023-01-04T22:57:54.345168Z",
          "start_time": "2023-01-04T22:57:23.155652Z"
        },
        "id": "MDFzoBbseS3i",
        "outputId": "a4dbe7f1-27f1-4778-9cab-8810c04a455a"
      },
      "outputs": [
        {
          "name": "stdout",
          "output_type": "stream",
          "text": [
            "total monograms 17077355 total bigrams 13487390 and the total is 30564745\n"
          ]
        }
      ],
      "source": [
        "####In this cell you get the total number of Words (monograms) and bigrams\n",
        "\n",
        "#test_monogram = CountVectorizer(min_df=10, ngram_range = (1,1) , stop_words = 'english')\n",
        "#test_bigram =  CountVectorizer(min_df=10, ngram_range = (2,2) , stop_words = 'english')\n",
        "\n",
        "test_monogram = CountVectorizer(ngram_range = (1,1))\n",
        "test_bigram =  CountVectorizer(min_df=10, ngram_range = (2,2))\n",
        "\n",
        "TM = test_monogram.fit_transform(X, y)\n",
        "TB = test_bigram.fit_transform(X, y)\n",
        "\n",
        "TM_sum = np.squeeze(np.asarray(TM.sum(axis=0)))\n",
        "TB_sum = np.squeeze(np.asarray(TB.sum(axis=0)))\n",
        "\n",
        "total_bigrams = np.sum(TM_sum)\n",
        "total_words = np.sum(TB_sum)\n",
        "\n",
        "print(f'total monograms {total_bigrams} total bigrams {total_words} and the total is {total_bigrams + total_words}')\n"
      ]
    },
    {
      "cell_type": "code",
      "execution_count": null,
      "metadata": {
        "ExecuteTime": {
          "end_time": "2023-01-04T22:58:22.028154Z",
          "start_time": "2023-01-04T22:57:54.346971Z"
        },
        "id": "G0DjubECeS3i",
        "outputId": "07654c41-09a8-417e-ddc3-8dfb18995a87"
      },
      "outputs": [
        {
          "name": "stdout",
          "output_type": "stream",
          "text": [
            "(143361, 175260)\n",
            "<class 'scipy.sparse.csr.csr_matrix'>\n"
          ]
        }
      ],
      "source": [
        "#bigram_model_again = CountVectorizer(min_df=10, ngram_range = (1,2), stop_words='english')\n",
        "bigram_model_again = CountVectorizer(min_df=10, ngram_range = (1,2))\n",
        "BGA = bigram_model_again.fit_transform(X, y)\n",
        "\n",
        "print(BGA.shape)\n",
        "print(type(BGA))"
      ]
    },
    {
      "cell_type": "code",
      "execution_count": null,
      "metadata": {
        "ExecuteTime": {
          "end_time": "2023-01-04T22:58:22.105835Z",
          "start_time": "2023-01-04T22:58:22.030116Z"
        },
        "id": "DAqSFRageS3i",
        "outputId": "53590230-d9f5-4dd9-f4fa-540da2662d82"
      },
      "outputs": [
        {
          "name": "stdout",
          "output_type": "stream",
          "text": [
            "<class 'numpy.ndarray'>\n",
            "(175260,)\n",
            "30408426\n"
          ]
        }
      ],
      "source": [
        "all_sums = np.squeeze(np.asarray(BGA.sum(axis=0)))\n",
        "print(type(all_sums))\n",
        "print(all_sums.shape)\n",
        "print(np.sum(all_sums))"
      ]
    },
    {
      "cell_type": "code",
      "execution_count": null,
      "metadata": {
        "ExecuteTime": {
          "end_time": "2023-01-04T22:58:22.110495Z",
          "start_time": "2023-01-04T22:58:22.107869Z"
        },
        "id": "pK7u7Hy7eS3j"
      },
      "outputs": [],
      "source": [
        "#print(X.getcol(0).sum())"
      ]
    },
    {
      "cell_type": "code",
      "execution_count": null,
      "metadata": {
        "ExecuteTime": {
          "end_time": "2023-01-04T22:58:22.119264Z",
          "start_time": "2023-01-04T22:58:22.112255Z"
        },
        "id": "JwZDduBweS3j",
        "outputId": "f7aeaf47-d96c-4dd5-a776-5c5f596efda4"
      },
      "outputs": [
        {
          "data": {
            "text/plain": [
              "(175260,)"
            ]
          },
          "execution_count": 62,
          "metadata": {},
          "output_type": "execute_result"
        }
      ],
      "source": [
        "all_sums.shape"
      ]
    },
    {
      "cell_type": "code",
      "execution_count": null,
      "metadata": {
        "ExecuteTime": {
          "end_time": "2023-01-04T22:58:22.131402Z",
          "start_time": "2023-01-04T22:58:22.120876Z"
        },
        "id": "Iv0arMs6eS3j",
        "outputId": "22553797-b108-488e-e387-7c423ed07fe5"
      },
      "outputs": [
        {
          "data": {
            "text/plain": [
              "array([2852,   17,   11,   75,  176,   18,   12,   10,   16,   27])"
            ]
          },
          "execution_count": 63,
          "metadata": {},
          "output_type": "execute_result"
        }
      ],
      "source": [
        "all_sums[0:10]"
      ]
    },
    {
      "cell_type": "code",
      "execution_count": null,
      "metadata": {
        "ExecuteTime": {
          "end_time": "2023-01-04T22:58:22.296428Z",
          "start_time": "2023-01-04T22:58:22.133063Z"
        },
        "id": "jVyB7eIWeS3j",
        "outputId": "24eb4ef7-ceb9-4a9d-b120-29839c801f30"
      },
      "outputs": [
        {
          "data": {
            "text/plain": [
              "175260"
            ]
          },
          "execution_count": 64,
          "metadata": {},
          "output_type": "execute_result"
        }
      ],
      "source": [
        "features  = bigram_model_again.get_feature_names()\n",
        "len(features)"
      ]
    },
    {
      "cell_type": "code",
      "execution_count": null,
      "metadata": {
        "ExecuteTime": {
          "end_time": "2023-01-04T22:58:22.310695Z",
          "start_time": "2023-01-04T22:58:22.298505Z"
        },
        "id": "127PhGr4eS3j",
        "outputId": "628675a9-962f-4f8f-865f-8461f1050c06"
      },
      "outputs": [
        {
          "data": {
            "text/plain": [
              "85877"
            ]
          },
          "execution_count": 65,
          "metadata": {},
          "output_type": "execute_result"
        }
      ],
      "source": [
        "features.index('malai kofta')"
      ]
    },
    {
      "cell_type": "code",
      "execution_count": null,
      "metadata": {
        "ExecuteTime": {
          "end_time": "2023-01-04T22:58:22.388224Z",
          "start_time": "2023-01-04T22:58:22.312695Z"
        },
        "id": "GWbwrBzveS3k"
      },
      "outputs": [],
      "source": [
        "features_dict = {}\n",
        "for i, f in enumerate(features):\n",
        "    features_dict[f] = i"
      ]
    },
    {
      "cell_type": "code",
      "execution_count": null,
      "metadata": {
        "ExecuteTime": {
          "end_time": "2023-01-04T22:58:22.394302Z",
          "start_time": "2023-01-04T22:58:22.390176Z"
        },
        "id": "VbaIK1aaeS3k",
        "outputId": "61137b5c-7284-4225-bd74-51a7bb2d837a"
      },
      "outputs": [
        {
          "data": {
            "text/plain": [
              "85877"
            ]
          },
          "execution_count": 67,
          "metadata": {},
          "output_type": "execute_result"
        }
      ],
      "source": [
        "features_dict['malai kofta']"
      ]
    },
    {
      "cell_type": "code",
      "execution_count": null,
      "metadata": {
        "ExecuteTime": {
          "end_time": "2023-01-04T22:58:22.444892Z",
          "start_time": "2023-01-04T22:58:22.395939Z"
        },
        "id": "bSwqXJ76eS3l",
        "outputId": "ee9ffcb1-8d48-41af-c029-76fab16418fe"
      },
      "outputs": [
        {
          "data": {
            "text/plain": [
              "\"\\ntotal_bigrams = 0 #################\\ntotal_words = 0\\n\\nfor i, f in enumerate(features):\\n    words = f.split(' ')\\n    if len(words) == 2:\\n        total_bigrams += all_sums[features.index(f)]\\n    else:\\n        total_words += all_sums[features.index(words[0])]\\n\\n\""
            ]
          },
          "execution_count": 68,
          "metadata": {},
          "output_type": "execute_result"
        }
      ],
      "source": [
        "##### My initial attempt to find the total which took forever to run\n",
        "\"\"\"\n",
        "total_bigrams = 0 #################\n",
        "total_words = 0\n",
        "\n",
        "for i, f in enumerate(features):\n",
        "    words = f.split(' ')\n",
        "    if len(words) == 2:\n",
        "        total_bigrams += all_sums[features.index(f)]\n",
        "    else:\n",
        "        total_words += all_sums[features.index(words[0])]\n",
        "\n",
        "\"\"\""
      ]
    },
    {
      "cell_type": "code",
      "execution_count": null,
      "metadata": {
        "ExecuteTime": {
          "end_time": "2023-01-04T22:58:22.454601Z",
          "start_time": "2023-01-04T22:58:22.446627Z"
        },
        "id": "V4_KSX0AeS3l"
      },
      "outputs": [],
      "source": [
        "# stat_frac_list =[]\n",
        "\n",
        "# for i, f in enumerate(features):\n",
        "#     words = f.split(' ') # get w1, w2 from w1w2\n",
        "#     if len(words) == 2:\n",
        "#         w1w2_count = all_sums[features.index(f)] #finding index of only bigrams & looking at its corresponding sum i.e. wordlen ==2\n",
        "#         w1_count = all_sums[features.index(words[0])] #looking for only those words which are part of the bigram\n",
        "#         w2_count = all_sums[features.index(words[1])]\n",
        "#         w1_count = w1_count + 30\n",
        "#         w2_count = w2_count + 30\n",
        "#         num_stat_frac = w1w2_count/total_bigrams #this is p(w1w2)\n",
        "#         deno_stat_frac = (w1_count/total_words) * (w2_count/total_words) #this is p(w1)*p(w2)\n",
        "#         stat_frac = num_stat_frac/deno_stat_frac\n",
        "#         stat_frac_list.append((stat_frac, f))"
      ]
    },
    {
      "cell_type": "code",
      "execution_count": null,
      "metadata": {
        "ExecuteTime": {
          "end_time": "2023-01-04T22:58:22.852913Z",
          "start_time": "2023-01-04T22:58:22.456332Z"
        },
        "id": "cvYiaJ1FeS3l"
      },
      "outputs": [],
      "source": [
        "###### rewriting the above code to make it faster ###############\n",
        "stat_frac_list = []\n",
        "\n",
        "for i, f in enumerate(features):\n",
        "    words = f.split(' ') # get w1, w2 from w1w2\n",
        "    if len(words) == 2:\n",
        "        w1w2_count = all_sums[features_dict[f]] #finding index of only bigrams & looking at its corresponding sum i.e. wordlen ==2\n",
        "        w1_count = all_sums[features_dict[words[0]]] #looking for only those words which are part of the bigram\n",
        "        w2_count = all_sums[features_dict[words[1]]]\n",
        "        w1_count = w1_count + 30\n",
        "        w2_count = w2_count + 30\n",
        "        num_stat_frac = w1w2_count/total_bigrams #this is p(w1w2)\n",
        "        deno_stat_frac = (w1_count/total_words) * (w2_count/total_words) #this is p(w1)*p(w2)\n",
        "        stat_frac = num_stat_frac/deno_stat_frac\n",
        "        stat_frac_list.append((stat_frac, f))"
      ]
    },
    {
      "cell_type": "code",
      "execution_count": null,
      "metadata": {
        "ExecuteTime": {
          "end_time": "2023-01-04T22:58:23.003403Z",
          "start_time": "2023-01-04T22:58:22.854890Z"
        },
        "scrolled": true,
        "id": "XeITN_nReS3l",
        "outputId": "d059948f-8f64-4a9f-b0a9-1e5b0fdda119"
      },
      "outputs": [
        {
          "data": {
            "text/plain": [
              "[(80551.26856497522, 'knick knacks'),\n",
              " (79050.83306146436, 'rula bula'),\n",
              " (78831.45054603013, 'himal chuli'),\n",
              " (77572.39146332706, 'feng shui'),\n",
              " (76898.39747826221, 'cien agaves'),\n",
              " (76326.95293384594, 'ropa vieja'),\n",
              " (76315.94847119688, 'tammie coe'),\n",
              " (75368.63034220981, 'riff raff'),\n",
              " (75317.87705578409, 'roka akor'),\n",
              " (74341.67326542997, 'itty bitty'),\n",
              " (73972.91496550223, 'khai hoan'),\n",
              " (72463.26363967566, 'hoity toity'),\n",
              " (72364.8081184261, 'baskin robbins'),\n",
              " (72133.68542421321, 'dac biet'),\n",
              " (72112.86101085712, 'reina pepiada'),\n",
              " (72043.18674901087, 'chicha morada'),\n",
              " (71384.13834347797, 'gulab jamun'),\n",
              " (71013.99836688215, 'nanay gloria'),\n",
              " (70778.07146200878, 'hodge podge'),\n",
              " (69169.4789287813, 'luc lac'),\n",
              " (68437.52677080479, 'dueling pianos'),\n",
              " (66994.33808196429, 'haricot vert'),\n",
              " (65839.26328744767, 'tutti santi'),\n",
              " (64820.0796452271, 'patatas bravas'),\n",
              " (63384.39523655595, 'nuoc mam'),\n",
              " (63154.74163062641, 'hu tieu'),\n",
              " (62923.796021287984, 'puerto rican'),\n",
              " (62111.36883400771, 'porta alba'),\n",
              " (61846.20759410843, 'alain ducasse'),\n",
              " (61710.025318814696, 'ore ida'),\n",
              " (61588.30929254484, 'wal mart'),\n",
              " (60648.60108972855, 'celine dion'),\n",
              " (60523.29406268365, 'bradley ogden'),\n",
              " (60117.67057513833, 'lomo saltado'),\n",
              " (59005.800392307334, 'krispy kreme'),\n",
              " (58864.38856671267, 'vice versa'),\n",
              " (58061.75967103571, 'holyrood 9a'),\n",
              " (58017.97252196254, 'pura vida'),\n",
              " (57868.54997703675, 'kao tod'),\n",
              " (56904.82933468051, 'valle luna'),\n",
              " (56479.85023877159, 'deja vu'),\n",
              " (56063.68292122274, 'chino bandido'),\n",
              " (55524.17675036896, 'sous vide'),\n",
              " (55081.239755984425, 'lloyd wright'),\n",
              " (54875.40350693719, 'artery clogging'),\n",
              " (54307.145580902645, 'har gow'),\n",
              " (53430.5049272027, 'hors oeuvres'),\n",
              " (53024.83285137771, 'pina colada'),\n",
              " (52076.93213571358, 'molecular gastronomy'),\n",
              " (51589.01469891671, 'harry potter'),\n",
              " (50932.170959854, 'malai kofta'),\n",
              " (49196.4446517557, 'aguas frescas'),\n",
              " (48911.35405016082, 'ping pang'),\n",
              " (48418.635250146915, 'ama ebi'),\n",
              " (48376.750617577585, 'yada yada'),\n",
              " (48308.84242645044, 'yadda yadda'),\n",
              " (48308.84242645044, 'duct tape'),\n",
              " (48234.26872711971, 'casey moore'),\n",
              " (48221.366025497155, 'pin kaow'),\n",
              " (47825.754002185946, 'womp womp'),\n",
              " (46737.1815241336, 'cochinita pibil'),\n",
              " (46313.47719579271, 'lindo michoacan'),\n",
              " (46127.24917118852, 'scantily clad'),\n",
              " (46112.98595252087, 'demi glace'),\n",
              " (45861.187646364095, 'lactose intolerant'),\n",
              " (45289.53977479729, 'thit nuong'),\n",
              " (45254.01856713078, 'ritz carlton'),\n",
              " (44986.02084304705, 'kilt lifter'),\n",
              " (44383.74897930133, 'salo salo'),\n",
              " (44383.74897930133, 'frou frou'),\n",
              " (44326.91959520492, 'moscow mule'),\n",
              " (44179.21557386677, 'woody allen'),\n",
              " (43975.0069277295, 'khao soi'),\n",
              " (43835.80146103836, 'dom demarco'),\n",
              " (43333.246044880005, 'turo turo'),\n",
              " (42860.51972439042, 'cabo wabo'),\n",
              " (42852.18031257415, 'kee mao'),\n",
              " (42608.39902012928, 'fru fru'),\n",
              " (42513.16952040359, 'bi bim'),\n",
              " (42270.237123144136, 'mt everest'),\n",
              " (42270.237123144136, 'betty boop'),\n",
              " (42256.2634910373, 'tsk tsk'),\n",
              " (41772.940215813025, 'upward projects'),\n",
              " (41072.711937984845, 'tres leches'),\n",
              " (40969.614442432015, 'prik ong'),\n",
              " (40892.083406720456, 'arnold palmer'),\n",
              " (40512.54977826695, 'bim bap'),\n",
              " (40384.33423611155, 'coca cola'),\n",
              " (40360.62279668324, 'tarte tatin'),\n",
              " (40272.58886590669, 'shawn mcclain'),\n",
              " (39936.76701951356, 'va bene'),\n",
              " (39826.65999868282, 'fra diavolo'),\n",
              " (39746.64087698627, 'stainless steel'),\n",
              " (39649.71029340744, 'kool aid'),\n",
              " (39628.34730294762, 'val vista'),\n",
              " (39506.41392663087, 'nem nuong'),\n",
              " (39452.221314934526, 'rick moonen'),\n",
              " (39452.221314934526, 'osso bucco'),\n",
              " (39126.16989910862, 'van buren'),\n",
              " (38886.78926255715, 'huli huli')]"
            ]
          },
          "execution_count": 71,
          "metadata": {},
          "output_type": "execute_result"
        }
      ],
      "source": [
        "stat_frac_list.sort(reverse=True)\n",
        "stat_frac_list[:100]"
      ]
    },
    {
      "cell_type": "code",
      "execution_count": null,
      "metadata": {
        "ExecuteTime": {
          "end_time": "2023-01-04T22:58:23.116179Z",
          "start_time": "2023-01-04T22:58:23.005958Z"
        },
        "id": "tYmk4PD_eS3l"
      },
      "outputs": [],
      "source": [
        "ansQ4 = []\n",
        "for frac, bigram in stat_frac_list[:100]:\n",
        "    ansQ4.append(bigram)"
      ]
    },
    {
      "cell_type": "code",
      "execution_count": null,
      "metadata": {
        "ExecuteTime": {
          "end_time": "2023-01-04T22:58:23.125398Z",
          "start_time": "2023-01-04T22:58:23.118242Z"
        },
        "scrolled": true,
        "id": "odxG4u0PeS3m",
        "outputId": "2455041c-16e7-4152-d3c5-be9e34448b36"
      },
      "outputs": [
        {
          "data": {
            "text/plain": [
              "['knick knacks',\n",
              " 'rula bula',\n",
              " 'himal chuli',\n",
              " 'feng shui',\n",
              " 'cien agaves',\n",
              " 'ropa vieja',\n",
              " 'tammie coe',\n",
              " 'riff raff',\n",
              " 'roka akor',\n",
              " 'itty bitty',\n",
              " 'khai hoan',\n",
              " 'hoity toity',\n",
              " 'baskin robbins',\n",
              " 'dac biet',\n",
              " 'reina pepiada',\n",
              " 'chicha morada',\n",
              " 'gulab jamun',\n",
              " 'nanay gloria',\n",
              " 'hodge podge',\n",
              " 'luc lac',\n",
              " 'dueling pianos',\n",
              " 'haricot vert',\n",
              " 'tutti santi',\n",
              " 'patatas bravas',\n",
              " 'nuoc mam',\n",
              " 'hu tieu',\n",
              " 'puerto rican',\n",
              " 'porta alba',\n",
              " 'alain ducasse',\n",
              " 'ore ida',\n",
              " 'wal mart',\n",
              " 'celine dion',\n",
              " 'bradley ogden',\n",
              " 'lomo saltado',\n",
              " 'krispy kreme',\n",
              " 'vice versa',\n",
              " 'holyrood 9a',\n",
              " 'pura vida',\n",
              " 'kao tod',\n",
              " 'valle luna',\n",
              " 'deja vu',\n",
              " 'chino bandido',\n",
              " 'sous vide',\n",
              " 'lloyd wright',\n",
              " 'artery clogging',\n",
              " 'har gow',\n",
              " 'hors oeuvres',\n",
              " 'pina colada',\n",
              " 'molecular gastronomy',\n",
              " 'harry potter',\n",
              " 'malai kofta',\n",
              " 'aguas frescas',\n",
              " 'ping pang',\n",
              " 'ama ebi',\n",
              " 'yada yada',\n",
              " 'yadda yadda',\n",
              " 'duct tape',\n",
              " 'casey moore',\n",
              " 'pin kaow',\n",
              " 'womp womp',\n",
              " 'cochinita pibil',\n",
              " 'lindo michoacan',\n",
              " 'scantily clad',\n",
              " 'demi glace',\n",
              " 'lactose intolerant',\n",
              " 'thit nuong',\n",
              " 'ritz carlton',\n",
              " 'kilt lifter',\n",
              " 'salo salo',\n",
              " 'frou frou',\n",
              " 'moscow mule',\n",
              " 'woody allen',\n",
              " 'khao soi',\n",
              " 'dom demarco',\n",
              " 'turo turo',\n",
              " 'cabo wabo',\n",
              " 'kee mao',\n",
              " 'fru fru',\n",
              " 'bi bim',\n",
              " 'mt everest',\n",
              " 'betty boop',\n",
              " 'tsk tsk',\n",
              " 'upward projects',\n",
              " 'tres leches',\n",
              " 'prik ong',\n",
              " 'arnold palmer',\n",
              " 'bim bap',\n",
              " 'coca cola',\n",
              " 'tarte tatin',\n",
              " 'shawn mcclain',\n",
              " 'va bene',\n",
              " 'fra diavolo',\n",
              " 'stainless steel',\n",
              " 'kool aid',\n",
              " 'val vista',\n",
              " 'nem nuong',\n",
              " 'rick moonen',\n",
              " 'osso bucco',\n",
              " 'van buren',\n",
              " 'huli huli']"
            ]
          },
          "execution_count": 73,
          "metadata": {},
          "output_type": "execute_result"
        }
      ],
      "source": [
        "ansQ4"
      ]
    },
    {
      "cell_type": "code",
      "execution_count": null,
      "metadata": {
        "ExecuteTime": {
          "end_time": "2023-01-04T22:58:23.135737Z",
          "start_time": "2023-01-04T22:58:23.127440Z"
        },
        "scrolled": true,
        "id": "U69fgLUjeS3m",
        "outputId": "a191840e-5359-4ee6-d5b2-bfd90149d1d8"
      },
      "outputs": [
        {
          "data": {
            "text/plain": [
              "['knick knacks',\n",
              " 'rula bula',\n",
              " 'himal chuli',\n",
              " 'feng shui',\n",
              " 'cien agaves',\n",
              " 'ropa vieja',\n",
              " 'tammie coe',\n",
              " 'riff raff',\n",
              " 'roka akor',\n",
              " 'itty bitty',\n",
              " 'khai hoan',\n",
              " 'hoity toity',\n",
              " 'baskin robbins',\n",
              " 'dac biet',\n",
              " 'reina pepiada',\n",
              " 'chicha morada',\n",
              " 'gulab jamun',\n",
              " 'nanay gloria',\n",
              " 'hodge podge',\n",
              " 'luc lac',\n",
              " 'dueling pianos',\n",
              " 'haricot vert',\n",
              " 'tutti santi',\n",
              " 'patatas bravas',\n",
              " 'nuoc mam',\n",
              " 'hu tieu',\n",
              " 'puerto rican',\n",
              " 'porta alba',\n",
              " 'alain ducasse',\n",
              " 'ore ida',\n",
              " 'wal mart',\n",
              " 'celine dion',\n",
              " 'bradley ogden',\n",
              " 'lomo saltado',\n",
              " 'krispy kreme',\n",
              " 'vice versa',\n",
              " 'holyrood 9a',\n",
              " 'pura vida',\n",
              " 'kao tod',\n",
              " 'valle luna',\n",
              " 'deja vu',\n",
              " 'chino bandido',\n",
              " 'sous vide',\n",
              " 'lloyd wright',\n",
              " 'artery clogging',\n",
              " 'har gow',\n",
              " 'hors oeuvres',\n",
              " 'pina colada',\n",
              " 'molecular gastronomy',\n",
              " 'harry potter',\n",
              " 'malai kofta',\n",
              " 'aguas frescas',\n",
              " 'ping pang',\n",
              " 'ama ebi',\n",
              " 'yada yada',\n",
              " 'yadda yadda',\n",
              " 'duct tape',\n",
              " 'casey moore',\n",
              " 'pin kaow',\n",
              " 'womp womp',\n",
              " 'cochinita pibil',\n",
              " 'lindo michoacan',\n",
              " 'scantily clad',\n",
              " 'demi glace',\n",
              " 'lactose intolerant',\n",
              " 'thit nuong',\n",
              " 'ritz carlton',\n",
              " 'kilt lifter',\n",
              " 'salo salo',\n",
              " 'frou frou',\n",
              " 'moscow mule',\n",
              " 'woody allen',\n",
              " 'khao soi',\n",
              " 'dom demarco',\n",
              " 'turo turo',\n",
              " 'cabo wabo',\n",
              " 'kee mao',\n",
              " 'fru fru',\n",
              " 'bi bim',\n",
              " 'mt everest',\n",
              " 'betty boop',\n",
              " 'tsk tsk',\n",
              " 'upward projects',\n",
              " 'tres leches',\n",
              " 'prik ong',\n",
              " 'arnold palmer',\n",
              " 'bim bap',\n",
              " 'coca cola',\n",
              " 'tarte tatin',\n",
              " 'shawn mcclain',\n",
              " 'va bene',\n",
              " 'fra diavolo',\n",
              " 'stainless steel',\n",
              " 'kool aid',\n",
              " 'val vista',\n",
              " 'nem nuong',\n",
              " 'rick moonen',\n",
              " 'osso bucco',\n",
              " 'van buren',\n",
              " 'huli huli']"
            ]
          },
          "execution_count": 74,
          "metadata": {},
          "output_type": "execute_result"
        }
      ],
      "source": [
        "ansQ4"
      ]
    },
    {
      "cell_type": "code",
      "execution_count": null,
      "metadata": {
        "ExecuteTime": {
          "end_time": "2023-01-04T22:58:23.141173Z",
          "start_time": "2023-01-04T22:58:23.137896Z"
        },
        "id": "jbYPc0v7eS3m"
      },
      "outputs": [],
      "source": [
        "#matrix_sum = {}\n",
        "#for i, f in enumerate(features):\n",
        "#    matrix_sum[f] = np.sum(X[:][i].toarray())\n",
        "\n",
        "#######********** I want to know why this is not working???? what column row indices does X use. Both [:][n] and [n][:] gave me the same thing.\n",
        "#### and [a:b] gives me something else and no clear way to check this.\n"
      ]
    },
    {
      "cell_type": "code",
      "execution_count": null,
      "metadata": {
        "ExecuteTime": {
          "end_time": "2023-01-04T22:58:23.147304Z",
          "start_time": "2023-01-04T22:58:23.142938Z"
        },
        "id": "QLAfg4APeS3n"
      },
      "outputs": [],
      "source": [
        "#import time\n",
        "#for i in range(1000):\n",
        "#     time.sleep(5)\n",
        "#print(i)"
      ]
    },
    {
      "cell_type": "code",
      "execution_count": null,
      "metadata": {
        "ExecuteTime": {
          "end_time": "2023-01-04T22:58:23.152528Z",
          "start_time": "2023-01-04T22:58:23.149046Z"
        },
        "id": "T5sKb2nweS3n"
      },
      "outputs": [],
      "source": [
        "top100 = ansQ4\n",
        "#top100 = ['haricot vert'] * 100"
      ]
    },
    {
      "cell_type": "code",
      "execution_count": null,
      "metadata": {
        "ExecuteTime": {
          "end_time": "2023-01-04T22:58:23.458816Z",
          "start_time": "2023-01-04T22:58:23.154193Z"
        },
        "id": "xyGh7c0seS3o",
        "outputId": "cdc80dcd-5c0e-4472-e415-304c657163b8"
      },
      "outputs": [
        {
          "name": "stdout",
          "output_type": "stream",
          "text": [
            "==================\n",
            "Your score: 1.0000\n",
            "==================\n"
          ]
        }
      ],
      "source": [
        "grader.score('nlp__food_bigrams', top100)"
      ]
    },
    {
      "cell_type": "code",
      "execution_count": null,
      "metadata": {
        "id": "XqLDcGOjeS3o"
      },
      "outputs": [],
      "source": []
    },
    {
      "cell_type": "markdown",
      "metadata": {
        "id": "Qj1-wwCceS3o"
      },
      "source": [
        "*Copyright &copy; 2021 Pragmatic Institute. This content is licensed solely for personal use. Redistribution or publication of this material is strictly prohibited.*"
      ]
    }
  ],
  "metadata": {
    "kernelspec": {
      "display_name": "Python3",
      "language": "python",
      "name": "python3"
    },
    "language_info": {
      "codemirror_mode": {
        "name": "ipython",
        "version": 3
      },
      "file_extension": ".py",
      "mimetype": "text/x-python",
      "name": "python",
      "nbconvert_exporter": "python",
      "pygments_lexer": "ipython3",
      "version": "3.9.7"
    },
    "nbclean": true,
    "colab": {
      "provenance": [],
      "include_colab_link": true
    }
  },
  "nbformat": 4,
  "nbformat_minor": 0
}