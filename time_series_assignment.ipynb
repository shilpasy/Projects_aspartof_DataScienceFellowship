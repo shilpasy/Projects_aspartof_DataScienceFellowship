{
  "cells": [
    {
      "cell_type": "markdown",
      "metadata": {
        "id": "view-in-github",
        "colab_type": "text"
      },
      "source": [
        "<a href=\"https://colab.research.google.com/github/shilpasy/Projects_partof_DataScienceFellowship_Python/blob/main/time_series_assignment.ipynb\" target=\"_parent\"><img src=\"https://colab.research.google.com/assets/colab-badge.svg\" alt=\"Open In Colab\"/></a>"
      ]
    },
    {
      "cell_type": "code",
      "execution_count": null,
      "metadata": {
        "ExecuteTime": {
          "end_time": "2023-02-16T23:31:31.757646Z",
          "start_time": "2023-02-16T23:31:29.067180Z"
        },
        "id": "K8AbUjkaebW3"
      },
      "outputs": [],
      "source": [
        "import seaborn as sns\n",
        "sns.set()"
      ]
    },
    {
      "cell_type": "code",
      "execution_count": null,
      "metadata": {
        "ExecuteTime": {
          "end_time": "2023-02-16T23:31:32.366813Z",
          "start_time": "2023-02-16T23:31:31.760810Z"
        },
        "id": "8cTrYZIPebW7"
      },
      "outputs": [],
      "source": [
        "import numpy as np\n",
        "import pandas as pd\n",
        "import datetime as dt\n",
        "from static_grader import grader\n",
        "import matplotlib.pyplot as plt\n",
        "\n",
        "from sklearn.compose import ColumnTransformer\n",
        "from sklearn.linear_model import Ridge\n",
        "from sklearn.pipeline import Pipeline\n",
        "from sklearn.preprocessing import OneHotEncoder\n",
        "from sklearn.base import BaseEstimator, TransformerMixin\n",
        "from sklearn.pipeline import FeatureUnion\n",
        "from sklearn import base\n",
        "from sklearn.linear_model import LinearRegression"
      ]
    },
    {
      "cell_type": "markdown",
      "metadata": {
        "id": "6n0wbxYhebW8"
      },
      "source": [
        "# Time Series Data: Predict Temperature"
      ]
    },
    {
      "cell_type": "markdown",
      "metadata": {
        "id": "jUBb1us7ebW-"
      },
      "source": [
        "Time series prediction presents its own challenges which are different from machine-learning problems.  As with many other classes of problems, there are a number of common features in these predictions.\n"
      ]
    },
    {
      "cell_type": "markdown",
      "metadata": {
        "id": "eIyJ7fl4ebW-"
      },
      "source": [
        "## A note on scoring"
      ]
    },
    {
      "cell_type": "markdown",
      "metadata": {
        "id": "WWk3FXXUebW_"
      },
      "source": [
        "It **is** possible to score >1 on these questions. This indicates that you've beaten our reference model - we compare our model's score on a test set to your score on a test set. See how high you can go!\n"
      ]
    },
    {
      "cell_type": "markdown",
      "metadata": {
        "id": "jQDSRW6webXA"
      },
      "source": [
        "## Fetch the data:"
      ]
    },
    {
      "cell_type": "code",
      "execution_count": null,
      "metadata": {
        "ExecuteTime": {
          "end_time": "2023-02-16T23:31:33.995963Z",
          "start_time": "2023-02-16T23:31:32.369169Z"
        },
        "id": "qvXW3fSqebXA"
      },
      "outputs": [],
      "source": [
        "!aws s3 sync s3://dataincubator-course/mldata/ . --exclude '*' --include 'train.v2.csv.gz'"
      ]
    },
    {
      "cell_type": "markdown",
      "metadata": {
        "id": "wyINfq2cebXC"
      },
      "source": [
        "The data can be loaded into pandas easily:"
      ]
    },
    {
      "cell_type": "code",
      "execution_count": null,
      "metadata": {
        "ExecuteTime": {
          "end_time": "2023-02-16T23:31:34.598244Z",
          "start_time": "2023-02-16T23:31:33.998969Z"
        },
        "id": "dYm5XVNJebXD",
        "outputId": "b40ab6fc-f5a0-4f6a-86ef-5d720e6edbe8"
      },
      "outputs": [
        {
          "name": "stdout",
          "output_type": "stream",
          "text": [
            "(392136, 9)\n"
          ]
        },
        {
          "data": {
            "text/html": [
              "<div>\n",
              "<style scoped>\n",
              "    .dataframe tbody tr th:only-of-type {\n",
              "        vertical-align: middle;\n",
              "    }\n",
              "\n",
              "    .dataframe tbody tr th {\n",
              "        vertical-align: top;\n",
              "    }\n",
              "\n",
              "    .dataframe thead th {\n",
              "        text-align: right;\n",
              "    }\n",
              "</style>\n",
              "<table border=\"1\" class=\"dataframe\">\n",
              "  <thead>\n",
              "    <tr style=\"text-align: right;\">\n",
              "      <th></th>\n",
              "      <th>station</th>\n",
              "      <th>time</th>\n",
              "      <th>temp</th>\n",
              "      <th>dew_point</th>\n",
              "      <th>pressure</th>\n",
              "      <th>wind_speed</th>\n",
              "      <th>wind_direction</th>\n",
              "      <th>precip_hour</th>\n",
              "      <th>weather_codes</th>\n",
              "    </tr>\n",
              "  </thead>\n",
              "  <tbody>\n",
              "    <tr>\n",
              "      <th>0</th>\n",
              "      <td>PHX</td>\n",
              "      <td>2010-01-01 00:51</td>\n",
              "      <td>62.06</td>\n",
              "      <td>15.98</td>\n",
              "      <td>1024.90</td>\n",
              "      <td>3.00</td>\n",
              "      <td>20.00</td>\n",
              "      <td>M</td>\n",
              "      <td>M</td>\n",
              "    </tr>\n",
              "    <tr>\n",
              "      <th>1</th>\n",
              "      <td>PHX</td>\n",
              "      <td>2010-01-01 01:51</td>\n",
              "      <td>60.08</td>\n",
              "      <td>17.96</td>\n",
              "      <td>1025.30</td>\n",
              "      <td>4.00</td>\n",
              "      <td>50.00</td>\n",
              "      <td>M</td>\n",
              "      <td>M</td>\n",
              "    </tr>\n",
              "    <tr>\n",
              "      <th>2</th>\n",
              "      <td>PHX</td>\n",
              "      <td>2010-01-01 02:51</td>\n",
              "      <td>59.00</td>\n",
              "      <td>17.96</td>\n",
              "      <td>1025.60</td>\n",
              "      <td>4.00</td>\n",
              "      <td>30.00</td>\n",
              "      <td>M</td>\n",
              "      <td>M</td>\n",
              "    </tr>\n",
              "    <tr>\n",
              "      <th>3</th>\n",
              "      <td>PHX</td>\n",
              "      <td>2010-01-01 03:51</td>\n",
              "      <td>53.96</td>\n",
              "      <td>21.92</td>\n",
              "      <td>1026.00</td>\n",
              "      <td>0.00</td>\n",
              "      <td>0.00</td>\n",
              "      <td>M</td>\n",
              "      <td>M</td>\n",
              "    </tr>\n",
              "    <tr>\n",
              "      <th>4</th>\n",
              "      <td>PHX</td>\n",
              "      <td>2010-01-01 04:51</td>\n",
              "      <td>55.94</td>\n",
              "      <td>17.06</td>\n",
              "      <td>1026.20</td>\n",
              "      <td>5.00</td>\n",
              "      <td>40.00</td>\n",
              "      <td>M</td>\n",
              "      <td>M</td>\n",
              "    </tr>\n",
              "  </tbody>\n",
              "</table>\n",
              "</div>"
            ],
            "text/plain": [
              "  station              time   temp dew_point pressure wind_speed  \\\n",
              "0     PHX  2010-01-01 00:51  62.06     15.98  1024.90       3.00   \n",
              "1     PHX  2010-01-01 01:51  60.08     17.96  1025.30       4.00   \n",
              "2     PHX  2010-01-01 02:51  59.00     17.96  1025.60       4.00   \n",
              "3     PHX  2010-01-01 03:51  53.96     21.92  1026.00       0.00   \n",
              "4     PHX  2010-01-01 04:51  55.94     17.06  1026.20       5.00   \n",
              "\n",
              "  wind_direction precip_hour weather_codes  \n",
              "0          20.00           M             M  \n",
              "1          50.00           M             M  \n",
              "2          30.00           M             M  \n",
              "3           0.00           M             M  \n",
              "4          40.00           M             M  "
            ]
          },
          "execution_count": 4,
          "metadata": {},
          "output_type": "execute_result"
        }
      ],
      "source": [
        "df = pd.read_csv('train.v2.csv.gz')\n",
        "print(df.shape)\n",
        "df.head()"
      ]
    },
    {
      "cell_type": "markdown",
      "metadata": {
        "id": "nkmBLZ4XebXD"
      },
      "source": [
        "The `station` column indicates the city.  The `time` is measured in UTC.  Both `temp` and `dew_point` are measured in degrees Fahrenheit.  The `wind_speed` is in knots, and the `precip_hour` measures the hourly precipitation in inches.\n",
        "\n",
        "Missing values are indicated by a flag value.  Remove rows without valid temperature measurements.  You may also want to change some data types. (But keep in mind that the data provided by the grader will have the same data types as `pd.read_csv` provided.)"
      ]
    },
    {
      "cell_type": "code",
      "execution_count": null,
      "metadata": {
        "ExecuteTime": {
          "end_time": "2023-02-16T23:31:34.783633Z",
          "start_time": "2023-02-16T23:31:34.601786Z"
        },
        "id": "sJRv2eIpebXE"
      },
      "outputs": [],
      "source": [
        "invalid_temp_entries = df.index[df.temp.str.contains('M')]\n",
        "df = df.drop(invalid_temp_entries)"
      ]
    },
    {
      "cell_type": "code",
      "execution_count": null,
      "metadata": {
        "ExecuteTime": {
          "end_time": "2023-02-16T23:31:34.791068Z",
          "start_time": "2023-02-16T23:31:34.786245Z"
        },
        "id": "W04d-NmJebXF",
        "outputId": "6dde5792-304b-46f0-c2fd-68e8cd708466"
      },
      "outputs": [
        {
          "name": "stdout",
          "output_type": "stream",
          "text": [
            "station           object\n",
            "time              object\n",
            "temp              object\n",
            "dew_point         object\n",
            "pressure          object\n",
            "wind_speed        object\n",
            "wind_direction    object\n",
            "precip_hour       object\n",
            "weather_codes     object\n",
            "dtype: object\n"
          ]
        }
      ],
      "source": [
        "print(df.dtypes)"
      ]
    },
    {
      "cell_type": "markdown",
      "metadata": {
        "id": "aytQsBupebXF"
      },
      "source": [
        "We will focus on using the temporal elements to predict the temperature.\n"
      ]
    },
    {
      "cell_type": "markdown",
      "metadata": {
        "id": "tyK96DM8ebXG"
      },
      "source": [
        "# Questions\n"
      ]
    },
    {
      "cell_type": "markdown",
      "metadata": {
        "id": "JaJq9mlDebXH"
      },
      "source": [
        "For each question, build a model to predict the temperature in a given city at a given time.  You will be given a DataFrame, as we got from `pd.read_csv`.  (As you can imagine, the temperature values will be nonsensical in the DataFrame you are given.)  Return a collection of predicted temperatures, one for each incoming row in the DataFrame.  "
      ]
    },
    {
      "cell_type": "markdown",
      "metadata": {
        "id": "WWyVHmcNebXH"
      },
      "source": [
        "## One-city model"
      ]
    },
    {
      "cell_type": "markdown",
      "metadata": {
        "id": "viE6pTHxebXH"
      },
      "source": [
        "As you may have noticed, the data contains rows for multiple cities.  We'll deal with all of them soon, but for this first question, we'll focus on only the data from New York (`\"NYC\"`).  Start by isolating only those rows."
      ]
    },
    {
      "cell_type": "markdown",
      "metadata": {
        "id": "8hKTE5Z3ebXI"
      },
      "source": [
        "Seasonal features are nice because they are relatively safe to extrapolate into the future. There are two ways to handle seasonality.  \n",
        "\n",
        "The simplest (and perhaps most robust) is to have a set of indicator variables. That is, make the assumption that the temperature at any given time is a function of only the month of the year and the hour of the day, and use that to predict the temperature value.\n",
        "\n",
        "**Question**: Should month be a continuous or categorical variable?  (Recall that [one-hot encoding](http://scikit-learn.org/stable/modules/generated/sklearn.preprocessing.OneHotEncoder.html) is useful to deal with categorical variables.)\n",
        "\n",
        "Build a model to predict the temperature for a given hour in a given month in New York."
      ]
    },
    {
      "cell_type": "code",
      "execution_count": null,
      "metadata": {
        "ExecuteTime": {
          "end_time": "2023-02-16T23:31:35.626544Z",
          "start_time": "2023-02-16T23:31:34.793567Z"
        },
        "scrolled": true,
        "id": "zepxS4AXebXI"
      },
      "outputs": [],
      "source": [
        "for col in ['dew_point', 'pressure', 'wind_speed','wind_direction', 'precip_hour', 'temp']:\n",
        "    df[col] = pd.to_numeric(df[col],errors='coerce')\n",
        "    df[col].fillna(0,inplace=True)\n",
        "\n",
        "# 'station', 'time', 'temp', 'dew_point', 'pressure', 'wind_speed', 'wind_direction', 'precip_hour', 'weather_codes', 'month', 'hour'"
      ]
    },
    {
      "cell_type": "code",
      "execution_count": null,
      "metadata": {
        "ExecuteTime": {
          "end_time": "2023-02-16T23:32:38.906654Z",
          "start_time": "2023-02-16T23:32:38.816415Z"
        },
        "id": "UWXO142UebXI"
      },
      "outputs": [],
      "source": [
        "from sklearn.base import BaseEstimator, TransformerMixin\n",
        "from sklearn.pipeline import FeatureUnion\n",
        "\n",
        "class ExtractMonthHour(BaseEstimator, TransformerMixin):\n",
        "    def __init__(self):\n",
        "        pass\n",
        "    def fit(self, X, y=None):\n",
        "        return self\n",
        "    def transform(self, X, y=None):\n",
        "        X['time'] = pd.to_datetime(X['time'], format=\"%Y-%m-%d %H:%M:%S\")\n",
        "        X['month'] = X['time'].dt.month\n",
        "        X['hour'] = X['time'].dt.hour\n",
        "        return X\n",
        "\n",
        "features = ColumnTransformer([('categorical', OneHotEncoder(), ['month', 'hour'])])\n",
        "\n",
        "city_model = Pipeline([\n",
        "        ('extract_month_hour', ExtractMonthHour()),\n",
        "        ('features', features),\n",
        "        ('regressor', Ridge())\n",
        "])\n",
        "\n",
        "df_nyc = df[df['station'] =='NYC']\n",
        "\n",
        "X = df_nyc.drop(columns=['temp'])\n",
        "y = df_nyc['temp']\n",
        "\n",
        "nyc_model = city_model.fit(X,y)"
      ]
    },
    {
      "cell_type": "markdown",
      "metadata": {
        "id": "FhF9xzo_ebXJ"
      },
      "source": [
        "The grader will provide a DataFrame in the same format as `pd.read_csv` provided.  All of the temperature data will be redacted.  As long as your model accepts DataFrame input, you should be able to run the grader line below as-is.  If your model is expecting a different input, you will need to write an adapter function."
      ]
    },
    {
      "cell_type": "code",
      "execution_count": null,
      "metadata": {
        "ExecuteTime": {
          "end_time": "2023-02-16T23:31:37.163139Z",
          "start_time": "2023-02-16T23:31:35.759330Z"
        },
        "scrolled": false,
        "id": "pMulvMwSebXJ",
        "outputId": "6cf118be-7b11-4461-ee8d-92a44092216d"
      },
      "outputs": [
        {
          "name": "stdout",
          "output_type": "stream",
          "text": [
            "==================\n",
            "Your score: 1.0000\n",
            "==================\n"
          ]
        }
      ],
      "source": [
        "grader.score('ts__one_city_model', nyc_model.predict)"
      ]
    },
    {
      "cell_type": "code",
      "execution_count": null,
      "metadata": {
        "ExecuteTime": {
          "end_time": "2023-02-16T23:39:10.797433Z",
          "start_time": "2023-02-16T23:39:10.787041Z"
        },
        "id": "bWXLkKbjebXJ",
        "outputId": "9a304040-d4c0-4fc2-bd29-99032167de21"
      },
      "outputs": [
        {
          "data": {
            "text/html": [
              "<div>\n",
              "<style scoped>\n",
              "    .dataframe tbody tr th:only-of-type {\n",
              "        vertical-align: middle;\n",
              "    }\n",
              "\n",
              "    .dataframe tbody tr th {\n",
              "        vertical-align: top;\n",
              "    }\n",
              "\n",
              "    .dataframe thead th {\n",
              "        text-align: right;\n",
              "    }\n",
              "</style>\n",
              "<table border=\"1\" class=\"dataframe\">\n",
              "  <thead>\n",
              "    <tr style=\"text-align: right;\">\n",
              "      <th></th>\n",
              "      <th>month</th>\n",
              "      <th>hour</th>\n",
              "    </tr>\n",
              "  </thead>\n",
              "  <tbody>\n",
              "    <tr>\n",
              "      <th>314317</th>\n",
              "      <td>1</td>\n",
              "      <td>0</td>\n",
              "    </tr>\n",
              "    <tr>\n",
              "      <th>314318</th>\n",
              "      <td>1</td>\n",
              "      <td>1</td>\n",
              "    </tr>\n",
              "    <tr>\n",
              "      <th>314319</th>\n",
              "      <td>1</td>\n",
              "      <td>2</td>\n",
              "    </tr>\n",
              "    <tr>\n",
              "      <th>314320</th>\n",
              "      <td>1</td>\n",
              "      <td>3</td>\n",
              "    </tr>\n",
              "    <tr>\n",
              "      <th>314321</th>\n",
              "      <td>1</td>\n",
              "      <td>4</td>\n",
              "    </tr>\n",
              "    <tr>\n",
              "      <th>...</th>\n",
              "      <td>...</td>\n",
              "      <td>...</td>\n",
              "    </tr>\n",
              "    <tr>\n",
              "      <th>392131</th>\n",
              "      <td>12</td>\n",
              "      <td>19</td>\n",
              "    </tr>\n",
              "    <tr>\n",
              "      <th>392132</th>\n",
              "      <td>12</td>\n",
              "      <td>20</td>\n",
              "    </tr>\n",
              "    <tr>\n",
              "      <th>392133</th>\n",
              "      <td>12</td>\n",
              "      <td>21</td>\n",
              "    </tr>\n",
              "    <tr>\n",
              "      <th>392134</th>\n",
              "      <td>12</td>\n",
              "      <td>22</td>\n",
              "    </tr>\n",
              "    <tr>\n",
              "      <th>392135</th>\n",
              "      <td>12</td>\n",
              "      <td>23</td>\n",
              "    </tr>\n",
              "  </tbody>\n",
              "</table>\n",
              "<p>77745 rows × 2 columns</p>\n",
              "</div>"
            ],
            "text/plain": [
              "        month  hour\n",
              "314317      1     0\n",
              "314318      1     1\n",
              "314319      1     2\n",
              "314320      1     3\n",
              "314321      1     4\n",
              "...       ...   ...\n",
              "392131     12    19\n",
              "392132     12    20\n",
              "392133     12    21\n",
              "392134     12    22\n",
              "392135     12    23\n",
              "\n",
              "[77745 rows x 2 columns]"
            ]
          },
          "execution_count": 20,
          "metadata": {},
          "output_type": "execute_result"
        }
      ],
      "source": [
        "X[['month', 'hour']]"
      ]
    },
    {
      "cell_type": "markdown",
      "metadata": {
        "id": "1oIZ2LaAebXK"
      },
      "source": [
        "## Per-city model"
      ]
    },
    {
      "cell_type": "markdown",
      "metadata": {
        "id": "6zPacdm2ebXK"
      },
      "source": [
        "Now we want to extend this same model to handle all of the cities in our data set.  Rather than adding features to the existing model to handle this, we'll just make a new copy of the model for each city.\n",
        "\n",
        "If your model is a single class, then this is easy&mdash;you can just instantiate your class once per city.  But it's more likely your model was a particular instance of a Pipeline.  If that's the case, make a **factory function** that returns a new copy of that Pipeline each time it's called."
      ]
    },
    {
      "cell_type": "code",
      "execution_count": null,
      "metadata": {
        "ExecuteTime": {
          "end_time": "2023-02-16T23:31:37.167940Z",
          "start_time": "2023-02-16T23:31:37.165197Z"
        },
        "id": "VgiCdmDjebXL"
      },
      "outputs": [],
      "source": [
        "# #def season_factory():\n",
        "# #    return city_model() # A single estimator or a pipeline\n",
        "\n",
        "# def season_factory():\n",
        "#     return city_model.clone() ?????????????"
      ]
    },
    {
      "cell_type": "markdown",
      "metadata": {
        "id": "FNxf_4cvebXL"
      },
      "source": [
        "Calling this function should give a new copy of the Pipeline.  If we train that new copy on the New York data, it should give us the same model as before.  (You might check this by submitting such a model to the previous `grader.score` call.)\n",
        "\n",
        "While we could manually call this function for each city in our dataset, let's build a \"group-by\" estimator that does this for us.  This estimator should take a column name and a factory function as an argument.  The `fit` method will group the incoming data by that column, and for each group it will call the factory to create a new instance to be trained by on that group.  Then, the `predict` method should look up the corresponding model for each row and perform a predict using that model."
      ]
    },
    {
      "cell_type": "markdown",
      "metadata": {
        "id": "SyZbnaW9ebXL"
      },
      "source": [
        "Now, we should be able to build an equivalent model for each city:"
      ]
    },
    {
      "cell_type": "markdown",
      "metadata": {
        "id": "dpoCDS_yebXL"
      },
      "source": [
        "Again, as long as this model accepts a DataFrame as input, you should be able to pass the `predict` method to the grader."
      ]
    },
    {
      "cell_type": "code",
      "execution_count": null,
      "metadata": {
        "ExecuteTime": {
          "end_time": "2023-02-16T23:31:37.177832Z",
          "start_time": "2023-02-16T23:31:37.169915Z"
        },
        "scrolled": true,
        "id": "2U7dsUxrebXL"
      },
      "outputs": [],
      "source": [
        "# def season_factory():\n",
        "#     return Pipeline([\n",
        "#         ('extract_month_hour', ExtractMonthHour()),\n",
        "#         ('features', features), #OHE\n",
        "#         ('regressor', Ridge())\n",
        "# ])\n",
        "\n",
        "\n",
        "# class GroupbyEstimator(base.BaseEstimator, base.RegressorMixin):\n",
        "\n",
        "#     def __init__(self, column, estimator_factory):\n",
        "#         self.column = column\n",
        "#         self.estimator_factory = estimator_factory\n",
        "#         self.models = {}\n",
        "\n",
        "#     def fit(self, X, y):\n",
        "#         X_mod = X#.drop(columns=['temp'])\n",
        "#         grouped_data = X_mod.groupby(self.column)\n",
        "#         for name, group in grouped_data:\n",
        "#             model = self.estimator_factory()\n",
        "#             self.models[name] = model.fit(group, y[group.index])\n",
        "#         return self\n",
        "\n",
        "#     def predict(self, X):\n",
        "#         predictions = []\n",
        "#         idxs = []\n",
        "#         X_mod = X#.drop(columns=['temp'])\n",
        "#         grouped_data = X_mod.groupby(self.column)\n",
        "#         for name,group in grouped_data:\n",
        "# #             print(name)\n",
        "#             pred = []\n",
        "#             idx = []\n",
        "#             model = self.models[name]\n",
        "#             pred.append(model.predict(group))\n",
        "#             idx.append(group.index)\n",
        "# #             print(idx)\n",
        "#             predictions.append(model.predict(group))\n",
        "#             idxs.append(idx)\n",
        "#         print(predictions)\n",
        "#         print(idxs)\n",
        "\n",
        "#         np_pred = [item for sublist in predictions for item in sublist]\n",
        "#         idx_pred = [item for sublist in idxs for supersublist in sublist for item in supersublist]\n",
        "\n",
        "#         df_dict = {\"predictions\" :np_pred,\"idx\":idx_pred }\n",
        "#         #create dataframe from two lists\n",
        "#         df = pd.DataFrame(df_dict)\n",
        "#         df.sort_values(by=\"idx\",inplace=True)\n",
        "\n",
        "#         return df[\"predictions\"]\n",
        "\n",
        "# season_model = GroupbyEstimator('station', season_factory).fit(df, df['temp'])\n"
      ]
    },
    {
      "cell_type": "code",
      "execution_count": null,
      "metadata": {
        "ExecuteTime": {
          "end_time": "2023-02-16T23:31:37.321137Z",
          "start_time": "2023-02-16T23:31:37.179853Z"
        },
        "scrolled": false,
        "id": "kaJ9KadmebXM",
        "outputId": "6335d1f7-a6d5-40ce-ecf5-570f1fc163f9"
      },
      "outputs": [
        {
          "ename": "NameError",
          "evalue": "name 'season_model' is not defined",
          "output_type": "error",
          "traceback": [
            "\u001b[0;31m---------------------------------------------------------------------------\u001b[0m",
            "\u001b[0;31mNameError\u001b[0m                                 Traceback (most recent call last)",
            "\u001b[0;32m/tmp/ipykernel_40/1949835220.py\u001b[0m in \u001b[0;36m<module>\u001b[0;34m\u001b[0m\n\u001b[0;32m----> 1\u001b[0;31m \u001b[0mgrader\u001b[0m\u001b[0;34m.\u001b[0m\u001b[0mscore\u001b[0m\u001b[0;34m(\u001b[0m\u001b[0;34m'ts__month_hour_model'\u001b[0m\u001b[0;34m,\u001b[0m \u001b[0mseason_model\u001b[0m\u001b[0;34m.\u001b[0m\u001b[0mpredict\u001b[0m\u001b[0;34m)\u001b[0m\u001b[0;34m\u001b[0m\u001b[0;34m\u001b[0m\u001b[0m\n\u001b[0m",
            "\u001b[0;31mNameError\u001b[0m: name 'season_model' is not defined"
          ]
        }
      ],
      "source": [
        "grader.score('ts__month_hour_model', season_model.predict)"
      ]
    },
    {
      "cell_type": "markdown",
      "metadata": {
        "id": "C7uNqOsVebXM"
      },
      "source": [
        "## Handling data in arbitrary order"
      ]
    },
    {
      "cell_type": "markdown",
      "metadata": {
        "id": "5_CpCzlAebXN"
      },
      "source": [
        "Submit the same model again to the following scorer:"
      ]
    },
    {
      "cell_type": "code",
      "execution_count": null,
      "metadata": {
        "ExecuteTime": {
          "end_time": "2023-02-16T23:31:37.324242Z",
          "start_time": "2023-02-16T23:31:37.324229Z"
        },
        "id": "jCxdEFUGebXN"
      },
      "outputs": [],
      "source": [
        "def season_factory():\n",
        "    return Pipeline([\n",
        "        ('extract_month_hour', ExtractMonthHour()),\n",
        "        ('features', features), #OHE features\n",
        "        ('regressor', Ridge())\n",
        "])\n",
        "\n",
        "class GroupbyEstimator(base.BaseEstimator, base.RegressorMixin):\n",
        "\n",
        "    def __init__(self, column, estimator_factory):\n",
        "        self.column = column\n",
        "        self.estimator_factory = estimator_factory\n",
        "        self.models = {}\n",
        "\n",
        "    def fit(self, X, y):\n",
        "        #grouping the data by \"station\" i.e. city names\n",
        "        grouped_data = X.groupby(self.column)\n",
        "        for name, group in grouped_data:\n",
        "            model = self.estimator_factory() #creating at estimator/season factory for each city\n",
        "            self.models[name] = model.fit(group, y[group.index]) # fitting for each city seperately, hence y[group.index]\n",
        "        return self\n",
        "\n",
        "    def predict(self, X):\n",
        "\n",
        "#         pop out the index of this dataframe and store as a column.\n",
        "#         Then store the column as a separate index or dataframe\n",
        "#         and sort the final predictions accordingly.\n",
        "        predictions = []\n",
        "        idxs = []\n",
        "        namelst = []\n",
        "        idxdf = pd.DataFrame(X.index,columns=[\"idx\"])\n",
        "        #print(idxdf)\n",
        "        grouped_data = X.groupby(self.column)\n",
        "        for name,group in grouped_data:\n",
        "#             print(group)\n",
        "            pred = []\n",
        "            idx = []\n",
        "            model = self.models[name]\n",
        "            pred.append(model.predict(group))\n",
        "            idx.append(group.index)\n",
        "            namelst.append(name)\n",
        "            predictions.append(model.predict(group))\n",
        "            idxs.append(idx)\n",
        "#           print(namelst)\n",
        "\n",
        "        np_pred = [item for sublist in predictions for item in sublist]\n",
        "        idx_pred = [item for sublist in idxs for supersublist in sublist for item in supersublist]\n",
        "\n",
        "        df_dict = {\"predictions\" :np_pred,\"idx\":idx_pred }\n",
        "\n",
        "        #create dataframe from two lists\n",
        "        df = pd.DataFrame(df_dict)\n",
        "        finaldf = pd.merge(left = idxdf, right = df, on = \"idx\", how=\"left\")\n",
        "        #print(finaldf)\n",
        "        return finaldf[\"predictions\"]\n",
        "\n",
        "season_model = GroupbyEstimator('station', season_factory).fit(df, df['temp'])\n"
      ]
    },
    {
      "cell_type": "code",
      "execution_count": null,
      "metadata": {
        "ExecuteTime": {
          "end_time": "2023-02-16T23:31:37.325983Z",
          "start_time": "2023-02-16T23:31:37.325970Z"
        },
        "id": "mn2PNf1yebXN"
      },
      "outputs": [],
      "source": [
        "grader.score('ts__shuffled_model', season_model.predict)"
      ]
    },
    {
      "cell_type": "markdown",
      "metadata": {
        "id": "DDaAdAdKebXN"
      },
      "source": [
        "If you passed, congratulations&mdash;you avoided a common pitfall!  Move on to the next question.\n",
        "\n",
        "But if your model suddenly behaved worse: In the previous question, we provided each city's rows in contiguous groups.  In this question, the rows were all shuffled together.  If you were predicting for a group at a time and just appending those grouped predictions for the final output, it'll be in the wrong order.\n",
        "\n",
        "There are two ways to fix this:\n",
        "1. Predict for each row individually.  This is straightforward, but very, _very_ slow.\n",
        "2. Predict for each group, and then reorder the predictions to match the input order.  A common way to do this is to attach the index of the feature matrix to the predictions, and then order the full prediction series by the index of the feature matrix.\n",
        "\n",
        "Once you've fixed your `GroupbyEstimator.predict` method, resubmit to this question."
      ]
    },
    {
      "cell_type": "markdown",
      "metadata": {
        "id": "FVxMrjaeebXO"
      },
      "source": [
        "## Fourier model"
      ]
    },
    {
      "cell_type": "code",
      "execution_count": null,
      "metadata": {
        "ExecuteTime": {
          "end_time": "2023-02-16T23:35:55.033116Z",
          "start_time": "2023-02-16T23:35:54.728096Z"
        },
        "id": "KiyRP9QiebXO",
        "outputId": "a8cdaecf-b28f-453c-aff5-de42c6bc7c46"
      },
      "outputs": [
        {
          "data": {
            "image/png": "[encoded data removed]",
            "text/plain": [
              "<Figure size 432x288 with 1 Axes>"
            ]
          },
          "metadata": {},
          "output_type": "display_data"
        }
      ],
      "source": [
        "df.temp[:365*24*4].plot();"
      ]
    },
    {
      "cell_type": "code",
      "execution_count": null,
      "metadata": {
        "ExecuteTime": {
          "end_time": "2023-02-16T23:35:39.493639Z",
          "start_time": "2023-02-16T23:35:39.351928Z"
        },
        "id": "n5N6Ad2GebXO",
        "outputId": "17ef85d7-f239-44b8-8a7c-0579ff539b75"
      },
      "outputs": [
        {
          "data": {
            "text/html": [
              "<div>\n",
              "<style scoped>\n",
              "    .dataframe tbody tr th:only-of-type {\n",
              "        vertical-align: middle;\n",
              "    }\n",
              "\n",
              "    .dataframe tbody tr th {\n",
              "        vertical-align: top;\n",
              "    }\n",
              "\n",
              "    .dataframe thead th {\n",
              "        text-align: right;\n",
              "    }\n",
              "</style>\n",
              "<table border=\"1\" class=\"dataframe\">\n",
              "  <thead>\n",
              "    <tr style=\"text-align: right;\">\n",
              "      <th></th>\n",
              "      <th>station</th>\n",
              "      <th>time</th>\n",
              "      <th>temp</th>\n",
              "      <th>dew_point</th>\n",
              "      <th>pressure</th>\n",
              "      <th>wind_speed</th>\n",
              "      <th>wind_direction</th>\n",
              "      <th>precip_hour</th>\n",
              "      <th>weather_codes</th>\n",
              "      <th>month</th>\n",
              "      <th>hour</th>\n",
              "    </tr>\n",
              "  </thead>\n",
              "  <tbody>\n",
              "    <tr>\n",
              "      <th>0</th>\n",
              "      <td>PHX</td>\n",
              "      <td>2010-01-01 00:51:00</td>\n",
              "      <td>62.06</td>\n",
              "      <td>15.98</td>\n",
              "      <td>1024.9</td>\n",
              "      <td>3.0</td>\n",
              "      <td>20.0</td>\n",
              "      <td>0.0</td>\n",
              "      <td>M</td>\n",
              "      <td>1</td>\n",
              "      <td>0</td>\n",
              "    </tr>\n",
              "    <tr>\n",
              "      <th>1</th>\n",
              "      <td>PHX</td>\n",
              "      <td>2010-01-01 01:51:00</td>\n",
              "      <td>60.08</td>\n",
              "      <td>17.96</td>\n",
              "      <td>1025.3</td>\n",
              "      <td>4.0</td>\n",
              "      <td>50.0</td>\n",
              "      <td>0.0</td>\n",
              "      <td>M</td>\n",
              "      <td>1</td>\n",
              "      <td>1</td>\n",
              "    </tr>\n",
              "    <tr>\n",
              "      <th>2</th>\n",
              "      <td>PHX</td>\n",
              "      <td>2010-01-01 02:51:00</td>\n",
              "      <td>59.00</td>\n",
              "      <td>17.96</td>\n",
              "      <td>1025.6</td>\n",
              "      <td>4.0</td>\n",
              "      <td>30.0</td>\n",
              "      <td>0.0</td>\n",
              "      <td>M</td>\n",
              "      <td>1</td>\n",
              "      <td>2</td>\n",
              "    </tr>\n",
              "    <tr>\n",
              "      <th>3</th>\n",
              "      <td>PHX</td>\n",
              "      <td>2010-01-01 03:51:00</td>\n",
              "      <td>53.96</td>\n",
              "      <td>21.92</td>\n",
              "      <td>1026.0</td>\n",
              "      <td>0.0</td>\n",
              "      <td>0.0</td>\n",
              "      <td>0.0</td>\n",
              "      <td>M</td>\n",
              "      <td>1</td>\n",
              "      <td>3</td>\n",
              "    </tr>\n",
              "    <tr>\n",
              "      <th>4</th>\n",
              "      <td>PHX</td>\n",
              "      <td>2010-01-01 04:51:00</td>\n",
              "      <td>55.94</td>\n",
              "      <td>17.06</td>\n",
              "      <td>1026.2</td>\n",
              "      <td>5.0</td>\n",
              "      <td>40.0</td>\n",
              "      <td>0.0</td>\n",
              "      <td>M</td>\n",
              "      <td>1</td>\n",
              "      <td>4</td>\n",
              "    </tr>\n",
              "  </tbody>\n",
              "</table>\n",
              "</div>"
            ],
            "text/plain": [
              "  station                time   temp  dew_point  pressure  wind_speed  \\\n",
              "0     PHX 2010-01-01 00:51:00  62.06      15.98    1024.9         3.0   \n",
              "1     PHX 2010-01-01 01:51:00  60.08      17.96    1025.3         4.0   \n",
              "2     PHX 2010-01-01 02:51:00  59.00      17.96    1025.6         4.0   \n",
              "3     PHX 2010-01-01 03:51:00  53.96      21.92    1026.0         0.0   \n",
              "4     PHX 2010-01-01 04:51:00  55.94      17.06    1026.2         5.0   \n",
              "\n",
              "   wind_direction  precip_hour weather_codes  month  hour  \n",
              "0            20.0          0.0             M      1     0  \n",
              "1            50.0          0.0             M      1     1  \n",
              "2            30.0          0.0             M      1     2  \n",
              "3             0.0          0.0             M      1     3  \n",
              "4            40.0          0.0             M      1     4  "
            ]
          },
          "execution_count": 17,
          "metadata": {},
          "output_type": "execute_result"
        }
      ],
      "source": [
        "df['time'] = pd.to_datetime(df['time'], format=\"%Y-%m-%d %H:%M:%S\")\n",
        "df['month'] = df['time'].dt.month\n",
        "df['hour'] = df['time'].dt.hour\n",
        "df.head()"
      ]
    },
    {
      "cell_type": "code",
      "execution_count": null,
      "metadata": {
        "ExecuteTime": {
          "end_time": "2023-02-16T23:35:50.916670Z",
          "start_time": "2023-02-16T23:35:50.902175Z"
        },
        "id": "pPIVAYr6ebXP",
        "outputId": "6a0fc4bc-4a20-435a-e12e-592f0010c506"
      },
      "outputs": [
        {
          "data": {
            "text/plain": [
              "Timestamp('2010-01-01 00:51:00')"
            ]
          },
          "execution_count": 18,
          "metadata": {},
          "output_type": "execute_result"
        }
      ],
      "source": [
        "Xtime = df['time']\n",
        "Xtime[0]"
      ]
    },
    {
      "cell_type": "code",
      "execution_count": null,
      "metadata": {
        "ExecuteTime": {
          "end_time": "2023-02-16T23:31:37.331580Z",
          "start_time": "2023-02-16T23:31:37.331568Z"
        },
        "id": "IRugBMWZebXP"
      },
      "outputs": [],
      "source": [
        "diff = Xtime - Xtime[0]\n",
        "diff[100]"
      ]
    },
    {
      "cell_type": "code",
      "execution_count": null,
      "metadata": {
        "ExecuteTime": {
          "end_time": "2023-02-16T23:31:37.332846Z",
          "start_time": "2023-02-16T23:31:37.332834Z"
        },
        "id": "Dh8vJQthebXP"
      },
      "outputs": [],
      "source": [
        "#sns.lineplot(data=df, y= df['temp'], x=df['month'])"
      ]
    },
    {
      "cell_type": "code",
      "execution_count": null,
      "metadata": {
        "ExecuteTime": {
          "end_time": "2023-02-16T23:31:37.334361Z",
          "start_time": "2023-02-16T23:31:37.334347Z"
        },
        "id": "IYbDENcmebXP"
      },
      "outputs": [],
      "source": [
        "#sns.lineplot(data=df, y= df['temp'], x=df['hour'])"
      ]
    },
    {
      "cell_type": "markdown",
      "metadata": {
        "id": "ughSiBHPebXQ"
      },
      "source": [
        "Let's consider another way to deal with the seasonal terms.  Since we know that temperature is roughly sinusoidal, we know that a reasonable model might be\n",
        "\n",
        "$$ y_t = y_0 \\sin\\left(2\\pi\\frac{t - t_0}{T}\\right) + \\epsilon $$\n",
        "\n",
        "where $y_0$ and $t_0$ are parameters to be learned and $T$ is the period - one year for seasonal variation, one day for daily, etc.  While this is linear in $y_0$, it is not linear in $t_0$. However, we know from Fourier analysis, that the above is\n",
        "equivalent to\n",
        "\n",
        "$$ y_t = A \\sin\\left(2\\pi\\frac{t}{T}\\right) + B \\cos\\left(2\\pi\\frac{t}{T}\\right) + \\epsilon $$\n",
        "\n",
        "which is linear in $A$ and $B$.\n",
        "\n",
        "Create a model containing sinusoidal terms on one or more time scales, and fit it to the data using a linear regression.  Build a `fourier_factory` function that will return instances of this model."
      ]
    },
    {
      "cell_type": "code",
      "execution_count": null,
      "metadata": {
        "ExecuteTime": {
          "end_time": "2023-02-16T23:31:37.335439Z",
          "start_time": "2023-02-16T23:31:37.335427Z"
        },
        "id": "T9mNVfPsebXQ"
      },
      "outputs": [],
      "source": [
        "class FourierComponents(base.BaseEstimator, base.TransformerMixin):\n",
        "\n",
        "    def __init__(self, period):\n",
        "        self.period = period\n",
        "\n",
        "    def fit(self, X, y=None):\n",
        "        self.X0 = X.iloc[0]\n",
        "        return self\n",
        "\n",
        "    def transform(self, X):\n",
        "        dt = ((X - self.X0).dt.days + (X - self.X0).dt.seconds /(3600 * 24)) * 2 * np.pi / self.period\n",
        "        return np.c_[np.sin(dt), np.cos(dt)]"
      ]
    },
    {
      "cell_type": "code",
      "execution_count": null,
      "metadata": {
        "ExecuteTime": {
          "end_time": "2023-02-16T23:31:37.336650Z",
          "start_time": "2023-02-16T23:31:37.336639Z"
        },
        "id": "KxgyRfSkebXQ"
      },
      "outputs": [],
      "source": [
        "fourier_features = ColumnTransformer([('fcy', FourierComponents(1), 'time'), ('fcd', FourierComponents(365), 'time')])\n",
        "\n",
        "def fourier_factory():\n",
        "    return Pipeline([\n",
        "        ('extract_month_hour', ExtractMonthHour()),\n",
        "        ('FF', fourier_features), ###fourier_features.fit_transform()\n",
        "        #('lr', LinearRegression())\n",
        "        ('regressor', Ridge())])"
      ]
    },
    {
      "cell_type": "code",
      "execution_count": null,
      "metadata": {
        "ExecuteTime": {
          "end_time": "2023-02-16T23:31:37.338347Z",
          "start_time": "2023-02-16T23:31:37.338331Z"
        },
        "id": "UkeEZ0VSebXR"
      },
      "outputs": [],
      "source": [
        "fc = FourierComponents(1)\n",
        "#fc.fit_transform(Xtime)[:24]"
      ]
    },
    {
      "cell_type": "code",
      "execution_count": null,
      "metadata": {
        "ExecuteTime": {
          "end_time": "2023-02-16T23:31:37.339588Z",
          "start_time": "2023-02-16T23:31:37.339576Z"
        },
        "id": "nlF_DVy8ebXR"
      },
      "outputs": [],
      "source": [
        "fourier_features = ColumnTransformer([('fcy', FourierComponents(1), 'time'), ('fcd', FourierComponents(365), 'time')])\n",
        "fourier_features.fit_transform(df)"
      ]
    },
    {
      "cell_type": "code",
      "execution_count": null,
      "metadata": {
        "ExecuteTime": {
          "end_time": "2023-02-16T23:31:37.340594Z",
          "start_time": "2023-02-16T23:31:37.340582Z"
        },
        "id": "T34tm_JSebXR"
      },
      "outputs": [],
      "source": [
        "ExtractMonthHour().fit"
      ]
    },
    {
      "cell_type": "code",
      "execution_count": null,
      "metadata": {
        "ExecuteTime": {
          "end_time": "2023-02-16T23:31:37.341943Z",
          "start_time": "2023-02-16T23:31:37.341931Z"
        },
        "id": "X5NGgLw4ebXR"
      },
      "outputs": [],
      "source": [
        "fourier_features.fit_transform(ExtractMonthHour().fit_transform(df))"
      ]
    },
    {
      "cell_type": "code",
      "execution_count": null,
      "metadata": {
        "ExecuteTime": {
          "end_time": "2023-02-16T23:31:37.343295Z",
          "start_time": "2023-02-16T23:31:37.343279Z"
        },
        "id": "WZ-Yd0XAebXS"
      },
      "outputs": [],
      "source": [
        "Rg = Ridge().fit(fourier_features.fit_transform(ExtractMonthHour().fit_transform(df)), df['temp'])"
      ]
    },
    {
      "cell_type": "code",
      "execution_count": null,
      "metadata": {
        "ExecuteTime": {
          "end_time": "2023-02-16T23:31:37.344586Z",
          "start_time": "2023-02-16T23:31:37.344574Z"
        },
        "id": "8NbwmSpTebXS"
      },
      "outputs": [],
      "source": [
        "# GroupbyEstimator('station', Rg).fit(df, df['temp'])"
      ]
    },
    {
      "cell_type": "code",
      "execution_count": null,
      "metadata": {
        "ExecuteTime": {
          "end_time": "2023-02-16T23:31:37.345937Z",
          "start_time": "2023-02-16T23:31:37.345925Z"
        },
        "id": "QiI4so3xebXS"
      },
      "outputs": [],
      "source": [
        "#GroupbyEstimator('station', Rg).fit(df, df['temp'])"
      ]
    },
    {
      "cell_type": "code",
      "execution_count": null,
      "metadata": {
        "ExecuteTime": {
          "end_time": "2023-02-16T23:31:37.347270Z",
          "start_time": "2023-02-16T23:31:37.347258Z"
        },
        "id": "ibaIB7BdebXS"
      },
      "outputs": [],
      "source": [
        "X = df_nyc.drop(columns = ['temp'])\n",
        "y = df_nyc['temp']\n",
        "GroupbyEstimator('station', fourier_factory).fit(X,y)\n",
        "#GroupbyEstimator('station', season_factory).fit(X,y)"
      ]
    },
    {
      "cell_type": "markdown",
      "metadata": {
        "id": "2DzGz78CebXS"
      },
      "source": [
        "A general `GroupByEstimator` should be able to take the new factory function and build a model for each city."
      ]
    },
    {
      "cell_type": "code",
      "execution_count": null,
      "metadata": {
        "ExecuteTime": {
          "end_time": "2023-02-16T23:31:37.348836Z",
          "start_time": "2023-02-16T23:31:37.348823Z"
        },
        "id": "VLExQavPebXT"
      },
      "outputs": [],
      "source": [
        "fourier_model = GroupbyEstimator('station', fourier_factory).fit(df, df['temp'])"
      ]
    },
    {
      "cell_type": "markdown",
      "metadata": {
        "id": "LevQSgE2ebXT"
      },
      "source": [
        "Submit this model to the grader."
      ]
    },
    {
      "cell_type": "code",
      "execution_count": null,
      "metadata": {
        "ExecuteTime": {
          "end_time": "2023-02-16T23:31:37.350254Z",
          "start_time": "2023-02-16T23:31:37.350242Z"
        },
        "id": "tAZ0zP1debXU"
      },
      "outputs": [],
      "source": [
        "grader.score('ts__fourier_model', fourier_model.predict)"
      ]
    }
  ],
  "metadata": {
    "kernelspec": {
      "display_name": "Python3",
      "language": "python",
      "name": "python3"
    },
    "language_info": {
      "codemirror_mode": {
        "name": "ipython",
        "version": 3
      },
      "file_extension": ".py",
      "mimetype": "text/x-python",
      "name": "python",
      "nbconvert_exporter": "python",
      "pygments_lexer": "ipython3",
      "version": "3.9.7"
    },
    "nbclean": true,
    "colab": {
      "provenance": [],
      "include_colab_link": true
    }
  },
  "nbformat": 4,
  "nbformat_minor": 0
}